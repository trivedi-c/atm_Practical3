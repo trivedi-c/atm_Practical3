{
 "cells": [
  {
   "cell_type": "markdown",
   "metadata": {
    "Collapsed": "false"
   },
   "source": [
    "<img src='./img/egu21_logo.png' alt='Logo EU Copernicus EUMETSAT' align='left' width='25%'></img><img src='./img/atmos_logos.png' alt='Logo EU Copernicus EUMETSAT' align='right' width='65%'></img></span>\n",
    "\n",
    "<br>"
   ]
  },
  {
   "cell_type": "markdown",
   "metadata": {
    "Collapsed": "false"
   },
   "source": [
    "<br>"
   ]
  },
  {
   "cell_type": "markdown",
   "metadata": {
    "Collapsed": "false"
   },
   "source": [
    "<a href=\"./00_index.ipynb\"><< Index</a><br>\n",
    "<a href=\"./13_CAMS_European_air_quality_forecast_dust_concentration_exercise.ipynb\"><< 13 - CAMS European Air Quality Forecast - Dust - Exercise</a><span style=\"float:right;\"><a href=\"./15_Metop-ABC_GOME-2_AAI_L3_exercise.ipynb\">15 - Metop-ABC GOME-2 AAI Level 3 - Exercise >></a></span>"
   ]
  },
  {
   "cell_type": "markdown",
   "metadata": {},
   "source": [
    "<div class=\"alert alert-block alert-info\">\n",
    "<b>EXERCISE WORKBOOK</b>\n",
    "</div>"
   ]
  },
  {
   "cell_type": "markdown",
   "metadata": {},
   "source": [
    "<hr>"
   ]
  },
  {
   "cell_type": "markdown",
   "metadata": {
    "Collapsed": "false"
   },
   "source": [
    "# Sentinel-5P TROPOMI - Ultraviolet Aerosol Index (AI) - Level 2"
   ]
  },
  {
   "cell_type": "markdown",
   "metadata": {},
   "source": [
    "This notebook is an `exercise workbook` which allows you to practise the preparation of Sentinel-5P TROPOMI Aerosol Index Level-2 data to analyse a dust event at the beginning of February 2021."
   ]
  },
  {
   "cell_type": "markdown",
   "metadata": {},
   "source": [
    "### How it works"
   ]
  },
  {
   "cell_type": "markdown",
   "metadata": {},
   "source": [
    "This exercise workbook consists of two types of exercises:"
   ]
  },
  {
   "cell_type": "markdown",
   "metadata": {},
   "source": [
    "#### Coding assignments\n",
    "Coding assignments ask you to fill an empty code cell with code.\n",
    "You recognize `coding assignments` as the yellow-coloured boxes.\n",
    "\n",
    "<div class=\"alert alert-block alert-warning\">\n",
    "<b>Coding assignment</b>\n",
    "</div>"
   ]
  },
  {
   "cell_type": "markdown",
   "metadata": {},
   "source": [
    "#### Questions\n",
    "\n",
    "Questions ask you to reflect on a result and output. `Questions` are provided as green-coloured boxes.\n",
    "\n",
    "<div class=\"alert alert-block alert-success\">\n",
    "<b>Question</b>\n",
    "</div>"
   ]
  },
  {
   "cell_type": "markdown",
   "metadata": {},
   "source": [
    "<br>"
   ]
  },
  {
   "cell_type": "markdown",
   "metadata": {
    "Collapsed": "false"
   },
   "source": [
    "#### Outline:\n",
    "* [1 - Load and browse Sentinel-5P TROPOMI Aerosol Index Level 2 data](#load_browse_s5p2)\n",
    "* [2 - Retrieve the variable 'Aerosol index from 354 and 388 nm' as xarray.DataArray](#data_retrieve_s5p2)\n",
    "* [3 - Visualize 'Sentinel-5P TROPOMI aerosol index from 388 and 354 nm'](#visualize_s5p2)\n",
    "* [4 - Create a geographical subset for Europe](#subset_s5p2)"
   ]
  },
  {
   "cell_type": "markdown",
   "metadata": {},
   "source": [
    "<hr>"
   ]
  },
  {
   "cell_type": "markdown",
   "metadata": {
    "Collapsed": "false"
   },
   "source": [
    "##### Load required libraries"
   ]
  },
  {
   "cell_type": "code",
   "execution_count": 2,
   "metadata": {
    "Collapsed": "false"
   },
   "outputs": [],
   "source": [
    "%matplotlib inline\n",
    "import os\n",
    "import xarray as xr\n",
    "import numpy as np\n",
    "import netCDF4 as nc\n",
    "import pandas as pd\n",
    "\n",
    "from IPython.display import HTML\n",
    "\n",
    "import matplotlib.pyplot as plt\n",
    "import matplotlib.colors\n",
    "from matplotlib.cm import get_cmap\n",
    "from matplotlib import animation\n",
    "import cartopy.crs as ccrs\n",
    "from cartopy.mpl.gridliner import LONGITUDE_FORMATTER, LATITUDE_FORMATTER\n",
    "import cartopy.feature as cfeature\n",
    "\n",
    "from matplotlib.axes import Axes\n",
    "from cartopy.mpl.geoaxes import GeoAxes\n",
    "GeoAxes._pcolormesh_patched = Axes.pcolormesh\n",
    "\n",
    "import warnings\n",
    "warnings.simplefilter(action = \"ignore\", category = RuntimeWarning)\n",
    "warnings.simplefilter(action = \"ignore\", category = UserWarning)"
   ]
  },
  {
   "cell_type": "markdown",
   "metadata": {},
   "source": [
    "##### Load helper functions"
   ]
  },
  {
   "cell_type": "code",
   "execution_count": 3,
   "metadata": {},
   "outputs": [],
   "source": [
    "%run ./functions.ipynb"
   ]
  },
  {
   "cell_type": "markdown",
   "metadata": {
    "Collapsed": "false"
   },
   "source": [
    "<hr>"
   ]
  },
  {
   "cell_type": "markdown",
   "metadata": {},
   "source": [
    "### <a id='load_browse_s5p2'></a>Load and browse `Sentinel-5P TROPOMI Aerosol Index Level 2` data"
   ]
  },
  {
   "cell_type": "markdown",
   "metadata": {},
   "source": [
    "A Sentinel-5P TROPOMI Aerosol Index Level 2 file is organised in two groups: `PRODUCT` and `METADATA`. The `PRODUCT` group stores the main data fields of the product, including `latitude`, `longitude` and the variable itself. The `METADATA` group provides additional metadata items.\n",
    "\n",
    "Sentinel-5P TROPOMI variables have the following dimensions:\n",
    "* `scanline`: the number of measurements in the granule / along-track dimension index\n",
    "* `ground_pixel`: the number of spectra in a measurement / across-track dimension index\n",
    "* `time`: time reference for the data\n",
    "* `corner`: pixel corner index\n",
    "\n",
    "Sentinel-5P TROPOMI data is disseminated in `netCDF`. You can load a `netCDF` file with the `open_dataset()` function of the xarray library. In order to load the variable as part of a Sentinel-5P data files, you have to specify the following keyword arguments: \n",
    "- `group='PRODUCT'`: to load the `PRODUCT` group\n",
    "\n",
    "Let us load a Sentinel-5P TROPOMI data file as `xarray.Dataset` from 06 February 2021:"
   ]
  },
  {
   "cell_type": "code",
   "execution_count": 4,
   "metadata": {},
   "outputs": [
    {
     "data": {
      "text/html": [
       "<div><svg style=\"position: absolute; width: 0; height: 0; overflow: hidden\">\n",
       "<defs>\n",
       "<symbol id=\"icon-database\" viewBox=\"0 0 32 32\">\n",
       "<path d=\"M16 0c-8.837 0-16 2.239-16 5v4c0 2.761 7.163 5 16 5s16-2.239 16-5v-4c0-2.761-7.163-5-16-5z\"></path>\n",
       "<path d=\"M16 17c-8.837 0-16-2.239-16-5v6c0 2.761 7.163 5 16 5s16-2.239 16-5v-6c0 2.761-7.163 5-16 5z\"></path>\n",
       "<path d=\"M16 26c-8.837 0-16-2.239-16-5v6c0 2.761 7.163 5 16 5s16-2.239 16-5v-6c0 2.761-7.163 5-16 5z\"></path>\n",
       "</symbol>\n",
       "<symbol id=\"icon-file-text2\" viewBox=\"0 0 32 32\">\n",
       "<path d=\"M28.681 7.159c-0.694-0.947-1.662-2.053-2.724-3.116s-2.169-2.030-3.116-2.724c-1.612-1.182-2.393-1.319-2.841-1.319h-15.5c-1.378 0-2.5 1.121-2.5 2.5v27c0 1.378 1.122 2.5 2.5 2.5h23c1.378 0 2.5-1.122 2.5-2.5v-19.5c0-0.448-0.137-1.23-1.319-2.841zM24.543 5.457c0.959 0.959 1.712 1.825 2.268 2.543h-4.811v-4.811c0.718 0.556 1.584 1.309 2.543 2.268zM28 29.5c0 0.271-0.229 0.5-0.5 0.5h-23c-0.271 0-0.5-0.229-0.5-0.5v-27c0-0.271 0.229-0.5 0.5-0.5 0 0 15.499-0 15.5 0v7c0 0.552 0.448 1 1 1h7v19.5z\"></path>\n",
       "<path d=\"M23 26h-14c-0.552 0-1-0.448-1-1s0.448-1 1-1h14c0.552 0 1 0.448 1 1s-0.448 1-1 1z\"></path>\n",
       "<path d=\"M23 22h-14c-0.552 0-1-0.448-1-1s0.448-1 1-1h14c0.552 0 1 0.448 1 1s-0.448 1-1 1z\"></path>\n",
       "<path d=\"M23 18h-14c-0.552 0-1-0.448-1-1s0.448-1 1-1h14c0.552 0 1 0.448 1 1s-0.448 1-1 1z\"></path>\n",
       "</symbol>\n",
       "</defs>\n",
       "</svg>\n",
       "<style>/* CSS stylesheet for displaying xarray objects in jupyterlab.\n",
       " *\n",
       " */\n",
       "\n",
       ":root {\n",
       "  --xr-font-color0: var(--jp-content-font-color0, rgba(0, 0, 0, 1));\n",
       "  --xr-font-color2: var(--jp-content-font-color2, rgba(0, 0, 0, 0.54));\n",
       "  --xr-font-color3: var(--jp-content-font-color3, rgba(0, 0, 0, 0.38));\n",
       "  --xr-border-color: var(--jp-border-color2, #e0e0e0);\n",
       "  --xr-disabled-color: var(--jp-layout-color3, #bdbdbd);\n",
       "  --xr-background-color: var(--jp-layout-color0, white);\n",
       "  --xr-background-color-row-even: var(--jp-layout-color1, white);\n",
       "  --xr-background-color-row-odd: var(--jp-layout-color2, #eeeeee);\n",
       "}\n",
       "\n",
       "html[theme=dark],\n",
       "body.vscode-dark {\n",
       "  --xr-font-color0: rgba(255, 255, 255, 1);\n",
       "  --xr-font-color2: rgba(255, 255, 255, 0.54);\n",
       "  --xr-font-color3: rgba(255, 255, 255, 0.38);\n",
       "  --xr-border-color: #1F1F1F;\n",
       "  --xr-disabled-color: #515151;\n",
       "  --xr-background-color: #111111;\n",
       "  --xr-background-color-row-even: #111111;\n",
       "  --xr-background-color-row-odd: #313131;\n",
       "}\n",
       "\n",
       ".xr-wrap {\n",
       "  display: block;\n",
       "  min-width: 300px;\n",
       "  max-width: 700px;\n",
       "}\n",
       "\n",
       ".xr-text-repr-fallback {\n",
       "  /* fallback to plain text repr when CSS is not injected (untrusted notebook) */\n",
       "  display: none;\n",
       "}\n",
       "\n",
       ".xr-header {\n",
       "  padding-top: 6px;\n",
       "  padding-bottom: 6px;\n",
       "  margin-bottom: 4px;\n",
       "  border-bottom: solid 1px var(--xr-border-color);\n",
       "}\n",
       "\n",
       ".xr-header > div,\n",
       ".xr-header > ul {\n",
       "  display: inline;\n",
       "  margin-top: 0;\n",
       "  margin-bottom: 0;\n",
       "}\n",
       "\n",
       ".xr-obj-type,\n",
       ".xr-array-name {\n",
       "  margin-left: 2px;\n",
       "  margin-right: 10px;\n",
       "}\n",
       "\n",
       ".xr-obj-type {\n",
       "  color: var(--xr-font-color2);\n",
       "}\n",
       "\n",
       ".xr-sections {\n",
       "  padding-left: 0 !important;\n",
       "  display: grid;\n",
       "  grid-template-columns: 150px auto auto 1fr 20px 20px;\n",
       "}\n",
       "\n",
       ".xr-section-item {\n",
       "  display: contents;\n",
       "}\n",
       "\n",
       ".xr-section-item input {\n",
       "  display: none;\n",
       "}\n",
       "\n",
       ".xr-section-item input + label {\n",
       "  color: var(--xr-disabled-color);\n",
       "}\n",
       "\n",
       ".xr-section-item input:enabled + label {\n",
       "  cursor: pointer;\n",
       "  color: var(--xr-font-color2);\n",
       "}\n",
       "\n",
       ".xr-section-item input:enabled + label:hover {\n",
       "  color: var(--xr-font-color0);\n",
       "}\n",
       "\n",
       ".xr-section-summary {\n",
       "  grid-column: 1;\n",
       "  color: var(--xr-font-color2);\n",
       "  font-weight: 500;\n",
       "}\n",
       "\n",
       ".xr-section-summary > span {\n",
       "  display: inline-block;\n",
       "  padding-left: 0.5em;\n",
       "}\n",
       "\n",
       ".xr-section-summary-in:disabled + label {\n",
       "  color: var(--xr-font-color2);\n",
       "}\n",
       "\n",
       ".xr-section-summary-in + label:before {\n",
       "  display: inline-block;\n",
       "  content: '►';\n",
       "  font-size: 11px;\n",
       "  width: 15px;\n",
       "  text-align: center;\n",
       "}\n",
       "\n",
       ".xr-section-summary-in:disabled + label:before {\n",
       "  color: var(--xr-disabled-color);\n",
       "}\n",
       "\n",
       ".xr-section-summary-in:checked + label:before {\n",
       "  content: '▼';\n",
       "}\n",
       "\n",
       ".xr-section-summary-in:checked + label > span {\n",
       "  display: none;\n",
       "}\n",
       "\n",
       ".xr-section-summary,\n",
       ".xr-section-inline-details {\n",
       "  padding-top: 4px;\n",
       "  padding-bottom: 4px;\n",
       "}\n",
       "\n",
       ".xr-section-inline-details {\n",
       "  grid-column: 2 / -1;\n",
       "}\n",
       "\n",
       ".xr-section-details {\n",
       "  display: none;\n",
       "  grid-column: 1 / -1;\n",
       "  margin-bottom: 5px;\n",
       "}\n",
       "\n",
       ".xr-section-summary-in:checked ~ .xr-section-details {\n",
       "  display: contents;\n",
       "}\n",
       "\n",
       ".xr-array-wrap {\n",
       "  grid-column: 1 / -1;\n",
       "  display: grid;\n",
       "  grid-template-columns: 20px auto;\n",
       "}\n",
       "\n",
       ".xr-array-wrap > label {\n",
       "  grid-column: 1;\n",
       "  vertical-align: top;\n",
       "}\n",
       "\n",
       ".xr-preview {\n",
       "  color: var(--xr-font-color3);\n",
       "}\n",
       "\n",
       ".xr-array-preview,\n",
       ".xr-array-data {\n",
       "  padding: 0 5px !important;\n",
       "  grid-column: 2;\n",
       "}\n",
       "\n",
       ".xr-array-data,\n",
       ".xr-array-in:checked ~ .xr-array-preview {\n",
       "  display: none;\n",
       "}\n",
       "\n",
       ".xr-array-in:checked ~ .xr-array-data,\n",
       ".xr-array-preview {\n",
       "  display: inline-block;\n",
       "}\n",
       "\n",
       ".xr-dim-list {\n",
       "  display: inline-block !important;\n",
       "  list-style: none;\n",
       "  padding: 0 !important;\n",
       "  margin: 0;\n",
       "}\n",
       "\n",
       ".xr-dim-list li {\n",
       "  display: inline-block;\n",
       "  padding: 0;\n",
       "  margin: 0;\n",
       "}\n",
       "\n",
       ".xr-dim-list:before {\n",
       "  content: '(';\n",
       "}\n",
       "\n",
       ".xr-dim-list:after {\n",
       "  content: ')';\n",
       "}\n",
       "\n",
       ".xr-dim-list li:not(:last-child):after {\n",
       "  content: ',';\n",
       "  padding-right: 5px;\n",
       "}\n",
       "\n",
       ".xr-has-index {\n",
       "  font-weight: bold;\n",
       "}\n",
       "\n",
       ".xr-var-list,\n",
       ".xr-var-item {\n",
       "  display: contents;\n",
       "}\n",
       "\n",
       ".xr-var-item > div,\n",
       ".xr-var-item label,\n",
       ".xr-var-item > .xr-var-name span {\n",
       "  background-color: var(--xr-background-color-row-even);\n",
       "  margin-bottom: 0;\n",
       "}\n",
       "\n",
       ".xr-var-item > .xr-var-name:hover span {\n",
       "  padding-right: 5px;\n",
       "}\n",
       "\n",
       ".xr-var-list > li:nth-child(odd) > div,\n",
       ".xr-var-list > li:nth-child(odd) > label,\n",
       ".xr-var-list > li:nth-child(odd) > .xr-var-name span {\n",
       "  background-color: var(--xr-background-color-row-odd);\n",
       "}\n",
       "\n",
       ".xr-var-name {\n",
       "  grid-column: 1;\n",
       "}\n",
       "\n",
       ".xr-var-dims {\n",
       "  grid-column: 2;\n",
       "}\n",
       "\n",
       ".xr-var-dtype {\n",
       "  grid-column: 3;\n",
       "  text-align: right;\n",
       "  color: var(--xr-font-color2);\n",
       "}\n",
       "\n",
       ".xr-var-preview {\n",
       "  grid-column: 4;\n",
       "}\n",
       "\n",
       ".xr-var-name,\n",
       ".xr-var-dims,\n",
       ".xr-var-dtype,\n",
       ".xr-preview,\n",
       ".xr-attrs dt {\n",
       "  white-space: nowrap;\n",
       "  overflow: hidden;\n",
       "  text-overflow: ellipsis;\n",
       "  padding-right: 10px;\n",
       "}\n",
       "\n",
       ".xr-var-name:hover,\n",
       ".xr-var-dims:hover,\n",
       ".xr-var-dtype:hover,\n",
       ".xr-attrs dt:hover {\n",
       "  overflow: visible;\n",
       "  width: auto;\n",
       "  z-index: 1;\n",
       "}\n",
       "\n",
       ".xr-var-attrs,\n",
       ".xr-var-data {\n",
       "  display: none;\n",
       "  background-color: var(--xr-background-color) !important;\n",
       "  padding-bottom: 5px !important;\n",
       "}\n",
       "\n",
       ".xr-var-attrs-in:checked ~ .xr-var-attrs,\n",
       ".xr-var-data-in:checked ~ .xr-var-data {\n",
       "  display: block;\n",
       "}\n",
       "\n",
       ".xr-var-data > table {\n",
       "  float: right;\n",
       "}\n",
       "\n",
       ".xr-var-name span,\n",
       ".xr-var-data,\n",
       ".xr-attrs {\n",
       "  padding-left: 25px !important;\n",
       "}\n",
       "\n",
       ".xr-attrs,\n",
       ".xr-var-attrs,\n",
       ".xr-var-data {\n",
       "  grid-column: 1 / -1;\n",
       "}\n",
       "\n",
       "dl.xr-attrs {\n",
       "  padding: 0;\n",
       "  margin: 0;\n",
       "  display: grid;\n",
       "  grid-template-columns: 125px auto;\n",
       "}\n",
       "\n",
       ".xr-attrs dt, dd {\n",
       "  padding: 0;\n",
       "  margin: 0;\n",
       "  float: left;\n",
       "  padding-right: 10px;\n",
       "  width: auto;\n",
       "}\n",
       "\n",
       ".xr-attrs dt {\n",
       "  font-weight: normal;\n",
       "  grid-column: 1;\n",
       "}\n",
       "\n",
       ".xr-attrs dt:hover span {\n",
       "  display: inline-block;\n",
       "  background: var(--xr-background-color);\n",
       "  padding-right: 10px;\n",
       "}\n",
       "\n",
       ".xr-attrs dd {\n",
       "  grid-column: 2;\n",
       "  white-space: pre-wrap;\n",
       "  word-break: break-all;\n",
       "}\n",
       "\n",
       ".xr-icon-database,\n",
       ".xr-icon-file-text2 {\n",
       "  display: inline-block;\n",
       "  vertical-align: middle;\n",
       "  width: 1em;\n",
       "  height: 1.5em !important;\n",
       "  stroke-width: 0;\n",
       "  stroke: currentColor;\n",
       "  fill: currentColor;\n",
       "}\n",
       "</style><pre class='xr-text-repr-fallback'>&lt;xarray.Dataset&gt;\n",
       "Dimensions:                          (corner: 4, ground_pixel: 450, scanline: 4172, time: 1)\n",
       "Coordinates:\n",
       "  * scanline                         (scanline) float64 0.0 1.0 ... 4.171e+03\n",
       "  * ground_pixel                     (ground_pixel) float64 0.0 1.0 ... 449.0\n",
       "  * time                             (time) datetime64[ns] 2021-02-06\n",
       "  * corner                           (corner) float64 0.0 1.0 2.0 3.0\n",
       "    latitude                         (time, scanline, ground_pixel) float32 ...\n",
       "    longitude                        (time, scanline, ground_pixel) float32 ...\n",
       "Data variables:\n",
       "    delta_time                       (time, scanline) datetime64[ns] 2021-02-...\n",
       "    time_utc                         (time, scanline) object &#x27;2021-02-06T12:2...\n",
       "    qa_value                         (time, scanline, ground_pixel) float32 ...\n",
       "    aerosol_index_354_388            (time, scanline, ground_pixel) float32 ...\n",
       "    aerosol_index_340_380            (time, scanline, ground_pixel) float32 ...\n",
       "    aerosol_index_354_388_precision  (time, scanline, ground_pixel) float32 ...\n",
       "    aerosol_index_340_380_precision  (time, scanline, ground_pixel) float32 ...</pre><div class='xr-wrap' hidden><div class='xr-header'><div class='xr-obj-type'>xarray.Dataset</div></div><ul class='xr-sections'><li class='xr-section-item'><input id='section-0d1156fe-72ae-4fe0-90cf-19e55f649ab6' class='xr-section-summary-in' type='checkbox' disabled ><label for='section-0d1156fe-72ae-4fe0-90cf-19e55f649ab6' class='xr-section-summary'  title='Expand/collapse section'>Dimensions:</label><div class='xr-section-inline-details'><ul class='xr-dim-list'><li><span class='xr-has-index'>corner</span>: 4</li><li><span class='xr-has-index'>ground_pixel</span>: 450</li><li><span class='xr-has-index'>scanline</span>: 4172</li><li><span class='xr-has-index'>time</span>: 1</li></ul></div><div class='xr-section-details'></div></li><li class='xr-section-item'><input id='section-8fead7d0-e7c0-4470-ad02-7ddaf2a971d8' class='xr-section-summary-in' type='checkbox'  checked><label for='section-8fead7d0-e7c0-4470-ad02-7ddaf2a971d8' class='xr-section-summary' >Coordinates: <span>(6)</span></label><div class='xr-section-inline-details'></div><div class='xr-section-details'><ul class='xr-var-list'><li class='xr-var-item'><div class='xr-var-name'><span class='xr-has-index'>scanline</span></div><div class='xr-var-dims'>(scanline)</div><div class='xr-var-dtype'>float64</div><div class='xr-var-preview xr-preview'>0.0 1.0 2.0 ... 4.17e+03 4.171e+03</div><input id='attrs-1d18a5de-9d94-440f-80d2-3042f5fe48ec' class='xr-var-attrs-in' type='checkbox' ><label for='attrs-1d18a5de-9d94-440f-80d2-3042f5fe48ec' title='Show/Hide attributes'><svg class='icon xr-icon-file-text2'><use xlink:href='#icon-file-text2'></use></svg></label><input id='data-469a9950-30bb-4f79-b8e8-528be3bb1350' class='xr-var-data-in' type='checkbox'><label for='data-469a9950-30bb-4f79-b8e8-528be3bb1350' title='Show/Hide data repr'><svg class='icon xr-icon-database'><use xlink:href='#icon-database'></use></svg></label><div class='xr-var-attrs'><dl class='xr-attrs'><dt><span>units :</span></dt><dd>1</dd><dt><span>axis :</span></dt><dd>Y</dd><dt><span>long_name :</span></dt><dd>along-track dimension index</dd><dt><span>comment :</span></dt><dd>This coordinate variable defines the indices along track; index starts at 0</dd></dl></div><div class='xr-var-data'><pre>array([0.000e+00, 1.000e+00, 2.000e+00, ..., 4.169e+03, 4.170e+03, 4.171e+03])</pre></div></li><li class='xr-var-item'><div class='xr-var-name'><span class='xr-has-index'>ground_pixel</span></div><div class='xr-var-dims'>(ground_pixel)</div><div class='xr-var-dtype'>float64</div><div class='xr-var-preview xr-preview'>0.0 1.0 2.0 ... 447.0 448.0 449.0</div><input id='attrs-2f1aae0f-48e0-4680-a563-651fb68023f0' class='xr-var-attrs-in' type='checkbox' ><label for='attrs-2f1aae0f-48e0-4680-a563-651fb68023f0' title='Show/Hide attributes'><svg class='icon xr-icon-file-text2'><use xlink:href='#icon-file-text2'></use></svg></label><input id='data-c8ef8671-b4f7-41b4-af24-79985f9200a6' class='xr-var-data-in' type='checkbox'><label for='data-c8ef8671-b4f7-41b4-af24-79985f9200a6' title='Show/Hide data repr'><svg class='icon xr-icon-database'><use xlink:href='#icon-database'></use></svg></label><div class='xr-var-attrs'><dl class='xr-attrs'><dt><span>units :</span></dt><dd>1</dd><dt><span>axis :</span></dt><dd>X</dd><dt><span>long_name :</span></dt><dd>across-track dimension index</dd><dt><span>comment :</span></dt><dd>This coordinate variable defines the indices across track, from west to east; index starts at 0</dd></dl></div><div class='xr-var-data'><pre>array([  0.,   1.,   2., ..., 447., 448., 449.])</pre></div></li><li class='xr-var-item'><div class='xr-var-name'><span class='xr-has-index'>time</span></div><div class='xr-var-dims'>(time)</div><div class='xr-var-dtype'>datetime64[ns]</div><div class='xr-var-preview xr-preview'>2021-02-06</div><input id='attrs-db14c2ca-76bc-4f04-bd45-8478231cc59b' class='xr-var-attrs-in' type='checkbox' ><label for='attrs-db14c2ca-76bc-4f04-bd45-8478231cc59b' title='Show/Hide attributes'><svg class='icon xr-icon-file-text2'><use xlink:href='#icon-file-text2'></use></svg></label><input id='data-8fb42d5c-6c56-4ca9-aab9-eccf361e2ccd' class='xr-var-data-in' type='checkbox'><label for='data-8fb42d5c-6c56-4ca9-aab9-eccf361e2ccd' title='Show/Hide data repr'><svg class='icon xr-icon-database'><use xlink:href='#icon-database'></use></svg></label><div class='xr-var-attrs'><dl class='xr-attrs'><dt><span>standard_name :</span></dt><dd>time</dd><dt><span>axis :</span></dt><dd>T</dd><dt><span>long_name :</span></dt><dd>reference time for the measurements</dd><dt><span>comment :</span></dt><dd>The time in this variable corresponds to the time in the time_reference global attribute</dd></dl></div><div class='xr-var-data'><pre>array([&#x27;2021-02-06T00:00:00.000000000&#x27;], dtype=&#x27;datetime64[ns]&#x27;)</pre></div></li><li class='xr-var-item'><div class='xr-var-name'><span class='xr-has-index'>corner</span></div><div class='xr-var-dims'>(corner)</div><div class='xr-var-dtype'>float64</div><div class='xr-var-preview xr-preview'>0.0 1.0 2.0 3.0</div><input id='attrs-20e7613d-ef93-4166-84f8-8ded7a166f35' class='xr-var-attrs-in' type='checkbox' ><label for='attrs-20e7613d-ef93-4166-84f8-8ded7a166f35' title='Show/Hide attributes'><svg class='icon xr-icon-file-text2'><use xlink:href='#icon-file-text2'></use></svg></label><input id='data-381eb6fc-162c-421a-b218-13f7a66d47a7' class='xr-var-data-in' type='checkbox'><label for='data-381eb6fc-162c-421a-b218-13f7a66d47a7' title='Show/Hide data repr'><svg class='icon xr-icon-database'><use xlink:href='#icon-database'></use></svg></label><div class='xr-var-attrs'><dl class='xr-attrs'><dt><span>units :</span></dt><dd>1</dd><dt><span>long_name :</span></dt><dd>pixel corner index</dd><dt><span>comment :</span></dt><dd>This coordinate variable defines the indices for the pixel corners; index starts at 0 (counter-clockwise, starting from south-western corner of the pixel in ascending part of the orbit)</dd></dl></div><div class='xr-var-data'><pre>array([0., 1., 2., 3.])</pre></div></li><li class='xr-var-item'><div class='xr-var-name'><span>latitude</span></div><div class='xr-var-dims'>(time, scanline, ground_pixel)</div><div class='xr-var-dtype'>float32</div><div class='xr-var-preview xr-preview'>...</div><input id='attrs-8711332b-60c1-4a19-81ca-dc8ac44bb030' class='xr-var-attrs-in' type='checkbox' ><label for='attrs-8711332b-60c1-4a19-81ca-dc8ac44bb030' title='Show/Hide attributes'><svg class='icon xr-icon-file-text2'><use xlink:href='#icon-file-text2'></use></svg></label><input id='data-56d69c95-8976-4a81-b843-b48189775c8e' class='xr-var-data-in' type='checkbox'><label for='data-56d69c95-8976-4a81-b843-b48189775c8e' title='Show/Hide data repr'><svg class='icon xr-icon-database'><use xlink:href='#icon-database'></use></svg></label><div class='xr-var-attrs'><dl class='xr-attrs'><dt><span>long_name :</span></dt><dd>pixel center latitude</dd><dt><span>units :</span></dt><dd>degrees_north</dd><dt><span>standard_name :</span></dt><dd>latitude</dd><dt><span>valid_min :</span></dt><dd>-90.0</dd><dt><span>valid_max :</span></dt><dd>90.0</dd><dt><span>bounds :</span></dt><dd>/PRODUCT/SUPPORT_DATA/GEOLOCATIONS/latitude_bounds</dd></dl></div><div class='xr-var-data'><pre>[1877400 values with dtype=float32]</pre></div></li><li class='xr-var-item'><div class='xr-var-name'><span>longitude</span></div><div class='xr-var-dims'>(time, scanline, ground_pixel)</div><div class='xr-var-dtype'>float32</div><div class='xr-var-preview xr-preview'>...</div><input id='attrs-39f090b5-ee28-403e-9371-6f99e7ee444c' class='xr-var-attrs-in' type='checkbox' ><label for='attrs-39f090b5-ee28-403e-9371-6f99e7ee444c' title='Show/Hide attributes'><svg class='icon xr-icon-file-text2'><use xlink:href='#icon-file-text2'></use></svg></label><input id='data-6b557192-feca-4748-8943-c5658d4f9e83' class='xr-var-data-in' type='checkbox'><label for='data-6b557192-feca-4748-8943-c5658d4f9e83' title='Show/Hide data repr'><svg class='icon xr-icon-database'><use xlink:href='#icon-database'></use></svg></label><div class='xr-var-attrs'><dl class='xr-attrs'><dt><span>long_name :</span></dt><dd>pixel center longitude</dd><dt><span>units :</span></dt><dd>degrees_east</dd><dt><span>standard_name :</span></dt><dd>longitude</dd><dt><span>valid_min :</span></dt><dd>-180.0</dd><dt><span>valid_max :</span></dt><dd>180.0</dd><dt><span>bounds :</span></dt><dd>/PRODUCT/SUPPORT_DATA/GEOLOCATIONS/longitude_bounds</dd></dl></div><div class='xr-var-data'><pre>[1877400 values with dtype=float32]</pre></div></li></ul></div></li><li class='xr-section-item'><input id='section-e02cdf24-7b9a-45a3-aa99-982e3b11e3a4' class='xr-section-summary-in' type='checkbox'  checked><label for='section-e02cdf24-7b9a-45a3-aa99-982e3b11e3a4' class='xr-section-summary' >Data variables: <span>(7)</span></label><div class='xr-section-inline-details'></div><div class='xr-section-details'><ul class='xr-var-list'><li class='xr-var-item'><div class='xr-var-name'><span>delta_time</span></div><div class='xr-var-dims'>(time, scanline)</div><div class='xr-var-dtype'>datetime64[ns]</div><div class='xr-var-preview xr-preview'>...</div><input id='attrs-3899f78e-6eed-4c14-9d2c-3088633d9b14' class='xr-var-attrs-in' type='checkbox' ><label for='attrs-3899f78e-6eed-4c14-9d2c-3088633d9b14' title='Show/Hide attributes'><svg class='icon xr-icon-file-text2'><use xlink:href='#icon-file-text2'></use></svg></label><input id='data-e06a2694-92bf-426f-a9f0-00e4e40d009f' class='xr-var-data-in' type='checkbox'><label for='data-e06a2694-92bf-426f-a9f0-00e4e40d009f' title='Show/Hide data repr'><svg class='icon xr-icon-database'><use xlink:href='#icon-database'></use></svg></label><div class='xr-var-attrs'><dl class='xr-attrs'><dt><span>long_name :</span></dt><dd>offset of start time of measurement relative to time_reference</dd></dl></div><div class='xr-var-data'><pre>array([[&#x27;2021-02-06T12:28:48.299000000&#x27;, &#x27;2021-02-06T12:28:49.139000000&#x27;,\n",
       "        &#x27;2021-02-06T12:28:49.979000000&#x27;, ..., &#x27;2021-02-06T13:27:10.180000000&#x27;,\n",
       "        &#x27;2021-02-06T13:27:11.020000000&#x27;, &#x27;2021-02-06T13:27:11.860000000&#x27;]],\n",
       "      dtype=&#x27;datetime64[ns]&#x27;)</pre></div></li><li class='xr-var-item'><div class='xr-var-name'><span>time_utc</span></div><div class='xr-var-dims'>(time, scanline)</div><div class='xr-var-dtype'>object</div><div class='xr-var-preview xr-preview'>...</div><input id='attrs-14a06754-4f48-424c-82d5-b4da4adf0738' class='xr-var-attrs-in' type='checkbox' ><label for='attrs-14a06754-4f48-424c-82d5-b4da4adf0738' title='Show/Hide attributes'><svg class='icon xr-icon-file-text2'><use xlink:href='#icon-file-text2'></use></svg></label><input id='data-6312ff7b-2a1b-4f8e-83d3-f443ba7d3b1e' class='xr-var-data-in' type='checkbox'><label for='data-6312ff7b-2a1b-4f8e-83d3-f443ba7d3b1e' title='Show/Hide data repr'><svg class='icon xr-icon-database'><use xlink:href='#icon-database'></use></svg></label><div class='xr-var-attrs'><dl class='xr-attrs'><dt><span>long_name :</span></dt><dd>Time of observation as ISO 8601 date-time string</dd></dl></div><div class='xr-var-data'><pre>array([[&#x27;2021-02-06T12:28:48.299000Z&#x27;, &#x27;2021-02-06T12:28:49.139000Z&#x27;,\n",
       "        &#x27;2021-02-06T12:28:49.979000Z&#x27;, ..., &#x27;2021-02-06T13:27:10.180000Z&#x27;,\n",
       "        &#x27;2021-02-06T13:27:11.020000Z&#x27;, &#x27;2021-02-06T13:27:11.860000Z&#x27;]],\n",
       "      dtype=object)</pre></div></li><li class='xr-var-item'><div class='xr-var-name'><span>qa_value</span></div><div class='xr-var-dims'>(time, scanline, ground_pixel)</div><div class='xr-var-dtype'>float32</div><div class='xr-var-preview xr-preview'>...</div><input id='attrs-648516bb-a480-47fd-a9a0-e9b0b0231976' class='xr-var-attrs-in' type='checkbox' ><label for='attrs-648516bb-a480-47fd-a9a0-e9b0b0231976' title='Show/Hide attributes'><svg class='icon xr-icon-file-text2'><use xlink:href='#icon-file-text2'></use></svg></label><input id='data-6270c334-8ee3-4886-9970-250cd0e64b34' class='xr-var-data-in' type='checkbox'><label for='data-6270c334-8ee3-4886-9970-250cd0e64b34' title='Show/Hide data repr'><svg class='icon xr-icon-database'><use xlink:href='#icon-database'></use></svg></label><div class='xr-var-attrs'><dl class='xr-attrs'><dt><span>units :</span></dt><dd>1</dd><dt><span>valid_min_ :</span></dt><dd>0</dd><dt><span>valid_max_ :</span></dt><dd>100</dd><dt><span>long_name :</span></dt><dd>data quality value</dd><dt><span>comment :</span></dt><dd>A continuous quality descriptor, varying between 0 (no data) and 1 (full quality data). Recommend to ignore data with qa_value &lt; 0.5</dd></dl></div><div class='xr-var-data'><pre>[1877400 values with dtype=float32]</pre></div></li><li class='xr-var-item'><div class='xr-var-name'><span>aerosol_index_354_388</span></div><div class='xr-var-dims'>(time, scanline, ground_pixel)</div><div class='xr-var-dtype'>float32</div><div class='xr-var-preview xr-preview'>...</div><input id='attrs-cd960c64-5f9e-4879-9853-5d043f87c103' class='xr-var-attrs-in' type='checkbox' ><label for='attrs-cd960c64-5f9e-4879-9853-5d043f87c103' title='Show/Hide attributes'><svg class='icon xr-icon-file-text2'><use xlink:href='#icon-file-text2'></use></svg></label><input id='data-4cddd9ba-33a7-4109-ad1b-0d6c1364e88a' class='xr-var-data-in' type='checkbox'><label for='data-4cddd9ba-33a7-4109-ad1b-0d6c1364e88a' title='Show/Hide data repr'><svg class='icon xr-icon-database'><use xlink:href='#icon-database'></use></svg></label><div class='xr-var-attrs'><dl class='xr-attrs'><dt><span>units :</span></dt><dd>1</dd><dt><span>proposed_standard_name :</span></dt><dd>ultraviolet_aerosol_index</dd><dt><span>comment :</span></dt><dd>Aerosol index from 388 and 354 nm</dd><dt><span>long_name :</span></dt><dd>Aerosol index from 388 and 354 nm</dd><dt><span>radiation_wavelength :</span></dt><dd>[354. 388.]</dd><dt><span>ancillary_variables :</span></dt><dd>aerosol_index_354_388_precision</dd></dl></div><div class='xr-var-data'><pre>[1877400 values with dtype=float32]</pre></div></li><li class='xr-var-item'><div class='xr-var-name'><span>aerosol_index_340_380</span></div><div class='xr-var-dims'>(time, scanline, ground_pixel)</div><div class='xr-var-dtype'>float32</div><div class='xr-var-preview xr-preview'>...</div><input id='attrs-94355796-a657-4fd9-9942-282304c06ddb' class='xr-var-attrs-in' type='checkbox' ><label for='attrs-94355796-a657-4fd9-9942-282304c06ddb' title='Show/Hide attributes'><svg class='icon xr-icon-file-text2'><use xlink:href='#icon-file-text2'></use></svg></label><input id='data-1be586e3-6a9f-4d0d-8482-a2e457be6dd0' class='xr-var-data-in' type='checkbox'><label for='data-1be586e3-6a9f-4d0d-8482-a2e457be6dd0' title='Show/Hide data repr'><svg class='icon xr-icon-database'><use xlink:href='#icon-database'></use></svg></label><div class='xr-var-attrs'><dl class='xr-attrs'><dt><span>units :</span></dt><dd>1</dd><dt><span>proposed_standard_name :</span></dt><dd>ultraviolet_aerosol_index</dd><dt><span>comment :</span></dt><dd>Aerosol index from 380 and 340 nm</dd><dt><span>long_name :</span></dt><dd>Aerosol index from 380 and 340 nm</dd><dt><span>radiation_wavelength :</span></dt><dd>[340. 380.]</dd><dt><span>ancillary_variables :</span></dt><dd>aerosol_index_340_380_precision</dd></dl></div><div class='xr-var-data'><pre>[1877400 values with dtype=float32]</pre></div></li><li class='xr-var-item'><div class='xr-var-name'><span>aerosol_index_354_388_precision</span></div><div class='xr-var-dims'>(time, scanline, ground_pixel)</div><div class='xr-var-dtype'>float32</div><div class='xr-var-preview xr-preview'>...</div><input id='attrs-b620c62b-1c34-4ef7-b475-73fc8f833169' class='xr-var-attrs-in' type='checkbox' ><label for='attrs-b620c62b-1c34-4ef7-b475-73fc8f833169' title='Show/Hide attributes'><svg class='icon xr-icon-file-text2'><use xlink:href='#icon-file-text2'></use></svg></label><input id='data-bda8fb52-da08-44e4-a732-f3fd984b5bde' class='xr-var-data-in' type='checkbox'><label for='data-bda8fb52-da08-44e4-a732-f3fd984b5bde' title='Show/Hide data repr'><svg class='icon xr-icon-database'><use xlink:href='#icon-database'></use></svg></label><div class='xr-var-attrs'><dl class='xr-attrs'><dt><span>units :</span></dt><dd>1</dd><dt><span>proposed_standard_name :</span></dt><dd>ultraviolet_aerosol_index standard_error</dd><dt><span>comment :</span></dt><dd>Precision of aerosol index from 388 and 354 nm</dd><dt><span>long_name :</span></dt><dd>Precision of aerosol index from 388 and 354 nm</dd><dt><span>radiation_wavelength :</span></dt><dd>[354. 388.]</dd></dl></div><div class='xr-var-data'><pre>[1877400 values with dtype=float32]</pre></div></li><li class='xr-var-item'><div class='xr-var-name'><span>aerosol_index_340_380_precision</span></div><div class='xr-var-dims'>(time, scanline, ground_pixel)</div><div class='xr-var-dtype'>float32</div><div class='xr-var-preview xr-preview'>...</div><input id='attrs-3acfc46a-9186-4840-90a3-5e2d0130c0d1' class='xr-var-attrs-in' type='checkbox' ><label for='attrs-3acfc46a-9186-4840-90a3-5e2d0130c0d1' title='Show/Hide attributes'><svg class='icon xr-icon-file-text2'><use xlink:href='#icon-file-text2'></use></svg></label><input id='data-09f72faa-903d-4953-b8c6-bef6aa9e0520' class='xr-var-data-in' type='checkbox'><label for='data-09f72faa-903d-4953-b8c6-bef6aa9e0520' title='Show/Hide data repr'><svg class='icon xr-icon-database'><use xlink:href='#icon-database'></use></svg></label><div class='xr-var-attrs'><dl class='xr-attrs'><dt><span>units :</span></dt><dd>1</dd><dt><span>proposed_standard_name :</span></dt><dd>ultraviolet_aerosol_index standard_error</dd><dt><span>comment :</span></dt><dd>Precision of aerosol index from 380 and 340 nm</dd><dt><span>long_name :</span></dt><dd>Precision of aerosol index from 380 and 340 nm</dd><dt><span>radiation_wavelength :</span></dt><dd>[340. 380.]</dd></dl></div><div class='xr-var-data'><pre>[1877400 values with dtype=float32]</pre></div></li></ul></div></li><li class='xr-section-item'><input id='section-536877a4-0ce0-4312-a661-7de8df390c10' class='xr-section-summary-in' type='checkbox' disabled ><label for='section-536877a4-0ce0-4312-a661-7de8df390c10' class='xr-section-summary'  title='Expand/collapse section'>Attributes: <span>(0)</span></label><div class='xr-section-inline-details'></div><div class='xr-section-details'><dl class='xr-attrs'></dl></div></li></ul></div></div>"
      ],
      "text/plain": [
       "<xarray.Dataset>\n",
       "Dimensions:                          (corner: 4, ground_pixel: 450, scanline: 4172, time: 1)\n",
       "Coordinates:\n",
       "  * scanline                         (scanline) float64 0.0 1.0 ... 4.171e+03\n",
       "  * ground_pixel                     (ground_pixel) float64 0.0 1.0 ... 449.0\n",
       "  * time                             (time) datetime64[ns] 2021-02-06\n",
       "  * corner                           (corner) float64 0.0 1.0 2.0 3.0\n",
       "    latitude                         (time, scanline, ground_pixel) float32 ...\n",
       "    longitude                        (time, scanline, ground_pixel) float32 ...\n",
       "Data variables:\n",
       "    delta_time                       (time, scanline) datetime64[ns] ...\n",
       "    time_utc                         (time, scanline) object ...\n",
       "    qa_value                         (time, scanline, ground_pixel) float32 ...\n",
       "    aerosol_index_354_388            (time, scanline, ground_pixel) float32 ...\n",
       "    aerosol_index_340_380            (time, scanline, ground_pixel) float32 ...\n",
       "    aerosol_index_354_388_precision  (time, scanline, ground_pixel) float32 ...\n",
       "    aerosol_index_340_380_precision  (time, scanline, ground_pixel) float32 ..."
      ]
     },
     "execution_count": 4,
     "metadata": {},
     "output_type": "execute_result"
    }
   ],
   "source": [
    "file = xr.open_dataset('./eodata/sentinel5p/ai/2021/02/06/S5P_OFFL_L2__AER_AI_20210206T120713_20210206T134843_17197_01_010400_20210208T015719.nc', group='PRODUCT')\n",
    "file\n",
    "\n"
   ]
  },
  {
   "cell_type": "markdown",
   "metadata": {},
   "source": [
    "<br>"
   ]
  },
  {
   "cell_type": "markdown",
   "metadata": {},
   "source": [
    "<div class=\"alert alert-block alert-success\">\n",
    "<b>Question:</b><br>\n",
    "   Look at the loaded xarray.Dataset and identify the dimensions. What data variables are available in the data file?\n",
    "</div>"
   ]
  },
  {
   "cell_type": "markdown",
   "metadata": {},
   "source": [
    "<br>"
   ]
  },
  {
   "cell_type": "markdown",
   "metadata": {},
   "source": [
    "### <a id='data_retrieve_s5p2'></a>Retrieve the variable `Aerosol index from 354 and 388 nm` as xarray.DataArray"
   ]
  },
  {
   "cell_type": "markdown",
   "metadata": {},
   "source": [
    "As a next step, you want to load one specific data variable from the `xarray.Dataset` above."
   ]
  },
  {
   "cell_type": "markdown",
   "metadata": {},
   "source": [
    "<div class=\"alert alert-block alert-warning\">\n",
    "<b>Coding assignment:</b><br>\n",
    "\n",
    "Enter below the code which selects the data variable <b>aerosol_index_354_388</b> from the xarray.Dataset <i>file</i> and call it <b>ai</b>. \n",
    "</div>"
   ]
  },
  {
   "cell_type": "code",
   "execution_count": null,
   "metadata": {},
   "outputs": [],
   "source": [
    "# Enter your solution here\n",
    "\n",
    "\n",
    "\n",
    "\n",
    "\n"
   ]
  },
  {
   "cell_type": "markdown",
   "metadata": {},
   "source": [
    "<br>"
   ]
  },
  {
   "cell_type": "markdown",
   "metadata": {},
   "source": [
    "<div class=\"alert alert-block alert-success\">\n",
    "<b>Question:</b><br>\n",
    "    \n",
    "Can you identify the `long_name` of the selected data variable and do you know where it is stored?\n",
    "</div>"
   ]
  },
  {
   "cell_type": "markdown",
   "metadata": {},
   "source": [
    "<br>"
   ]
  },
  {
   "cell_type": "markdown",
   "metadata": {},
   "source": [
    "You see that the `xarray.DataArray` has three dimensions, with the dimension time only having one entry. Let us select the single time step, in order to have the two-dimensional data array."
   ]
  },
  {
   "cell_type": "markdown",
   "metadata": {},
   "source": [
    "<div class=\"alert alert-block alert-warning\">\n",
    "<b>Coding assignment:</b><br>\n",
    "\n",
    "Enter below the code which selects the one time step from the xarray.DataArray `ai` and call it <b>ai_0602</b> \n",
    "</div>"
   ]
  },
  {
   "cell_type": "code",
   "execution_count": null,
   "metadata": {},
   "outputs": [],
   "source": [
    "# Enter your solution here\n",
    "\n",
    "\n",
    "\n",
    "\n",
    "\n",
    "\n",
    "\n",
    "\n"
   ]
  },
  {
   "cell_type": "markdown",
   "metadata": {},
   "source": [
    "<br>"
   ]
  },
  {
   "cell_type": "markdown",
   "metadata": {},
   "source": [
    "Additionally, you can save the attributes `units` and `longname`, which you can make use of when visualizing the data."
   ]
  },
  {
   "cell_type": "markdown",
   "metadata": {},
   "source": [
    "<div class=\"alert alert-block alert-warning\">\n",
    "<b>Coding assignment:</b><br>\n",
    "\n",
    "Enter below the code which selects the following attributes: \n",
    "* `long_name` and \n",
    "* `units`.\n",
    "    \n",
    "Call the variables `longname` and `units` respectively.\n",
    "</div>"
   ]
  },
  {
   "cell_type": "code",
   "execution_count": null,
   "metadata": {},
   "outputs": [],
   "source": [
    "# Enter your solution here\n",
    "\n",
    "\n",
    "\n",
    "\n",
    "\n",
    "\n",
    "\n"
   ]
  },
  {
   "cell_type": "markdown",
   "metadata": {},
   "source": [
    "<br>"
   ]
  },
  {
   "cell_type": "markdown",
   "metadata": {},
   "source": [
    "### <a id='visualize_s5p2'></a>Visualize `Sentinel-5P TROPOMI aerosol index from 388 and 354 nm`"
   ]
  },
  {
   "cell_type": "markdown",
   "metadata": {},
   "source": [
    "The next step is to visualize the dataset."
   ]
  },
  {
   "cell_type": "markdown",
   "metadata": {},
   "source": [
    "<div class=\"alert alert-block alert-warning\">\n",
    "<b>Coding assignment:</b><br>\n",
    "\n",
    "Make use of the function [visualize_pcolormesh](../functions.ipynb#visualize_pcolormesh) in order to visualize the xarray.DataArray <code>ai_0602</code>. <br>\n",
    "    \n",
    "The following kwargs have to be defined:\n",
    "* `data_array`\n",
    "* `longitude`\n",
    "* `latitude`\n",
    "* `projection`\n",
    "* `color_sale`\n",
    "* `unit`\n",
    "* `longname`\n",
    "* `vmin`,\n",
    "* `vmax`,\n",
    "* `lonmin`, `lonmax`, `latmin`, `latmax`\n",
    "* `set_global`\n",
    "    \n",
    "Note: with `?visualize_pcolormesh` you can open the function's docstring to see what keyword arguments are needed to prepare your plot.\n",
    "\n",
    "</div>"
   ]
  },
  {
   "cell_type": "code",
   "execution_count": null,
   "metadata": {},
   "outputs": [],
   "source": [
    "# Enter your solution here\n",
    "\n",
    "\n",
    "\n",
    "\n",
    "\n",
    "\n",
    "\n",
    "\n",
    "\n"
   ]
  },
  {
   "cell_type": "markdown",
   "metadata": {},
   "source": [
    "<br>"
   ]
  },
  {
   "cell_type": "markdown",
   "metadata": {},
   "source": [
    "### <a id='subset_s5p2'></a>Create a geographical subset for Europe"
   ]
  },
  {
   "cell_type": "markdown",
   "metadata": {},
   "source": [
    "The map above shows the aerosol index of one footprint along the entire latitude range. Let us create a geographical subset for Europe, in order to better analyse the Saharan dust event over Europe."
   ]
  },
  {
   "cell_type": "markdown",
   "metadata": {},
   "source": [
    "<div class=\"alert alert-block alert-warning\">\n",
    "<b>Coding assignment:</b><br>\n",
    "\n",
    "Create a geographical subset for Europe. Make use of the function <a href='../functions.ipynb#generate_geographical_subset'>generate_geographical_subset</a> and call the new DataArray <code>ai_0602_subset</code>.<br>\n",
    "\n",
    "The bounding box information can be the following:<br>\n",
    "- **latmin=28.**\n",
    "- **latmax=71.**\n",
    "- **lonmin=-22.**\n",
    "- **lonmax=43**\n",
    "\n",
    "<b>HINT:</b><br> With `?generate_geographical_subset`, you can see what keyword arguments the function requires.\n",
    "\n",
    "</div>"
   ]
  },
  {
   "cell_type": "code",
   "execution_count": null,
   "metadata": {},
   "outputs": [],
   "source": [
    "# Enter your solution here\n",
    "\n",
    "\n",
    "\n",
    "\n",
    "\n"
   ]
  },
  {
   "cell_type": "markdown",
   "metadata": {},
   "source": [
    "<br>"
   ]
  },
  {
   "cell_type": "markdown",
   "metadata": {},
   "source": [
    "<div class=\"alert alert-block alert-success\">\n",
    "<b>Question:</b><br>\n",
    "\n",
    "How many entries for `scanline` does the DataArray **ai_0602_subset** have compared to the DataArray **ai_0602**?\n",
    "</div>"
   ]
  },
  {
   "cell_type": "markdown",
   "metadata": {},
   "source": [
    "<br>"
   ]
  },
  {
   "cell_type": "markdown",
   "metadata": {},
   "source": [
    "Let us now visualize the subsetted `xarray.DataArray` over Europe."
   ]
  },
  {
   "cell_type": "markdown",
   "metadata": {},
   "source": [
    "<div class=\"alert alert-block alert-warning\">\n",
    "<b>Coding assignment:</b><br>\n",
    "\n",
    "Make use of the function [visualize_pcolormesh](../functions.ipynb#visualize_pcolormesh) in order to visualize the subsetted DataArray <code>ai_0602_subset</code>. <br>\n",
    "    \n",
    "Make sure to set the `set_global` kwarg to `False` and specify the latitude and longitude bounding box to the ones specified for Europe.\n",
    "\n",
    "Try also to add the time information as part of the title. Add the string of the datetime information to the `longname` variable: `longname + ' ' + str(ai_0602_subset.time.data)`."
   ]
  },
  {
   "cell_type": "code",
   "execution_count": null,
   "metadata": {},
   "outputs": [],
   "source": [
    "# Enter your solution here\n",
    "\n",
    "\n",
    "\n",
    "\n",
    "\n",
    "\n"
   ]
  },
  {
   "cell_type": "markdown",
   "metadata": {},
   "source": [
    "<br>"
   ]
  },
  {
   "cell_type": "markdown",
   "metadata": {
    "Collapsed": "false"
   },
   "source": [
    "<br>"
   ]
  },
  {
   "cell_type": "markdown",
   "metadata": {
    "Collapsed": "false"
   },
   "source": [
    "<a href=\"./00_index.ipynb\"><< Index</a><br>\n",
    "<a href=\"./13_CAMS_European_air_quality_forecast_dust_concentration_exercise.ipynb\"><< 13 - CAMS European Air Quality Forecast - Dust - Exercise</a><span style=\"float:right;\"><a href=\"./15_Metop-ABC_GOME-2_AAI_L3_exercise.ipynb\">15 - Metop-ABC GOME-2 AAI Level 3 - Exercise >></a></span>"
   ]
  },
  {
   "cell_type": "markdown",
   "metadata": {
    "Collapsed": "false"
   },
   "source": [
    "<hr>"
   ]
  },
  {
   "cell_type": "markdown",
   "metadata": {
    "Collapsed": "false"
   },
   "source": [
    "<img src='../../img/copernicus_logo.png' alt='Logo EU Copernicus' align='right' width='20%'><br><br><br><br>\n",
    "<p style=\"text-align:right;\">This project is licensed under the <a href=\"./LICENSE\">MIT License</a> and is developed under a Copernicus contract."
   ]
  }
 ],
 "metadata": {
  "kernelspec": {
   "display_name": "Python 3",
   "language": "python",
   "name": "python3"
  },
  "language_info": {
   "codemirror_mode": {
    "name": "ipython",
    "version": 3
   },
   "file_extension": ".py",
   "mimetype": "text/x-python",
   "name": "python",
   "nbconvert_exporter": "python",
   "pygments_lexer": "ipython3",
   "version": "3.8.6"
  }
 },
 "nbformat": 4,
 "nbformat_minor": 4
}
