{
 "cells": [
  {
   "cell_type": "markdown",
   "metadata": {
    "Collapsed": "false"
   },
   "source": [
    "# Copernicus Atmosphere Monitoring Service (CAMS) data examples"
   ]
  },
  {
   "cell_type": "markdown",
   "metadata": {
    "Collapsed": "false"
   },
   "source": [
    "## <a id=\"load_ggf\"></a>Load, browse and plot CAMS Greenhouse Gas Fluxes"
   ]
  },
  {
   "cell_type": "markdown",
   "metadata": {},
   "source": [
    "### Load the greenhouse gas flux inversion dataset with `netCDF.Dataset`"
   ]
  },
  {
   "cell_type": "markdown",
   "metadata": {},
   "source": [
    "With Python's library `netCDF` and the `Dataset` constructor, you can easily load `NetCDF` data. Let's load the data for January 1979. You can see that the dataset has two dimensions, `latitude` and `longitude` and a range of different 2-dimensional `variables`."
   ]
  },
  {
   "cell_type": "code",
   "execution_count": null,
   "metadata": {},
   "outputs": [],
   "source": [
    "from netCDF4 import Dataset\n",
    "year = 2015\n",
    "month = 11\n",
    "\n",
    "dataset = Dataset(f\"../eodata/cams/cams73_v20r3_co2_flux_satellite_mm_{year}{month:02}.nc\")\n",
    "dataset"
   ]
  },
  {
   "cell_type": "markdown",
   "metadata": {},
   "source": [
    "With `[]`, we can select a variable we are interested in. Let's load for example `flux_apos_bio` and `latitude` and `longitude` information to get more information about the extent.\n",
    "\n",
    "You can see that the `flux_apos_bio` is the `Posterior land surface upward mass flux of carbon for the whole grid box and the whole month without fossile`. The variable unit is `kgC / m2 month`.\n",
    "\n",
    "The dataset has a global extent."
   ]
  },
  {
   "cell_type": "code",
   "execution_count": null,
   "metadata": {},
   "outputs": [],
   "source": [
    "co2_flux = dataset.variables['flux_apos_bio']\n",
    "lats = dataset.variables['latitude']\n",
    "lons = dataset.variables['longitude']\n",
    "\n",
    "\n",
    "co2_flux, lats[:], lons[:]"
   ]
  },
  {
   "cell_type": "markdown",
   "metadata": {},
   "source": [
    "### Visualize a ghg flux inversion variable with `pcolormesh`"
   ]
  },
  {
   "cell_type": "markdown",
   "metadata": {},
   "source": [
    "Now, we can plot the `Carbon upward flux` for a geographical subset, e.g. a region in Africa."
   ]
  },
  {
   "cell_type": "code",
   "execution_count": null,
   "metadata": {},
   "outputs": [],
   "source": [
    "import matplotlib.pyplot as plt\n",
    "from matplotlib.cm import get_cmap\n",
    "import cartopy\n",
    "import cartopy.crs as ccrs\n",
    "from cartopy.feature import LAND\n",
    "from cartopy.mpl.gridliner import LONGITUDE_FORMATTER, LATITUDE_FORMATTER\n",
    "\n",
    "import numpy as np\n",
    "\n",
    "fig,ax = plt.subplots(figsize=(20,12))\n",
    "ax = plt.axes(projection=ccrs.PlateCarree())\n",
    "\n",
    "extent = [5, 35, -15, 10]\n",
    "#ax.set_extent(extent)\n",
    "\n",
    "ax.add_feature(cartopy.feature.LAKES, alpha=0.5)\n",
    "ax.add_feature(cartopy.feature.RIVERS)\n",
    "ax.add_feature(cartopy.feature.COASTLINE)\n",
    "ax.add_feature(cartopy.feature.BORDERS, linestyle='-')\n",
    "\n",
    "gl = ax.gridlines(draw_labels=True, linestyle='--')\n",
    "gl.xlabels_top=False\n",
    "gl.ylabels_right=False\n",
    "gl.xformatter=LONGITUDE_FORMATTER\n",
    "gl.yformatter=LATITUDE_FORMATTER\n",
    "\n",
    "gl.xlabel_style={'size':14}\n",
    "gl.ylabel_style={'size':14}\n",
    "\n",
    "cmap = get_cmap(\"PiYG_r\", 21)\n",
    "vmin = -.12\n",
    "vmax = .12\n",
    "clevs = np.arange(vmin, vmax, 0.01)\n",
    "img = plt.pcolormesh(lons, lats, co2_flux[:,:], cmap=cmap, vmin=vmin, vmax=vmax)\n",
    "\n",
    "plt.xticks(fontsize=16)\n",
    "plt.yticks(fontsize=16)\n",
    "\n",
    "cbar = fig.colorbar(img, ax=ax, orientation='vertical', fraction=0.04, pad=0.05, shrink=0.7)\n",
    "cbar.set_label(co2_flux.units, fontsize=16)\n",
    "cbar.ax.tick_params(labelsize=14)\n",
    "\n",
    "plt.title(co2_flux.long_name.format(month), fontsize=20, pad=20.0)\n",
    "\n",
    "plt.show()"
   ]
  },
  {
   "cell_type": "markdown",
   "metadata": {},
   "source": [
    "<br>"
   ]
  }
 ],
 "metadata": {
  "kernelspec": {
   "display_name": "Python 3",
   "language": "python",
   "name": "python3"
  },
  "language_info": {
   "codemirror_mode": {
    "name": "ipython",
    "version": 3
   },
   "file_extension": ".py",
   "mimetype": "text/x-python",
   "name": "python",
   "nbconvert_exporter": "python",
   "pygments_lexer": "ipython3",
   "version": "3.8.6"
  }
 },
 "nbformat": 4,
 "nbformat_minor": 4
}
