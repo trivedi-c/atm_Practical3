{
 "cells": [
  {
   "cell_type": "markdown",
   "metadata": {
    "Collapsed": "false"
   },
   "source": [
    "<img src='./img/acam_logos.png' alt='Logo EU Copernicus EUMETSAT' align='right' width='65%'></img>"
   ]
  },
  {
   "cell_type": "markdown",
   "metadata": {
    "Collapsed": "false"
   },
   "source": [
    "<br>"
   ]
  },
  {
   "cell_type": "markdown",
   "metadata": {
    "Collapsed": "false"
   },
   "source": [
    "# ACAM Training School Data - Overview and data access"
   ]
  },
  {
   "cell_type": "markdown",
   "metadata": {
    "Collapsed": "false"
   },
   "source": [
    "This module gives an overview of the following atmospheric composition data services:\n",
    "\n",
    "<a id=\"top\"></a>\n",
    "\n",
    "* **[NASA Goddard Space Flight Center Earth Science Data and Information Services Center (GES-DISC)](#mls_aura_ov)**\n",
    "  * [MLS/Aura Level 3 Monthly Binned Carbon Monoxide](./01_asian_summer_monsoon_anticyclone/11_MLS_CO_L3_ACAM.ipynb)\n",
    "\n",
    "\n",
    "* **[Tropospheric Emission Monitoring Internet Service (TEMIS)](#temis)**\n",
    "  * [AC SAF Metop-A/B GOME-2 Absorbing Aerosol Index](./02_fire_monitoring/12_AC-SAF_Metop-AB_GOME-2_AAI.ipynb)\n",
    "  \n",
    "\n",
    "* **[EUMETSAT AC SAF - The EUMETSAT Satellite Application Facility on Atmospheric Composition Monitoring](#ac_saf)**\n",
    "  * [AC SAF Metop-A/B GOME-2 Aborbing Aerosol Height (AAH)](./02_fire_monitoring/13_AC-SAF_Metop-B_GOME-2_AAH.ipynb)\n",
    "\n",
    "\n",
    "* **[Aeris IASI - the IASI Portal](#aeris)**\n",
    "  * [Metop-A/B IASI Carbon Monoxide](./02_fire_monitoring/14_Metop-AB_IASI_CO.ipynb)\n",
    "\n",
    "\n",
    "* **[CODA - Copernicus Online Data Access](#coda_s3)**\n",
    "  * [Sentinel-3 OLCI Level-1B radiances](./02_fire_monitoring/21_Sentinel-3_OLCI_RGB.ipynb)\n",
    "\n",
    "\n",
    "* **[Copernicus Sentinel-5P Pre-Operations Data Hub](#sentinel_5p)**\n",
    "  * [Sentinel-5P TROPOMI Carbon Monoxide](./02_fire_monitoring/22_Sentinel-5P_TROPOMI_CO.ipynb)\n",
    "  * [Sentinel-5P TROPOMI Ultraviolet Aerosol Index](./02_fire_monitoring/23_Sentinel-5P_TROPOMI_UVAI.ipynb)\n",
    "\n",
    "\n",
    "* **[ECMWF Web Archive](#ecmwf)**\n",
    "  * [CAMS Global Fire Assimilation System (GFAS) - Fire Radiative Power](./03_cams/3.4_CAMSDataAccess_FireGHG.ipynb)\n"
   ]
  },
  {
   "cell_type": "markdown",
   "metadata": {},
   "source": [
    "<hr>"
   ]
  },
  {
   "cell_type": "markdown",
   "metadata": {},
   "source": [
    "## NASA Goddard Space Flight Center Earth Science Data and Information Services Center (GES-DISC)"
   ]
  },
  {
   "cell_type": "markdown",
   "metadata": {},
   "source": [
    "> Data available: [MLS/Aura Level 3 Monthly binned Carbon Monoxide](./01_asian_summer_monsoon_anticyclone/11_MLS_CO_L3_ACAM.ipynb)"
   ]
  },
  {
   "cell_type": "markdown",
   "metadata": {},
   "source": [
    "Binned (Level 3) MLS/Aura data is available via the [NASA Goddard Space Flight Center Earth Science Data and Information Services Center (GES-DISC)](https://disc.gsfc.nasa.gov/datasets/ML3MBCO_004/summary?keywords=mls%20aura%20level%203%20carbon%20monoxide).\n",
    "\n",
    "GES-DISC offers monthly and daily aggregated binned MLS/Aura Carbon Monoxide information. The data is available in `netCDF` format for download. "
   ]
  },
  {
   "cell_type": "markdown",
   "metadata": {},
   "source": [
    "<div style='text-align:center;'>\n",
    "<figure><img src='./img/ges_disc.png' width='100%' />\n",
    "    <figcaption><i>The GES DISC web interface</i></figcaption>\n",
    "</figure>\n",
    "</div>"
   ]
  },
  {
   "cell_type": "markdown",
   "metadata": {},
   "source": [
    "[^Return to top](#top)"
   ]
  },
  {
   "cell_type": "markdown",
   "metadata": {},
   "source": [
    "<hr>"
   ]
  },
  {
   "cell_type": "markdown",
   "metadata": {},
   "source": [
    "## <a id='temis'></a> Tropospheric Emission Monitoring Internet Service (TEMIS)"
   ]
  },
  {
   "cell_type": "markdown",
   "metadata": {},
   "source": [
    "> Data available: [AC SAF Metop-A/B GOME-2 Absorbing Aerosol Index (AAI) Level 3](./02_fire_monitoring/12_AC-SAF_Metop-AB_GOME-2_AAI.ipynb)"
   ]
  },
  {
   "cell_type": "markdown",
   "metadata": {
    "Collapsed": "false"
   },
   "source": [
    "Gridded (Level 3) Metop-A/B/C GOME-2 Absorbing Aerosol Index (AAI) data are available via the [Tropospheric Emission Monitoring Internet Service (TEMIS)](https://www.temis.nl/airpollution/absaai/). The data of the GOME-2 Absorbing Aerosol Index are provided by KNMI in the framework of the [EUMETSAT Satellite Application Facility on Atmospheric Composition Monitoring (AC SAF)](https://www.acsaf.org). \n",
    "\n",
    "TEMIS offers monthly and daily aggregated gridded Metop-A/B/C GOME-2 Absorbing Aerosol Index (AAI) information. The data is available in `netCDF` for download. "
   ]
  },
  {
   "cell_type": "markdown",
   "metadata": {
    "Collapsed": "false"
   },
   "source": [
    "<br>"
   ]
  },
  {
   "cell_type": "markdown",
   "metadata": {},
   "source": [
    "<div style='text-align:center;'>\n",
    "<figure><img src='../../img/temis_aai.png' width='60%' />\n",
    "    <figcaption><i>The TEMIS web interface</i></figcaption>\n",
    "</figure>\n",
    "</div>"
   ]
  },
  {
   "cell_type": "markdown",
   "metadata": {},
   "source": [
    "[^Return to top](#top)"
   ]
  },
  {
   "cell_type": "markdown",
   "metadata": {},
   "source": [
    "<hr>"
   ]
  },
  {
   "cell_type": "markdown",
   "metadata": {
    "Collapsed": "false"
   },
   "source": [
    "##  <a id=\"ac_saf\"></a>EUMETSAT AC SAF - The EUMETSAT Satellite Application Facility on Atmospheric Composition Monitoring"
   ]
  },
  {
   "cell_type": "markdown",
   "metadata": {},
   "source": [
    "> Data available: [AC SAF Metop-A/B GOME-2 Aborbing Aerosol Height (AAH)](./02_fire_monitoring/13_AC-SAF_Metop-B_GOME-2_AAH.ipynb)"
   ]
  },
  {
   "cell_type": "markdown",
   "metadata": {},
   "source": [
    "<span style=float:left><img src='./img/ac_saf_logo.png' alt='Logo EU Copernicus EUMETSAT' align='left' width='90%'></img></span>\n",
    "\n",
    "The [EUMETSAT Satellite Application Facility on Atmospheric Composition Monitoring (EUMETSAT AC SAF)](http://acsaf.org/) is one of eight EUMETSAT Satellite Application Facilities (SAFs). <br>\n",
    "\n",
    "SAFs generate and disseminate operational EUMETSAT products and services and are an integral part of the distributed EUMETSAT Application Ground Segment. \n",
    "\n",
    "AC SAF processes data on ozone, other trace gases, aerosols and ultraviolet data, obtained from satellite instrumentation."
   ]
  },
  {
   "cell_type": "markdown",
   "metadata": {
    "Collapsed": "false"
   },
   "source": [
    "<br>"
   ]
  },
  {
   "cell_type": "markdown",
   "metadata": {
    "Collapsed": "false"
   },
   "source": [
    "### <a id=\"ac_saf_access\"></a>How to access AC SAF products"
   ]
  },
  {
   "cell_type": "markdown",
   "metadata": {
    "Collapsed": "false"
   },
   "source": [
    "AC SAF products can be accessed via different dissemination channels depending on the AC SAF product. The `Absorbing Aerosol Height` information is disseminated via the [FMI DATA SERVER](https://acsaf.org/offline_access.php)."
   ]
  },
  {
   "cell_type": "markdown",
   "metadata": {
    "Collapsed": "false"
   },
   "source": [
    "#### FMI Data Server"
   ]
  },
  {
   "cell_type": "markdown",
   "metadata": {
    "Collapsed": "false"
   },
   "source": [
    "Absorbing Aerosol Height data is disseminated by [FMI's Data Server](https://atmos.eoc.dlr.de/products/). Accessing data is a two step process:\n",
    "1. [Register](https://acsaf.org/registration_form.html) as a user of AC SAF products\n",
    "2. [Log in](https://safserver.fmi.fi/index.html)( (with the user name and password that is emailed to you after registration)\n",
    "\n",
    "   "
   ]
  },
  {
   "cell_type": "markdown",
   "metadata": {},
   "source": [
    "[^Return to top](#top)"
   ]
  },
  {
   "cell_type": "markdown",
   "metadata": {},
   "source": [
    "<hr>"
   ]
  },
  {
   "cell_type": "markdown",
   "metadata": {},
   "source": [
    "## <a id='aeris'></a>Aeris IASI - The IASI Portal"
   ]
  },
  {
   "cell_type": "markdown",
   "metadata": {},
   "source": [
    "> Data available: [Metop-A/B IASI Carbon Monoxide](./02_fire_monitoring/14_Metop-AB_IASI_CO.ipynb)"
   ]
  },
  {
   "cell_type": "markdown",
   "metadata": {},
   "source": [
    "The [Aeris IASI portal](https://iasi.aeris-data.fr/) provides scientists with free and open access to atmospheric composition Level 2 data products retrieved from the IASI/Metop observations. The portal provides [IASI Carbon Monoxide data](https://iasi.aeris-data.fr/co/) for download from all three satellites, Metop-A, -B and -C.\n",
    "\n"
   ]
  },
  {
   "cell_type": "markdown",
   "metadata": {},
   "source": [
    "\n",
    "<div style='text-align:center;'>\n",
    "<figure><img src='./img/iasi.png' alt='IASI CO quicklook' align='middle' width='50%'/>\n",
    "    <figcaption><i>Quick looks of IASI CO data via the Aeris IASI portal</i></figcaption>\n",
    "</figure>\n",
    "</div>"
   ]
  },
  {
   "cell_type": "markdown",
   "metadata": {},
   "source": [
    "[^Return to top](#top)"
   ]
  },
  {
   "cell_type": "markdown",
   "metadata": {},
   "source": [
    "<hr>"
   ]
  },
  {
   "cell_type": "markdown",
   "metadata": {},
   "source": [
    "## <a id='coda_s3'></a>CODA - Copernicus Open Access Hub"
   ]
  },
  {
   "cell_type": "markdown",
   "metadata": {},
   "source": [
    "> Data available:<br>\n",
    "> [Sentinel-3 OLCI Level-1B radiances](./02_fire_monitoring/21_Sentinel-3_OLCI_RGB.ipynb)"
   ]
  },
  {
   "cell_type": "markdown",
   "metadata": {},
   "source": [
    "`Sentinel-3 OLCI` data can be accessed via the [Copernicus Online Data Access](https://coda.eumetsat.int/#/home). In order to be able to access data via CODA, you have to create an account via [EUMETSAT's Earth Observation Portal](https://eoportal.eumetsat.int/)."
   ]
  },
  {
   "cell_type": "markdown",
   "metadata": {},
   "source": [
    "[^Return to top](#top)"
   ]
  },
  {
   "cell_type": "markdown",
   "metadata": {
    "Collapsed": "false"
   },
   "source": [
    "<hr>"
   ]
  },
  {
   "cell_type": "markdown",
   "metadata": {
    "Collapsed": "false"
   },
   "source": [
    "##  <a id=\"sentinel_5p\"></a>Copernicus Sentinel-5P Pre-Operations Data Hub"
   ]
  },
  {
   "cell_type": "markdown",
   "metadata": {},
   "source": [
    "> Data available:<br>\n",
    "> [Sentinel-5P TROPOMI Carbon Monoxide](./02_fire_monitoring/22_Sentinel-5P_TROPOMI_CO.ipynb)<br>\n",
    "> [Sentinel-5P TROPOMI Ultraviolet Aerosol Index](./02_fire_monitoring/23_Sentinel-5P_TROPOMI_UVAI.ipynb)"
   ]
  },
  {
   "cell_type": "markdown",
   "metadata": {
    "Collapsed": "false"
   },
   "source": [
    "Sentinel-5P data is available for browsing and downloading via the [Sentinel-5P Pre-Operations Data hub](https://s5phub.copernicus.eu/). To login you can use `username: s5pguest / password: s5pguest`."
   ]
  },
  {
   "cell_type": "markdown",
   "metadata": {
    "Collapsed": "false"
   },
   "source": [
    "\n",
    "<div style='text-align:center;'>\n",
    "<figure><img src='./img/open_access_hub.png' alt='Sentinel-5p data products' align='middle' width='50%'/>\n",
    "    <figcaption><i>Interface of the Copernicus Open Access Hub and the Sentinel-5P Pre-Operations Data Hub</i></figcaption>\n",
    "</figure>\n",
    "</div>"
   ]
  },
  {
   "cell_type": "markdown",
   "metadata": {},
   "source": [
    "[^Return to top](#top)"
   ]
  },
  {
   "cell_type": "markdown",
   "metadata": {
    "Collapsed": "false"
   },
   "source": [
    "<hr>"
   ]
  },
  {
   "cell_type": "markdown",
   "metadata": {},
   "source": [
    "## <a id=\"ecmwf\"></a>ECMWF web archive"
   ]
  },
  {
   "cell_type": "markdown",
   "metadata": {},
   "source": [
    "> Data available: [CAMS Global Fire Assimilation System (GFAS) - Fire Radiative Power](./03_cams/3.4_CAMSDataAccess_FireGHG.ipynb)<br>\n"
   ]
  },
  {
   "cell_type": "markdown",
   "metadata": {},
   "source": [
    "[CAMS Global Fire Assimilation System data](https://apps.ecmwf.int/datasets/data/cams-gfas/) and CEMS Global Fire Forecast data can be accessed via the `ECMWF data archive`."
   ]
  },
  {
   "cell_type": "markdown",
   "metadata": {},
   "source": [
    "#### ECMWF data archive"
   ]
  },
  {
   "cell_type": "markdown",
   "metadata": {},
   "source": [
    "ECMWF's data archive is called Meteorological and Archival Retrieval System (MARS) and provides access to ECMWF Public Datasets. The following CAMS data can be accessed through the ECMWF MARS archive: `CAMS reanalysis`, `CAMS GFAS data` (older than one day), and `CAMS global analyses and forecasts` (older than five days).\n",
    "\n",
    "The archive can be accessed in two ways: \n",
    "* via the [web interface](https://apps.ecmwf.int/datasets/) and \n",
    "* via the [ECMWF Web API](https://confluence.ecmwf.int/display/WEBAPI/Access+ECMWF+Public+Datasets).\n",
    "\n",
    "Subsequently, an example is shown how a MARS request can be executed within Python and data in either GRIB or netCDF can be downloaded on-demand."
   ]
  },
  {
   "cell_type": "markdown",
   "metadata": {},
   "source": [
    "#### 1. Register for an ECMWF user account"
   ]
  },
  {
   "cell_type": "markdown",
   "metadata": {},
   "source": [
    "- Self-register at https://apps.ecmwf.int/registration/\n",
    "- Login at https://apps.ecmwf.int/auth/login"
   ]
  },
  {
   "cell_type": "markdown",
   "metadata": {},
   "source": [
    "#### 2. Install the `ecmwfapi` python library"
   ]
  },
  {
   "cell_type": "markdown",
   "metadata": {},
   "source": [
    "`pip install ecmwf-api-client`"
   ]
  },
  {
   "cell_type": "markdown",
   "metadata": {},
   "source": [
    "#### 3. Retrieve your API key"
   ]
  },
  {
   "cell_type": "markdown",
   "metadata": {},
   "source": [
    "You can retrieve your API key at https://api.ecmwf.int/v1/key/. Add the `url`, `key` and `email` information, when you define the `ECMWFDataServer` (see below).\n"
   ]
  },
  {
   "cell_type": "markdown",
   "metadata": {},
   "source": [
    "#### 3. Execute a MARS request and download data as `netCDF` file"
   ]
  },
  {
   "cell_type": "markdown",
   "metadata": {},
   "source": [
    "Below, you see the principle of a `data retrieval` request. You can use the web interface to browse through the datasets. At the end, there is the option to let generate the `data retrieval` request for the API.\n",
    "\n",
    "**NOTE**: per default, ECMWF data is stored on a grid with longitudes going from 0 to 360 degrees. It can be reprojected to a regular geographic latitude-longitude grid, by setting the keyword argument `area` and `grid`. Per default, data is retrieved in `GRIB`. If you wish to retrieve the data in `netCDF`, you have to specify it by using the keyword argument `format`.\n",
    "\n",
    "The example requests `Organic Matter Aerosol Optical Depth at 550 nm` forecast data for 3 June 2019 in `NetCDF`."
   ]
  },
  {
   "cell_type": "code",
   "execution_count": null,
   "metadata": {},
   "outputs": [],
   "source": [
    "#!/usr/bin/env python\n",
    "from ecmwfapi import ECMWFDataServer\n",
    "server = ECMWFDataServer(url=\"https://api.ecmwf.int/v1\", key=\"XXXXXXXXXXXXXXXX\", email=\"XXXXXXXXXXXXXXXX\")\n",
    "\n",
    "# Retrieve data in NetCDF format\n",
    "server.retrieve({\n",
    "    \"class\": \"mc\",\n",
    "    \"dataset\": \"cams_nrealtime\",\n",
    "    \"date\": \"2019-06-03/to/2019-06-03\",\n",
    "    \"expver\": \"0001\",\n",
    "    \"levtype\": \"sfc\",\n",
    "    \"param\": \"210.210\",\n",
    "    \"step\": \"3\",\n",
    "    \"stream\": \"oper\",\n",
    "    \"time\": \"00:00:00\",\n",
    "    \"type\": \"fc\",\n",
    "    \"format\": \"netcdf\",\n",
    "    \"area\": \"90/-180/-90/180\",\n",
    "    \"grid\": \"0.4/0.4\",\n",
    "    \"target\": \"test.nc\"\n",
    "})"
   ]
  },
  {
   "cell_type": "markdown",
   "metadata": {},
   "source": [
    "[^Return to top](#top)"
   ]
  },
  {
   "cell_type": "markdown",
   "metadata": {},
   "source": [
    "<br>"
   ]
  },
  {
   "cell_type": "markdown",
   "metadata": {
    "Collapsed": "false"
   },
   "source": [
    "<hr>"
   ]
  },
  {
   "cell_type": "markdown",
   "metadata": {
    "Collapsed": "false"
   },
   "source": [
    "<img src='./img/copernicus_logo.png' alt='Logo EU Copernicus' align='right' width='20%'><br><br><br><br>\n",
    "\n",
    "<p style=\"text-align:right;\">This project is licensed under the <a href=\"./LICENSE\">MIT License</a> and is developed under a Copernicus contract."
   ]
  }
 ],
 "metadata": {
  "kernelspec": {
   "display_name": "Python 3",
   "language": "python",
   "name": "python3"
  },
  "language_info": {
   "codemirror_mode": {
    "name": "ipython",
    "version": 3
   },
   "file_extension": ".py",
   "mimetype": "text/x-python",
   "name": "python",
   "nbconvert_exporter": "python",
   "pygments_lexer": "ipython3",
   "version": "3.8.6"
  },
  "toc": {
   "base_numbering": 1,
   "nav_menu": {},
   "number_sections": false,
   "sideBar": true,
   "skip_h1_title": false,
   "title_cell": "Table of Contents",
   "title_sidebar": "Contents",
   "toc_cell": false,
   "toc_position": {
    "height": "339px",
    "left": "1488px",
    "top": "141px",
    "width": "538px"
   },
   "toc_section_display": true,
   "toc_window_display": false
  },
  "toc-showcode": false,
  "toc-showtags": false
 },
 "nbformat": 4,
 "nbformat_minor": 4
}
