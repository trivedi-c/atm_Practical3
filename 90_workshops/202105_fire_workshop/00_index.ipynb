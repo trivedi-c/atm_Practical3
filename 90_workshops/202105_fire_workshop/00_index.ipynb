{
 "cells": [
  {
   "cell_type": "markdown",
   "metadata": {
    "Collapsed": "false"
   },
   "source": [
    "<img src='./img/fire_workshop_banner.png' alt='Logo EU Copernicus EUMETSAT' align='centre' width='90%'></img>"
   ]
  },
  {
   "cell_type": "markdown",
   "metadata": {
    "Collapsed": "false"
   },
   "source": [
    "<br>"
   ]
  },
  {
   "cell_type": "markdown",
   "metadata": {},
   "source": [
    "## Workshop and Data Discovery"
   ]
  },
  {
   "cell_type": "markdown",
   "metadata": {
    "Collapsed": "false"
   },
   "source": [
    "# Existing and new generation earth observation based products for wildfire monitoring and forecast"
   ]
  },
  {
   "cell_type": "markdown",
   "metadata": {},
   "source": [
    "Jointly organized by [EUMETSAT](https://www.eumetsat.int/website/home/index.html), [CAMS-ECMWF](https://atmosphere.copernicus.eu/), [AC SAF](https://acsaf.org/), [LSA SAF](https://landsaf.ipma.pt/en/), with support from [Copernicus](https://www.copernicus.eu/en) "
   ]
  },
  {
   "cell_type": "markdown",
   "metadata": {},
   "source": [
    "<br>"
   ]
  },
  {
   "cell_type": "markdown",
   "metadata": {
    "Collapsed": "false"
   },
   "source": [
    "The **user workshop on wildfire monitoring and forecast** is a an online event aiming to inform about existing and upcoming datasets for detection of `fire`, `related emissions` and `impacts`.\n",
    "\n",
    "The course is a combination of expert webinars and two 'data disovery' sessions introducing you to different satellite- and model-based data for wildfire monitoring. The 'data discovery' sessions has the following outline \n",
    "\n",
    "* 25 May | 14:00-15:30 (CEST): **Data discovery - Satellite-based data**\n",
    "* 26 May | 14:00-15:30 (CEST): **Data discovery - Portugal fires 2020 workflow**\n",
    "\n"
   ]
  },
  {
   "cell_type": "markdown",
   "metadata": {},
   "source": [
    "<br>"
   ]
  },
  {
   "cell_type": "markdown",
   "metadata": {
    "Collapsed": "false"
   },
   "source": [
    "## Data on wildfire monitoring"
   ]
  },
  {
   "cell_type": "markdown",
   "metadata": {
    "Collapsed": "false"
   },
   "source": [
    "This course features the following data:\n",
    "\n",
    "* **Satellite-based data products**\n",
    "  * AC-SAF Metop-A/B GOME-2 Level-2 data: [Absorbing Aerosol Index (AAI)](./11_AC-SAF_Metop-AB_GOME-2_AAI.ipynb) and [Absorbing Aerosol Height (AAH)](./12_AC-SAF_Metop-AB_GOME-2_AAH.ipynb)\n",
    "  * LSA-SAF data: [EDLST, FRP_PIXEL, NDVI](./41_LSA-SAF.ipynb)\n",
    "  * Metop-A/B IASI Level-2 data: [Carbon Monoxide](./13_Metop-AB_IASI_CO.ipynb)\n",
    "  * Copernicus Sentinel-5P TROPOMI Level 2 data: [Ultraviolett Aerosol Index](./13_Metop-AB_IASI_CO.ipynb) and [Carbon Monoxide](./31_Sentinel-5P_TROPOMI_CO.ipynb)\n",
    "  * Copernicus Sentinel-3 OLCI Level-1B data: [Red-Green-Blue (RGB) radiances](./21_Sentinel-3_OLCI_RGB.ipynb)\n",
    "  * Copernicus Sentinel-3 SLSTR Level 2 data: [Fire Radiative Power](./22_Sentinel-3_SLSTR_FRP.ipynb)\n",
    "\n",
    "\n",
    "* **Model-based data products**\n",
    "  * Copernicus Atmosphere Monitoring Service (CAMS) | Global Fire Assimilation System (GFAS): [Fire Radiative Power](./51_CAMS_GFAS_FRPFIRE.ipynb)\n",
    "  * Copernicus Emergency Management Service (CEMS) | Global ECMWF Fire Forecasts (GEFF): [Fire Weather Index](./61_CEMS_GEFF_FWI_data_overview.ipynb)\n",
    "\n"
   ]
  },
  {
   "cell_type": "markdown",
   "metadata": {},
   "source": [
    "<br>"
   ]
  },
  {
   "cell_type": "markdown",
   "metadata": {
    "Collapsed": "false"
   },
   "source": [
    "## Course material"
   ]
  },
  {
   "cell_type": "markdown",
   "metadata": {
    "Collapsed": "false"
   },
   "source": [
    "The course outline follows the sequence of data types introduced during the webinars in the morning:\n",
    "\n",
    "* **0 - Introduction to the practical course content**\n",
    " * [Introduction to Python and Project Jupyter](./01_introduction_to_python_and_jupyter.ipynb)\n",
    " * [Overview of data and data access systems](./02_atmospheric_composition_overview.ipynb)\n",
    "\n",
    "\n",
    "* **1 - AC SAF and Metop-A/B/C GOME-2 and IASI data**\n",
    " * [1.1 AC SAF Metop-ABC GOME-2 AAI](./11_AC-SAF_Metop-AB_GOME-2_AAI.ipynb)\n",
    " * [1.2 AC SAF Metop-B GOME-2 AAH](./12_AC-SAF_Metop-AB_GOME-2_AAH.ipynb)\n",
    " * [1.3 Metop-AB IASI CO](./13_Metop-AB_IASI_CO.ipynb)\n",
    "\n",
    "\n",
    "* **2 - Copernicus Sentinel-3 data**\n",
    " * [2.1 Sentinel-3 OLCI Level-1 RGB](./21_Sentinel-3_OLCI_RGB.ipynb)\n",
    " * [2.2 Sentinel-3 SLSTR Fire Radiative Power](./22_Sentinel-3_SLSTR_FRP.ipynb)\n",
    "\n",
    "\n",
    "* **3 - Copernicus Sentinel-5P data**\n",
    " * [3.1 Sentinel-5P TROPOMI CO](./31_Sentinel-5P_TROPOMI_CO.ipynb)\n",
    " * [3.2 Sentinel-5P TROPOMI UVAI](./32_Sentinel-5P_TROPOMI_UVAI.ipynb)\n",
    "\n",
    "\n",
    "* **4 - LSA SAF data products for fire monitoring**\n",
    " * [4.1 LSA SAF data products for fire monitoring](./41_LSA-SAF.ipynb)\n",
    "\n",
    "\n",
    "* **5 - Copernicus Atmosphere Monitoring Service (CAMS) data**\n",
    " * [5.1 CAMS Global Fire Assimilation System (GFAS) FRPFIRE](./51_CAMS_GFAS_FRPFIRE.ipynb)\n",
    "\n",
    "\n",
    "* **6 - Global ECMWF Fire Forecasting (GEFF) data**\n",
    " * [6.1 GEFF data overview](./61_CEMS_GEFF_FWI_data_overview.ipynb)\n",
    " * [6.2 GEFF harmonized danger classes](./62_CEMS_GEFF_FWI_harmonized_danger_classes.ipynb)\n",
    " * [6.3 GEFF custom danger classes](./63_CEMS_GEFF_FWI_custom_danger_classes.ipynb)\n",
    "\n",
    "\n",
    "* **7 - Practical Workflow - Portugal fires 2020**\n",
    " * [7.1 Case study - Portugal Fires - Summer 2020](./71_workflow_portugal_fires_2020.ipynb)\n",
    "\n",
    "<br>\n",
    "\n",
    "**NOTE:** Throughout the course, general functions to `load`, `re-shape`, `process` and `visualize` the datasets are defined. These functions are re-used when applicable. The [functions notebook](./functions.ipynb) gives you an overview of all the functions defined and used for the course.\n"
   ]
  },
  {
   "cell_type": "markdown",
   "metadata": {},
   "source": [
    "<br>"
   ]
  },
  {
   "cell_type": "markdown",
   "metadata": {
    "Collapsed": "false"
   },
   "source": [
    "## Learning outcomes"
   ]
  },
  {
   "cell_type": "markdown",
   "metadata": {
    "Collapsed": "false"
   },
   "source": [
    "The course is designed for `medium-level users`, who have basic Python knowledge and understanding of Fire monitoring data.\n",
    "\n",
    "After the course, you should have:\n",
    "* an idea about the **different datasets on Fire Monitoring data**,\n",
    "* knowledge about the most useful **Python packages** to handle, process and visualise large volumes of Earth Observation data\n",
    "* an idea about how the **data can help to detect and monitor fire events**"
   ]
  },
  {
   "cell_type": "markdown",
   "metadata": {
    "Collapsed": "false"
   },
   "source": [
    "<hr>"
   ]
  },
  {
   "cell_type": "markdown",
   "metadata": {
    "Collapsed": "false"
   },
   "source": [
    "## Access to the `JupyterHub` "
   ]
  },
  {
   "cell_type": "markdown",
   "metadata": {
    "Collapsed": "false"
   },
   "source": [
    "The course material is made available on a JupyterHub instance, a pre-defined environment that gives learners direct access to the data and Python packages required for following the course.\n",
    "\n",
    "The `JupyterHub` can be accessed as follows:"
   ]
  },
  {
   "cell_type": "markdown",
   "metadata": {
    "Collapsed": "false"
   },
   "source": [
    "* Web address: [https://training.ltpy.adamplatform.eu](https://training.ltpy.adamplatform.eu)\n",
    "* Create an account: [https://login.ltpy.adamplatform.eu/](https://login.ltpy.adamplatform.eu/)\n",
    "* Log into the `JupyterHub` with your account created."
   ]
  },
  {
   "cell_type": "markdown",
   "metadata": {
    "Collapsed": "false"
   },
   "source": [
    "<hr>"
   ]
  },
  {
   "cell_type": "markdown",
   "metadata": {
    "Collapsed": "false"
   },
   "source": [
    "<img src='./img/copernicus_logo.png' alt='Logo EU Copernicus' align='right' width='20%'><br><br><br><br>\n",
    "\n",
    "<p style=\"text-align:right;\">This project is licensed under the <a href=\"./LICENSE\">MIT License</a> and is developed under a Copernicus contract."
   ]
  }
 ],
 "metadata": {
  "kernelspec": {
   "display_name": "Python 3",
   "language": "python",
   "name": "python3"
  },
  "language_info": {
   "codemirror_mode": {
    "name": "ipython",
    "version": 3
   },
   "file_extension": ".py",
   "mimetype": "text/x-python",
   "name": "python",
   "nbconvert_exporter": "python",
   "pygments_lexer": "ipython3",
   "version": "3.8.6"
  }
 },
 "nbformat": 4,
 "nbformat_minor": 4
}
