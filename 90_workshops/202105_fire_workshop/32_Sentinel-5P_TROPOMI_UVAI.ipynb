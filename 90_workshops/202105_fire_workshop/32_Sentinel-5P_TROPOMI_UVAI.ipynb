{
 "cells": [
  {
   "cell_type": "markdown",
   "metadata": {},
   "source": [
    "<img src='./img/logo_header.png' alt='Logo EU Copernicus EUMETSAT' align='right' width='100%'></img>"
   ]
  },
  {
   "cell_type": "markdown",
   "metadata": {},
   "source": [
    "<br>"
   ]
  },
  {
   "cell_type": "markdown",
   "metadata": {},
   "source": [
    "<a href=\"./00_index.ipynb\"><< Index</a><br>\n",
    "<a href=\"./31_Sentinel-5P_TROPOMI_CO.ipynb\"><< 31 - Sentinel-5P TROPOMI CO </a><span style=\"float:right;\"><a href=\"./41_LSA-SAF.ipynb\"> 41 - LSA SAF >></a></span>"
   ]
  },
  {
   "cell_type": "markdown",
   "metadata": {},
   "source": [
    "# 3.2 Copernicus Sentinel-5P TROPOMI UV Aerosol Index (UVAI)"
   ]
  },
  {
   "cell_type": "markdown",
   "metadata": {},
   "source": [
    "###  Example Portugal fires in July 2020"
   ]
  },
  {
   "cell_type": "markdown",
   "metadata": {},
   "source": [
    "Sentinel-5P carries the `TROPOMI` instrument, which is a spectrometer in the UV-VIS-NIR-SWIR spectral range. `TROPOMI` provides measurements on: `Ozone`, `NO`<sub>`2`</sub>, `SO`<sub>`2`</sub>, `Formaldehyde`, `Aerosol`, `Carbonmonoxide`, `Methane` and `Clouds`.\n",
    "\n",
    "For fire monitoring , the `TROPOMI UV Aerosol Index (UVAI)` data can be used. \n",
    "\n",
    "Positive values of UVAI (typically > abt. 1.0) indicate the presence of absorbing-type aerosols: \n",
    "- `smoke from forest fires`, \n",
    "- `volcanic ash`, or \n",
    "- `desert dust`. \n",
    "\n",
    "The UVAI value depends on (i) the amount of aerosols, (ii) height of the aerosol plume, and (iii) aerosol type. \n",
    "\n",
    "Typically UVAI is more sensitive to the elevated aerosol layers and hence it can be used to track the (long-range) transport of smoke from fires. To asses the ambient air quality near the surface, other aerosol observations, such as AOD from satellites, in situ aerosol observations or modeled surface concentrations are recommended to be used together with UVAI. "
   ]
  },
  {
   "cell_type": "markdown",
   "metadata": {},
   "source": [
    "#### Load required libraries"
   ]
  },
  {
   "cell_type": "code",
   "execution_count": 2,
   "metadata": {},
   "outputs": [],
   "source": [
    "import xarray as xr\n",
    "import matplotlib.pyplot as plt\n",
    "import numpy as np\n",
    "import matplotlib.colors\n",
    "from netCDF4 import Dataset\n",
    "import pandas as pd\n",
    "\n",
    "import cartopy\n",
    "import cartopy.crs as ccrs\n",
    "from cartopy.mpl.gridliner import LONGITUDE_FORMATTER, LATITUDE_FORMATTER\n",
    "\n",
    "from matplotlib.axes import Axes\n",
    "from cartopy.mpl.geoaxes import GeoAxes\n",
    "GeoAxes._pcolormesh_patched = Axes.pcolormesh\n",
    "\n",
    "import warnings\n",
    "warnings.filterwarnings('ignore')\n",
    "warnings.simplefilter(action = \"ignore\", category = RuntimeWarning)"
   ]
  },
  {
   "cell_type": "markdown",
   "metadata": {},
   "source": [
    "##### Load helper functions"
   ]
  },
  {
   "cell_type": "code",
   "execution_count": 3,
   "metadata": {},
   "outputs": [],
   "source": [
    "%run ./functions.ipynb"
   ]
  },
  {
   "cell_type": "markdown",
   "metadata": {},
   "source": [
    "<hr>"
   ]
  },
  {
   "cell_type": "markdown",
   "metadata": {},
   "source": [
    "## Load, browse and visualize the UV Aerosol Index data"
   ]
  },
  {
   "cell_type": "markdown",
   "metadata": {},
   "source": [
    "A Sentinel-5P TROPOMI Aerosol Index Level 2 file is organised in two groups: `PRODUCT` and `METADATA`. The `PRODUCT` group stores the main data fields of the product, including `latitude`, `longitude` and the variable itself. The `METADATA` group provides additional metadata items.\n",
    "\n",
    "Sentinel-5P TROPOMI variables have the following dimensions:\n",
    "* `scanline`: the number of measurements in the granule / along-track dimension index\n",
    "* `ground_pixel`: the number of spectra in a measurement / across-track dimension index\n",
    "* `time`: time reference for the data\n",
    "* `corner`: pixel corner index\n",
    "\n",
    "Sentinel-5P TROPOMI data is disseminated in `netCDF`. You can load a `netCDF` file with the `open_dataset()` function of the xarray library. In order to load the variable as part of a Sentinel-5P data files, you have to specify the following keyword arguments: \n",
    "- `group='PRODUCT'`: to load the `PRODUCT` group\n",
    "\n",
    "Let us load a Sentinel-5P TROPOMI data file as `xarray.Dataset` from 27 July 2020 and inspect the data structure:"
   ]
  },
  {
   "cell_type": "code",
   "execution_count": 14,
   "metadata": {},
   "outputs": [
    {
     "data": {
      "text/html": [
       "<div><svg style=\"position: absolute; width: 0; height: 0; overflow: hidden\">\n",
       "<defs>\n",
       "<symbol id=\"icon-database\" viewBox=\"0 0 32 32\">\n",
       "<path d=\"M16 0c-8.837 0-16 2.239-16 5v4c0 2.761 7.163 5 16 5s16-2.239 16-5v-4c0-2.761-7.163-5-16-5z\"></path>\n",
       "<path d=\"M16 17c-8.837 0-16-2.239-16-5v6c0 2.761 7.163 5 16 5s16-2.239 16-5v-6c0 2.761-7.163 5-16 5z\"></path>\n",
       "<path d=\"M16 26c-8.837 0-16-2.239-16-5v6c0 2.761 7.163 5 16 5s16-2.239 16-5v-6c0 2.761-7.163 5-16 5z\"></path>\n",
       "</symbol>\n",
       "<symbol id=\"icon-file-text2\" viewBox=\"0 0 32 32\">\n",
       "<path d=\"M28.681 7.159c-0.694-0.947-1.662-2.053-2.724-3.116s-2.169-2.030-3.116-2.724c-1.612-1.182-2.393-1.319-2.841-1.319h-15.5c-1.378 0-2.5 1.121-2.5 2.5v27c0 1.378 1.122 2.5 2.5 2.5h23c1.378 0 2.5-1.122 2.5-2.5v-19.5c0-0.448-0.137-1.23-1.319-2.841zM24.543 5.457c0.959 0.959 1.712 1.825 2.268 2.543h-4.811v-4.811c0.718 0.556 1.584 1.309 2.543 2.268zM28 29.5c0 0.271-0.229 0.5-0.5 0.5h-23c-0.271 0-0.5-0.229-0.5-0.5v-27c0-0.271 0.229-0.5 0.5-0.5 0 0 15.499-0 15.5 0v7c0 0.552 0.448 1 1 1h7v19.5z\"></path>\n",
       "<path d=\"M23 26h-14c-0.552 0-1-0.448-1-1s0.448-1 1-1h14c0.552 0 1 0.448 1 1s-0.448 1-1 1z\"></path>\n",
       "<path d=\"M23 22h-14c-0.552 0-1-0.448-1-1s0.448-1 1-1h14c0.552 0 1 0.448 1 1s-0.448 1-1 1z\"></path>\n",
       "<path d=\"M23 18h-14c-0.552 0-1-0.448-1-1s0.448-1 1-1h14c0.552 0 1 0.448 1 1s-0.448 1-1 1z\"></path>\n",
       "</symbol>\n",
       "</defs>\n",
       "</svg>\n",
       "<style>/* CSS stylesheet for displaying xarray objects in jupyterlab.\n",
       " *\n",
       " */\n",
       "\n",
       ":root {\n",
       "  --xr-font-color0: var(--jp-content-font-color0, rgba(0, 0, 0, 1));\n",
       "  --xr-font-color2: var(--jp-content-font-color2, rgba(0, 0, 0, 0.54));\n",
       "  --xr-font-color3: var(--jp-content-font-color3, rgba(0, 0, 0, 0.38));\n",
       "  --xr-border-color: var(--jp-border-color2, #e0e0e0);\n",
       "  --xr-disabled-color: var(--jp-layout-color3, #bdbdbd);\n",
       "  --xr-background-color: var(--jp-layout-color0, white);\n",
       "  --xr-background-color-row-even: var(--jp-layout-color1, white);\n",
       "  --xr-background-color-row-odd: var(--jp-layout-color2, #eeeeee);\n",
       "}\n",
       "\n",
       "html[theme=dark],\n",
       "body.vscode-dark {\n",
       "  --xr-font-color0: rgba(255, 255, 255, 1);\n",
       "  --xr-font-color2: rgba(255, 255, 255, 0.54);\n",
       "  --xr-font-color3: rgba(255, 255, 255, 0.38);\n",
       "  --xr-border-color: #1F1F1F;\n",
       "  --xr-disabled-color: #515151;\n",
       "  --xr-background-color: #111111;\n",
       "  --xr-background-color-row-even: #111111;\n",
       "  --xr-background-color-row-odd: #313131;\n",
       "}\n",
       "\n",
       ".xr-wrap {\n",
       "  display: block;\n",
       "  min-width: 300px;\n",
       "  max-width: 700px;\n",
       "}\n",
       "\n",
       ".xr-text-repr-fallback {\n",
       "  /* fallback to plain text repr when CSS is not injected (untrusted notebook) */\n",
       "  display: none;\n",
       "}\n",
       "\n",
       ".xr-header {\n",
       "  padding-top: 6px;\n",
       "  padding-bottom: 6px;\n",
       "  margin-bottom: 4px;\n",
       "  border-bottom: solid 1px var(--xr-border-color);\n",
       "}\n",
       "\n",
       ".xr-header > div,\n",
       ".xr-header > ul {\n",
       "  display: inline;\n",
       "  margin-top: 0;\n",
       "  margin-bottom: 0;\n",
       "}\n",
       "\n",
       ".xr-obj-type,\n",
       ".xr-array-name {\n",
       "  margin-left: 2px;\n",
       "  margin-right: 10px;\n",
       "}\n",
       "\n",
       ".xr-obj-type {\n",
       "  color: var(--xr-font-color2);\n",
       "}\n",
       "\n",
       ".xr-sections {\n",
       "  padding-left: 0 !important;\n",
       "  display: grid;\n",
       "  grid-template-columns: 150px auto auto 1fr 20px 20px;\n",
       "}\n",
       "\n",
       ".xr-section-item {\n",
       "  display: contents;\n",
       "}\n",
       "\n",
       ".xr-section-item input {\n",
       "  display: none;\n",
       "}\n",
       "\n",
       ".xr-section-item input + label {\n",
       "  color: var(--xr-disabled-color);\n",
       "}\n",
       "\n",
       ".xr-section-item input:enabled + label {\n",
       "  cursor: pointer;\n",
       "  color: var(--xr-font-color2);\n",
       "}\n",
       "\n",
       ".xr-section-item input:enabled + label:hover {\n",
       "  color: var(--xr-font-color0);\n",
       "}\n",
       "\n",
       ".xr-section-summary {\n",
       "  grid-column: 1;\n",
       "  color: var(--xr-font-color2);\n",
       "  font-weight: 500;\n",
       "}\n",
       "\n",
       ".xr-section-summary > span {\n",
       "  display: inline-block;\n",
       "  padding-left: 0.5em;\n",
       "}\n",
       "\n",
       ".xr-section-summary-in:disabled + label {\n",
       "  color: var(--xr-font-color2);\n",
       "}\n",
       "\n",
       ".xr-section-summary-in + label:before {\n",
       "  display: inline-block;\n",
       "  content: '►';\n",
       "  font-size: 11px;\n",
       "  width: 15px;\n",
       "  text-align: center;\n",
       "}\n",
       "\n",
       ".xr-section-summary-in:disabled + label:before {\n",
       "  color: var(--xr-disabled-color);\n",
       "}\n",
       "\n",
       ".xr-section-summary-in:checked + label:before {\n",
       "  content: '▼';\n",
       "}\n",
       "\n",
       ".xr-section-summary-in:checked + label > span {\n",
       "  display: none;\n",
       "}\n",
       "\n",
       ".xr-section-summary,\n",
       ".xr-section-inline-details {\n",
       "  padding-top: 4px;\n",
       "  padding-bottom: 4px;\n",
       "}\n",
       "\n",
       ".xr-section-inline-details {\n",
       "  grid-column: 2 / -1;\n",
       "}\n",
       "\n",
       ".xr-section-details {\n",
       "  display: none;\n",
       "  grid-column: 1 / -1;\n",
       "  margin-bottom: 5px;\n",
       "}\n",
       "\n",
       ".xr-section-summary-in:checked ~ .xr-section-details {\n",
       "  display: contents;\n",
       "}\n",
       "\n",
       ".xr-array-wrap {\n",
       "  grid-column: 1 / -1;\n",
       "  display: grid;\n",
       "  grid-template-columns: 20px auto;\n",
       "}\n",
       "\n",
       ".xr-array-wrap > label {\n",
       "  grid-column: 1;\n",
       "  vertical-align: top;\n",
       "}\n",
       "\n",
       ".xr-preview {\n",
       "  color: var(--xr-font-color3);\n",
       "}\n",
       "\n",
       ".xr-array-preview,\n",
       ".xr-array-data {\n",
       "  padding: 0 5px !important;\n",
       "  grid-column: 2;\n",
       "}\n",
       "\n",
       ".xr-array-data,\n",
       ".xr-array-in:checked ~ .xr-array-preview {\n",
       "  display: none;\n",
       "}\n",
       "\n",
       ".xr-array-in:checked ~ .xr-array-data,\n",
       ".xr-array-preview {\n",
       "  display: inline-block;\n",
       "}\n",
       "\n",
       ".xr-dim-list {\n",
       "  display: inline-block !important;\n",
       "  list-style: none;\n",
       "  padding: 0 !important;\n",
       "  margin: 0;\n",
       "}\n",
       "\n",
       ".xr-dim-list li {\n",
       "  display: inline-block;\n",
       "  padding: 0;\n",
       "  margin: 0;\n",
       "}\n",
       "\n",
       ".xr-dim-list:before {\n",
       "  content: '(';\n",
       "}\n",
       "\n",
       ".xr-dim-list:after {\n",
       "  content: ')';\n",
       "}\n",
       "\n",
       ".xr-dim-list li:not(:last-child):after {\n",
       "  content: ',';\n",
       "  padding-right: 5px;\n",
       "}\n",
       "\n",
       ".xr-has-index {\n",
       "  font-weight: bold;\n",
       "}\n",
       "\n",
       ".xr-var-list,\n",
       ".xr-var-item {\n",
       "  display: contents;\n",
       "}\n",
       "\n",
       ".xr-var-item > div,\n",
       ".xr-var-item label,\n",
       ".xr-var-item > .xr-var-name span {\n",
       "  background-color: var(--xr-background-color-row-even);\n",
       "  margin-bottom: 0;\n",
       "}\n",
       "\n",
       ".xr-var-item > .xr-var-name:hover span {\n",
       "  padding-right: 5px;\n",
       "}\n",
       "\n",
       ".xr-var-list > li:nth-child(odd) > div,\n",
       ".xr-var-list > li:nth-child(odd) > label,\n",
       ".xr-var-list > li:nth-child(odd) > .xr-var-name span {\n",
       "  background-color: var(--xr-background-color-row-odd);\n",
       "}\n",
       "\n",
       ".xr-var-name {\n",
       "  grid-column: 1;\n",
       "}\n",
       "\n",
       ".xr-var-dims {\n",
       "  grid-column: 2;\n",
       "}\n",
       "\n",
       ".xr-var-dtype {\n",
       "  grid-column: 3;\n",
       "  text-align: right;\n",
       "  color: var(--xr-font-color2);\n",
       "}\n",
       "\n",
       ".xr-var-preview {\n",
       "  grid-column: 4;\n",
       "}\n",
       "\n",
       ".xr-var-name,\n",
       ".xr-var-dims,\n",
       ".xr-var-dtype,\n",
       ".xr-preview,\n",
       ".xr-attrs dt {\n",
       "  white-space: nowrap;\n",
       "  overflow: hidden;\n",
       "  text-overflow: ellipsis;\n",
       "  padding-right: 10px;\n",
       "}\n",
       "\n",
       ".xr-var-name:hover,\n",
       ".xr-var-dims:hover,\n",
       ".xr-var-dtype:hover,\n",
       ".xr-attrs dt:hover {\n",
       "  overflow: visible;\n",
       "  width: auto;\n",
       "  z-index: 1;\n",
       "}\n",
       "\n",
       ".xr-var-attrs,\n",
       ".xr-var-data {\n",
       "  display: none;\n",
       "  background-color: var(--xr-background-color) !important;\n",
       "  padding-bottom: 5px !important;\n",
       "}\n",
       "\n",
       ".xr-var-attrs-in:checked ~ .xr-var-attrs,\n",
       ".xr-var-data-in:checked ~ .xr-var-data {\n",
       "  display: block;\n",
       "}\n",
       "\n",
       ".xr-var-data > table {\n",
       "  float: right;\n",
       "}\n",
       "\n",
       ".xr-var-name span,\n",
       ".xr-var-data,\n",
       ".xr-attrs {\n",
       "  padding-left: 25px !important;\n",
       "}\n",
       "\n",
       ".xr-attrs,\n",
       ".xr-var-attrs,\n",
       ".xr-var-data {\n",
       "  grid-column: 1 / -1;\n",
       "}\n",
       "\n",
       "dl.xr-attrs {\n",
       "  padding: 0;\n",
       "  margin: 0;\n",
       "  display: grid;\n",
       "  grid-template-columns: 125px auto;\n",
       "}\n",
       "\n",
       ".xr-attrs dt, dd {\n",
       "  padding: 0;\n",
       "  margin: 0;\n",
       "  float: left;\n",
       "  padding-right: 10px;\n",
       "  width: auto;\n",
       "}\n",
       "\n",
       ".xr-attrs dt {\n",
       "  font-weight: normal;\n",
       "  grid-column: 1;\n",
       "}\n",
       "\n",
       ".xr-attrs dt:hover span {\n",
       "  display: inline-block;\n",
       "  background: var(--xr-background-color);\n",
       "  padding-right: 10px;\n",
       "}\n",
       "\n",
       ".xr-attrs dd {\n",
       "  grid-column: 2;\n",
       "  white-space: pre-wrap;\n",
       "  word-break: break-all;\n",
       "}\n",
       "\n",
       ".xr-icon-database,\n",
       ".xr-icon-file-text2 {\n",
       "  display: inline-block;\n",
       "  vertical-align: middle;\n",
       "  width: 1em;\n",
       "  height: 1.5em !important;\n",
       "  stroke-width: 0;\n",
       "  stroke: currentColor;\n",
       "  fill: currentColor;\n",
       "}\n",
       "</style><pre class='xr-text-repr-fallback'>&lt;xarray.Dataset&gt;\n",
       "Dimensions:                          (corner: 4, ground_pixel: 450, scanline: 4173, time: 1)\n",
       "Coordinates:\n",
       "  * scanline                         (scanline) float64 0.0 1.0 ... 4.172e+03\n",
       "  * ground_pixel                     (ground_pixel) float64 0.0 1.0 ... 449.0\n",
       "  * time                             (time) datetime64[ns] 2020-07-26\n",
       "  * corner                           (corner) float64 0.0 1.0 2.0 3.0\n",
       "    latitude                         (time, scanline, ground_pixel) float32 ...\n",
       "    longitude                        (time, scanline, ground_pixel) float32 ...\n",
       "Data variables:\n",
       "    delta_time                       (time, scanline) datetime64[ns] 2020-07-...\n",
       "    time_utc                         (time, scanline) object &#x27;2020-07-26T13:3...\n",
       "    qa_value                         (time, scanline, ground_pixel) float32 ...\n",
       "    aerosol_index_354_388            (time, scanline, ground_pixel) float32 ...\n",
       "    aerosol_index_340_380            (time, scanline, ground_pixel) float32 ...\n",
       "    aerosol_index_354_388_precision  (time, scanline, ground_pixel) float32 ...\n",
       "    aerosol_index_340_380_precision  (time, scanline, ground_pixel) float32 ...</pre><div class='xr-wrap' hidden><div class='xr-header'><div class='xr-obj-type'>xarray.Dataset</div></div><ul class='xr-sections'><li class='xr-section-item'><input id='section-2a26b167-7f64-4808-add4-f7c1ba8ff8a2' class='xr-section-summary-in' type='checkbox' disabled ><label for='section-2a26b167-7f64-4808-add4-f7c1ba8ff8a2' class='xr-section-summary'  title='Expand/collapse section'>Dimensions:</label><div class='xr-section-inline-details'><ul class='xr-dim-list'><li><span class='xr-has-index'>corner</span>: 4</li><li><span class='xr-has-index'>ground_pixel</span>: 450</li><li><span class='xr-has-index'>scanline</span>: 4173</li><li><span class='xr-has-index'>time</span>: 1</li></ul></div><div class='xr-section-details'></div></li><li class='xr-section-item'><input id='section-e4c8ba83-b348-4793-a806-031058172c58' class='xr-section-summary-in' type='checkbox'  checked><label for='section-e4c8ba83-b348-4793-a806-031058172c58' class='xr-section-summary' >Coordinates: <span>(6)</span></label><div class='xr-section-inline-details'></div><div class='xr-section-details'><ul class='xr-var-list'><li class='xr-var-item'><div class='xr-var-name'><span class='xr-has-index'>scanline</span></div><div class='xr-var-dims'>(scanline)</div><div class='xr-var-dtype'>float64</div><div class='xr-var-preview xr-preview'>0.0 1.0 2.0 ... 4.171e+03 4.172e+03</div><input id='attrs-c77b8bc0-090d-4733-959a-9ff7ca062898' class='xr-var-attrs-in' type='checkbox' ><label for='attrs-c77b8bc0-090d-4733-959a-9ff7ca062898' title='Show/Hide attributes'><svg class='icon xr-icon-file-text2'><use xlink:href='#icon-file-text2'></use></svg></label><input id='data-5f5e44c1-9c98-484e-8147-f959b9633d5a' class='xr-var-data-in' type='checkbox'><label for='data-5f5e44c1-9c98-484e-8147-f959b9633d5a' title='Show/Hide data repr'><svg class='icon xr-icon-database'><use xlink:href='#icon-database'></use></svg></label><div class='xr-var-attrs'><dl class='xr-attrs'><dt><span>units :</span></dt><dd>1</dd><dt><span>axis :</span></dt><dd>Y</dd><dt><span>long_name :</span></dt><dd>along-track dimension index</dd><dt><span>comment :</span></dt><dd>This coordinate variable defines the indices along track; index starts at 0</dd></dl></div><div class='xr-var-data'><pre>array([0.000e+00, 1.000e+00, 2.000e+00, ..., 4.170e+03, 4.171e+03, 4.172e+03])</pre></div></li><li class='xr-var-item'><div class='xr-var-name'><span class='xr-has-index'>ground_pixel</span></div><div class='xr-var-dims'>(ground_pixel)</div><div class='xr-var-dtype'>float64</div><div class='xr-var-preview xr-preview'>0.0 1.0 2.0 ... 447.0 448.0 449.0</div><input id='attrs-ca80d373-a08d-4011-bcc8-4df43ada6c77' class='xr-var-attrs-in' type='checkbox' ><label for='attrs-ca80d373-a08d-4011-bcc8-4df43ada6c77' title='Show/Hide attributes'><svg class='icon xr-icon-file-text2'><use xlink:href='#icon-file-text2'></use></svg></label><input id='data-b566a931-961c-4c75-b307-6da392454fab' class='xr-var-data-in' type='checkbox'><label for='data-b566a931-961c-4c75-b307-6da392454fab' title='Show/Hide data repr'><svg class='icon xr-icon-database'><use xlink:href='#icon-database'></use></svg></label><div class='xr-var-attrs'><dl class='xr-attrs'><dt><span>units :</span></dt><dd>1</dd><dt><span>axis :</span></dt><dd>X</dd><dt><span>long_name :</span></dt><dd>across-track dimension index</dd><dt><span>comment :</span></dt><dd>This coordinate variable defines the indices across track, from west to east; index starts at 0</dd></dl></div><div class='xr-var-data'><pre>array([  0.,   1.,   2., ..., 447., 448., 449.])</pre></div></li><li class='xr-var-item'><div class='xr-var-name'><span class='xr-has-index'>time</span></div><div class='xr-var-dims'>(time)</div><div class='xr-var-dtype'>datetime64[ns]</div><div class='xr-var-preview xr-preview'>2020-07-26</div><input id='attrs-dd5d21fc-a451-4a9e-812d-fc867c2842e3' class='xr-var-attrs-in' type='checkbox' ><label for='attrs-dd5d21fc-a451-4a9e-812d-fc867c2842e3' title='Show/Hide attributes'><svg class='icon xr-icon-file-text2'><use xlink:href='#icon-file-text2'></use></svg></label><input id='data-ac256681-76ae-46a9-a177-8308ca695ab5' class='xr-var-data-in' type='checkbox'><label for='data-ac256681-76ae-46a9-a177-8308ca695ab5' title='Show/Hide data repr'><svg class='icon xr-icon-database'><use xlink:href='#icon-database'></use></svg></label><div class='xr-var-attrs'><dl class='xr-attrs'><dt><span>standard_name :</span></dt><dd>time</dd><dt><span>axis :</span></dt><dd>T</dd><dt><span>long_name :</span></dt><dd>reference time for the measurements</dd><dt><span>comment :</span></dt><dd>The time in this variable corresponds to the time in the time_reference global attribute</dd></dl></div><div class='xr-var-data'><pre>array([&#x27;2020-07-26T00:00:00.000000000&#x27;], dtype=&#x27;datetime64[ns]&#x27;)</pre></div></li><li class='xr-var-item'><div class='xr-var-name'><span class='xr-has-index'>corner</span></div><div class='xr-var-dims'>(corner)</div><div class='xr-var-dtype'>float64</div><div class='xr-var-preview xr-preview'>0.0 1.0 2.0 3.0</div><input id='attrs-9bbb8f59-1145-463d-a150-704efb5269cf' class='xr-var-attrs-in' type='checkbox' ><label for='attrs-9bbb8f59-1145-463d-a150-704efb5269cf' title='Show/Hide attributes'><svg class='icon xr-icon-file-text2'><use xlink:href='#icon-file-text2'></use></svg></label><input id='data-3a66acc0-5063-4b5f-b56e-505291e183cd' class='xr-var-data-in' type='checkbox'><label for='data-3a66acc0-5063-4b5f-b56e-505291e183cd' title='Show/Hide data repr'><svg class='icon xr-icon-database'><use xlink:href='#icon-database'></use></svg></label><div class='xr-var-attrs'><dl class='xr-attrs'><dt><span>units :</span></dt><dd>1</dd><dt><span>long_name :</span></dt><dd>pixel corner index</dd><dt><span>comment :</span></dt><dd>This coordinate variable defines the indices for the pixel corners; index starts at 0 (counter-clockwise, starting from south-western corner of the pixel in ascending part of the orbit)</dd></dl></div><div class='xr-var-data'><pre>array([0., 1., 2., 3.])</pre></div></li><li class='xr-var-item'><div class='xr-var-name'><span>latitude</span></div><div class='xr-var-dims'>(time, scanline, ground_pixel)</div><div class='xr-var-dtype'>float32</div><div class='xr-var-preview xr-preview'>...</div><input id='attrs-20bfdf98-b8f1-4a12-a316-3427d114a736' class='xr-var-attrs-in' type='checkbox' ><label for='attrs-20bfdf98-b8f1-4a12-a316-3427d114a736' title='Show/Hide attributes'><svg class='icon xr-icon-file-text2'><use xlink:href='#icon-file-text2'></use></svg></label><input id='data-3b88ce02-05e7-4951-8b0b-86774dd92843' class='xr-var-data-in' type='checkbox'><label for='data-3b88ce02-05e7-4951-8b0b-86774dd92843' title='Show/Hide data repr'><svg class='icon xr-icon-database'><use xlink:href='#icon-database'></use></svg></label><div class='xr-var-attrs'><dl class='xr-attrs'><dt><span>long_name :</span></dt><dd>pixel center latitude</dd><dt><span>units :</span></dt><dd>degrees_north</dd><dt><span>standard_name :</span></dt><dd>latitude</dd><dt><span>valid_min :</span></dt><dd>-90.0</dd><dt><span>valid_max :</span></dt><dd>90.0</dd><dt><span>bounds :</span></dt><dd>/PRODUCT/SUPPORT_DATA/GEOLOCATIONS/latitude_bounds</dd></dl></div><div class='xr-var-data'><pre>[1877850 values with dtype=float32]</pre></div></li><li class='xr-var-item'><div class='xr-var-name'><span>longitude</span></div><div class='xr-var-dims'>(time, scanline, ground_pixel)</div><div class='xr-var-dtype'>float32</div><div class='xr-var-preview xr-preview'>...</div><input id='attrs-9e1a9c17-f1b6-4292-b42a-4fc8891e1bdd' class='xr-var-attrs-in' type='checkbox' ><label for='attrs-9e1a9c17-f1b6-4292-b42a-4fc8891e1bdd' title='Show/Hide attributes'><svg class='icon xr-icon-file-text2'><use xlink:href='#icon-file-text2'></use></svg></label><input id='data-3f362433-9842-41b8-a1fc-273c0353e3e9' class='xr-var-data-in' type='checkbox'><label for='data-3f362433-9842-41b8-a1fc-273c0353e3e9' title='Show/Hide data repr'><svg class='icon xr-icon-database'><use xlink:href='#icon-database'></use></svg></label><div class='xr-var-attrs'><dl class='xr-attrs'><dt><span>long_name :</span></dt><dd>pixel center longitude</dd><dt><span>units :</span></dt><dd>degrees_east</dd><dt><span>standard_name :</span></dt><dd>longitude</dd><dt><span>valid_min :</span></dt><dd>-180.0</dd><dt><span>valid_max :</span></dt><dd>180.0</dd><dt><span>bounds :</span></dt><dd>/PRODUCT/SUPPORT_DATA/GEOLOCATIONS/longitude_bounds</dd></dl></div><div class='xr-var-data'><pre>[1877850 values with dtype=float32]</pre></div></li></ul></div></li><li class='xr-section-item'><input id='section-6fbdd764-9756-46ad-868c-aec07f9df639' class='xr-section-summary-in' type='checkbox'  checked><label for='section-6fbdd764-9756-46ad-868c-aec07f9df639' class='xr-section-summary' >Data variables: <span>(7)</span></label><div class='xr-section-inline-details'></div><div class='xr-section-details'><ul class='xr-var-list'><li class='xr-var-item'><div class='xr-var-name'><span>delta_time</span></div><div class='xr-var-dims'>(time, scanline)</div><div class='xr-var-dtype'>datetime64[ns]</div><div class='xr-var-preview xr-preview'>...</div><input id='attrs-a2859c2a-a106-4d49-b49f-b3abdfc67625' class='xr-var-attrs-in' type='checkbox' ><label for='attrs-a2859c2a-a106-4d49-b49f-b3abdfc67625' title='Show/Hide attributes'><svg class='icon xr-icon-file-text2'><use xlink:href='#icon-file-text2'></use></svg></label><input id='data-6ea7504c-d1cc-4379-bd27-fd34e34386c7' class='xr-var-data-in' type='checkbox'><label for='data-6ea7504c-d1cc-4379-bd27-fd34e34386c7' title='Show/Hide data repr'><svg class='icon xr-icon-database'><use xlink:href='#icon-database'></use></svg></label><div class='xr-var-attrs'><dl class='xr-attrs'><dt><span>long_name :</span></dt><dd>offset of start time of measurement relative to time_reference</dd></dl></div><div class='xr-var-data'><pre>array([[&#x27;2020-07-26T13:35:49.884000000&#x27;, &#x27;2020-07-26T13:35:50.723000000&#x27;,\n",
       "        &#x27;2020-07-26T13:35:51.563000000&#x27;, ..., &#x27;2020-07-26T14:34:12.601000000&#x27;,\n",
       "        &#x27;2020-07-26T14:34:13.441000000&#x27;, &#x27;2020-07-26T14:34:14.281000000&#x27;]],\n",
       "      dtype=&#x27;datetime64[ns]&#x27;)</pre></div></li><li class='xr-var-item'><div class='xr-var-name'><span>time_utc</span></div><div class='xr-var-dims'>(time, scanline)</div><div class='xr-var-dtype'>object</div><div class='xr-var-preview xr-preview'>...</div><input id='attrs-2de810b0-84a0-4e8a-88a2-65dd0b712816' class='xr-var-attrs-in' type='checkbox' ><label for='attrs-2de810b0-84a0-4e8a-88a2-65dd0b712816' title='Show/Hide attributes'><svg class='icon xr-icon-file-text2'><use xlink:href='#icon-file-text2'></use></svg></label><input id='data-fae5068a-1b25-48ed-8265-60a3ee07caa5' class='xr-var-data-in' type='checkbox'><label for='data-fae5068a-1b25-48ed-8265-60a3ee07caa5' title='Show/Hide data repr'><svg class='icon xr-icon-database'><use xlink:href='#icon-database'></use></svg></label><div class='xr-var-attrs'><dl class='xr-attrs'><dt><span>long_name :</span></dt><dd>Time of observation as ISO 8601 date-time string</dd></dl></div><div class='xr-var-data'><pre>array([[&#x27;2020-07-26T13:35:49.884000Z&#x27;, &#x27;2020-07-26T13:35:50.723000Z&#x27;,\n",
       "        &#x27;2020-07-26T13:35:51.563000Z&#x27;, ..., &#x27;2020-07-26T14:34:12.601000Z&#x27;,\n",
       "        &#x27;2020-07-26T14:34:13.441000Z&#x27;, &#x27;2020-07-26T14:34:14.281000Z&#x27;]],\n",
       "      dtype=object)</pre></div></li><li class='xr-var-item'><div class='xr-var-name'><span>qa_value</span></div><div class='xr-var-dims'>(time, scanline, ground_pixel)</div><div class='xr-var-dtype'>float32</div><div class='xr-var-preview xr-preview'>...</div><input id='attrs-e7698a37-2fea-4091-961f-69549f7d789b' class='xr-var-attrs-in' type='checkbox' ><label for='attrs-e7698a37-2fea-4091-961f-69549f7d789b' title='Show/Hide attributes'><svg class='icon xr-icon-file-text2'><use xlink:href='#icon-file-text2'></use></svg></label><input id='data-694790c1-c657-4aa8-ab39-6516908cf7d2' class='xr-var-data-in' type='checkbox'><label for='data-694790c1-c657-4aa8-ab39-6516908cf7d2' title='Show/Hide data repr'><svg class='icon xr-icon-database'><use xlink:href='#icon-database'></use></svg></label><div class='xr-var-attrs'><dl class='xr-attrs'><dt><span>units :</span></dt><dd>1</dd><dt><span>valid_min_ :</span></dt><dd>0</dd><dt><span>valid_max_ :</span></dt><dd>100</dd><dt><span>long_name :</span></dt><dd>data quality value</dd><dt><span>comment :</span></dt><dd>A continuous quality descriptor, varying between 0 (no data) and 1 (full quality data). Recommend to ignore data with qa_value &lt; 0.5</dd></dl></div><div class='xr-var-data'><pre>[1877850 values with dtype=float32]</pre></div></li><li class='xr-var-item'><div class='xr-var-name'><span>aerosol_index_354_388</span></div><div class='xr-var-dims'>(time, scanline, ground_pixel)</div><div class='xr-var-dtype'>float32</div><div class='xr-var-preview xr-preview'>...</div><input id='attrs-f4c83be0-2660-4459-91f4-0e9c34359312' class='xr-var-attrs-in' type='checkbox' ><label for='attrs-f4c83be0-2660-4459-91f4-0e9c34359312' title='Show/Hide attributes'><svg class='icon xr-icon-file-text2'><use xlink:href='#icon-file-text2'></use></svg></label><input id='data-8e506ad5-8aba-4a46-9085-c9111d6ceffe' class='xr-var-data-in' type='checkbox'><label for='data-8e506ad5-8aba-4a46-9085-c9111d6ceffe' title='Show/Hide data repr'><svg class='icon xr-icon-database'><use xlink:href='#icon-database'></use></svg></label><div class='xr-var-attrs'><dl class='xr-attrs'><dt><span>units :</span></dt><dd>1</dd><dt><span>proposed_standard_name :</span></dt><dd>ultraviolet_aerosol_index</dd><dt><span>comment :</span></dt><dd>Aerosol index from 388 and 354 nm</dd><dt><span>long_name :</span></dt><dd>Aerosol index from 388 and 354 nm</dd><dt><span>radiation_wavelength :</span></dt><dd>[354. 388.]</dd><dt><span>ancillary_variables :</span></dt><dd>aerosol_index_354_388_precision</dd></dl></div><div class='xr-var-data'><pre>[1877850 values with dtype=float32]</pre></div></li><li class='xr-var-item'><div class='xr-var-name'><span>aerosol_index_340_380</span></div><div class='xr-var-dims'>(time, scanline, ground_pixel)</div><div class='xr-var-dtype'>float32</div><div class='xr-var-preview xr-preview'>...</div><input id='attrs-f5d2fc03-e860-4a49-803c-e5cd1bea667b' class='xr-var-attrs-in' type='checkbox' ><label for='attrs-f5d2fc03-e860-4a49-803c-e5cd1bea667b' title='Show/Hide attributes'><svg class='icon xr-icon-file-text2'><use xlink:href='#icon-file-text2'></use></svg></label><input id='data-3a485a4c-06e0-4fe7-96c9-fbf374a6c444' class='xr-var-data-in' type='checkbox'><label for='data-3a485a4c-06e0-4fe7-96c9-fbf374a6c444' title='Show/Hide data repr'><svg class='icon xr-icon-database'><use xlink:href='#icon-database'></use></svg></label><div class='xr-var-attrs'><dl class='xr-attrs'><dt><span>units :</span></dt><dd>1</dd><dt><span>proposed_standard_name :</span></dt><dd>ultraviolet_aerosol_index</dd><dt><span>comment :</span></dt><dd>Aerosol index from 380 and 340 nm</dd><dt><span>long_name :</span></dt><dd>Aerosol index from 380 and 340 nm</dd><dt><span>radiation_wavelength :</span></dt><dd>[340. 380.]</dd><dt><span>ancillary_variables :</span></dt><dd>aerosol_index_340_380_precision</dd></dl></div><div class='xr-var-data'><pre>[1877850 values with dtype=float32]</pre></div></li><li class='xr-var-item'><div class='xr-var-name'><span>aerosol_index_354_388_precision</span></div><div class='xr-var-dims'>(time, scanline, ground_pixel)</div><div class='xr-var-dtype'>float32</div><div class='xr-var-preview xr-preview'>...</div><input id='attrs-46e60e25-1d30-46c5-b535-1fe2b0b76937' class='xr-var-attrs-in' type='checkbox' ><label for='attrs-46e60e25-1d30-46c5-b535-1fe2b0b76937' title='Show/Hide attributes'><svg class='icon xr-icon-file-text2'><use xlink:href='#icon-file-text2'></use></svg></label><input id='data-7284d88c-41de-482e-bf4b-f5d67ecf99c6' class='xr-var-data-in' type='checkbox'><label for='data-7284d88c-41de-482e-bf4b-f5d67ecf99c6' title='Show/Hide data repr'><svg class='icon xr-icon-database'><use xlink:href='#icon-database'></use></svg></label><div class='xr-var-attrs'><dl class='xr-attrs'><dt><span>units :</span></dt><dd>1</dd><dt><span>proposed_standard_name :</span></dt><dd>ultraviolet_aerosol_index standard_error</dd><dt><span>comment :</span></dt><dd>Precision of aerosol index from 388 and 354 nm</dd><dt><span>long_name :</span></dt><dd>Precision of aerosol index from 388 and 354 nm</dd><dt><span>radiation_wavelength :</span></dt><dd>[354. 388.]</dd></dl></div><div class='xr-var-data'><pre>[1877850 values with dtype=float32]</pre></div></li><li class='xr-var-item'><div class='xr-var-name'><span>aerosol_index_340_380_precision</span></div><div class='xr-var-dims'>(time, scanline, ground_pixel)</div><div class='xr-var-dtype'>float32</div><div class='xr-var-preview xr-preview'>...</div><input id='attrs-6fb687da-3ba9-4bcf-b8c3-bbe39bcddb97' class='xr-var-attrs-in' type='checkbox' ><label for='attrs-6fb687da-3ba9-4bcf-b8c3-bbe39bcddb97' title='Show/Hide attributes'><svg class='icon xr-icon-file-text2'><use xlink:href='#icon-file-text2'></use></svg></label><input id='data-d77f1df3-fe2e-4654-a077-3b8f6527ec00' class='xr-var-data-in' type='checkbox'><label for='data-d77f1df3-fe2e-4654-a077-3b8f6527ec00' title='Show/Hide data repr'><svg class='icon xr-icon-database'><use xlink:href='#icon-database'></use></svg></label><div class='xr-var-attrs'><dl class='xr-attrs'><dt><span>units :</span></dt><dd>1</dd><dt><span>proposed_standard_name :</span></dt><dd>ultraviolet_aerosol_index standard_error</dd><dt><span>comment :</span></dt><dd>Precision of aerosol index from 380 and 340 nm</dd><dt><span>long_name :</span></dt><dd>Precision of aerosol index from 380 and 340 nm</dd><dt><span>radiation_wavelength :</span></dt><dd>[340. 380.]</dd></dl></div><div class='xr-var-data'><pre>[1877850 values with dtype=float32]</pre></div></li></ul></div></li><li class='xr-section-item'><input id='section-3844e85c-46cf-4bb7-9c85-140d97be33c5' class='xr-section-summary-in' type='checkbox' disabled ><label for='section-3844e85c-46cf-4bb7-9c85-140d97be33c5' class='xr-section-summary'  title='Expand/collapse section'>Attributes: <span>(0)</span></label><div class='xr-section-inline-details'></div><div class='xr-section-details'><dl class='xr-attrs'></dl></div></li></ul></div></div>"
      ],
      "text/plain": [
       "<xarray.Dataset>\n",
       "Dimensions:                          (corner: 4, ground_pixel: 450, scanline: 4173, time: 1)\n",
       "Coordinates:\n",
       "  * scanline                         (scanline) float64 0.0 1.0 ... 4.172e+03\n",
       "  * ground_pixel                     (ground_pixel) float64 0.0 1.0 ... 449.0\n",
       "  * time                             (time) datetime64[ns] 2020-07-26\n",
       "  * corner                           (corner) float64 0.0 1.0 2.0 3.0\n",
       "    latitude                         (time, scanline, ground_pixel) float32 ...\n",
       "    longitude                        (time, scanline, ground_pixel) float32 ...\n",
       "Data variables:\n",
       "    delta_time                       (time, scanline) datetime64[ns] ...\n",
       "    time_utc                         (time, scanline) object ...\n",
       "    qa_value                         (time, scanline, ground_pixel) float32 ...\n",
       "    aerosol_index_354_388            (time, scanline, ground_pixel) float32 ...\n",
       "    aerosol_index_340_380            (time, scanline, ground_pixel) float32 ...\n",
       "    aerosol_index_354_388_precision  (time, scanline, ground_pixel) float32 ...\n",
       "    aerosol_index_340_380_precision  (time, scanline, ground_pixel) float32 ..."
      ]
     },
     "execution_count": 14,
     "metadata": {},
     "output_type": "execute_result"
    }
   ],
   "source": [
    "s5P_mf = xr.open_dataset('./eodata/sentinel5p/uvai/2020/07/26/S5P_OFFL_L2__AER_AI_20200726T131416_20200726T145545_14431_01_010302_20200801T070858.nc', group='PRODUCT')\n",
    "s5P_mf"
   ]
  },
  {
   "cell_type": "markdown",
   "metadata": {},
   "source": [
    "### Select an `aerosol index` variable"
   ]
  },
  {
   "cell_type": "markdown",
   "metadata": {},
   "source": [
    "The Sentinel-5P TROPOMI aerosol index data provide the Aerosol Index for two different wavelength pairs: \n",
    "- `340_380 nm`\n",
    "- `354_388 nm` \n",
    "\n",
    "For both parameters the interpretation of the index value is the same. \n",
    "\n",
    "Let us use the aerosol index for the wavelength pair 340_380 nm. The variable name is `aerosol_index_340_380`. You can select the variable from the data set, together with the geo-coordinates as follows:"
   ]
  },
  {
   "cell_type": "code",
   "execution_count": 15,
   "metadata": {},
   "outputs": [],
   "source": [
    "uvai = s5P_mf.aerosol_index_340_380[0,:,:]\n",
    "lat = uvai.latitude\n",
    "lon = uvai.longitude\n"
   ]
  },
  {
   "cell_type": "markdown",
   "metadata": {},
   "source": [
    "### Read the `Quality Flag` to mask the UVAI data"
   ]
  },
  {
   "cell_type": "markdown",
   "metadata": {},
   "source": [
    "Another important parameter to read is the general quality flag called `qa_value`. The quality flag removes the sun glint pixels, where \"falsely\" high positive UVAI values over sea can be detected. In order to exclude sun glint, it is recommended to use only values where the `qa_value` is higher than 0.8. "
   ]
  },
  {
   "cell_type": "code",
   "execution_count": 16,
   "metadata": {},
   "outputs": [],
   "source": [
    "qa=s5P_mf.qa_value[0,:,:]"
   ]
  },
  {
   "cell_type": "markdown",
   "metadata": {},
   "source": [
    "### Apply the qa value and mask the data"
   ]
  },
  {
   "cell_type": "markdown",
   "metadata": {},
   "source": [
    "The final step before plotting is to mask the aerosol index data based on the qa mask. You filter data with the `xarray` function `where`."
   ]
  },
  {
   "cell_type": "code",
   "execution_count": 17,
   "metadata": {},
   "outputs": [],
   "source": [
    "uvai_masked=uvai.where(qa > 0.8)"
   ]
  },
  {
   "cell_type": "markdown",
   "metadata": {},
   "source": [
    "### Visualize the `UV Aerosol Index` value"
   ]
  },
  {
   "cell_type": "markdown",
   "metadata": {},
   "source": [
    "Before you plot the data, you can define the geographical extent you wish to plot."
   ]
  },
  {
   "cell_type": "code",
   "execution_count": 18,
   "metadata": {},
   "outputs": [],
   "source": [
    "latmin = 35.5\n",
    "latmax = 44.\n",
    "lonmin = -11.\n",
    "lonmax = -5"
   ]
  },
  {
   "cell_type": "markdown",
   "metadata": {},
   "source": [
    "You can use the function [visualize_pcolormesh](./function.ipynb#visualize_pcolormesh) to plot the `Aerosol Index for the wavelength pair 340 to 380 nm`"
   ]
  },
  {
   "cell_type": "markdown",
   "metadata": {},
   "source": [
    "The following keyword arguments have to be defined:\n",
    "* `data_array`\n",
    "* `longitude`\n",
    "* `latitude`\n",
    "* `projection`\n",
    "* `color palette`\n",
    "* `unit`\n",
    "* `long_name`\n",
    "* `vmin`, \n",
    "* `vmax`\n",
    "* `extent (lonmin, lonmax, latmin, latmax)`\n",
    "* `set_global`"
   ]
  },
  {
   "cell_type": "code",
   "execution_count": 19,
   "metadata": {},
   "outputs": [
    {
     "data": {
      "text/plain": [
       "(<Figure size 1440x720 with 2 Axes>,\n",
       " <GeoAxesSubplot:title={'center':'Aerosol index from 380 and 340 nm'}>)"
      ]
     },
     "execution_count": 19,
     "metadata": {},
     "output_type": "execute_result"
    },
    {
     "data": {
      "image/png": "[encoded data removed]",
      "text/plain": [
       "<Figure size 1440x720 with 2 Axes>"
      ]
     },
     "metadata": {
      "needs_background": "light"
     },
     "output_type": "display_data"
    }
   ],
   "source": [
    "visualize_pcolormesh(data_array=uvai_masked,\n",
    "                     longitude=lon,\n",
    "                     latitude=lat,\n",
    "                     projection=ccrs.PlateCarree(),\n",
    "                     color_scale='YlGn',\n",
    "                     unit= 'UV Aerosol Index (340/380)',\n",
    "                     long_name=uvai.long_name,\n",
    "                     vmin=0, \n",
    "                     vmax=2,\n",
    "                     lonmin=lonmin,\n",
    "                     lonmax=lonmax,\n",
    "                     latmin=latmin,\n",
    "                     latmax=latmax,\n",
    "                     set_global=False)"
   ]
  },
  {
   "cell_type": "markdown",
   "metadata": {},
   "source": [
    "<br>"
   ]
  },
  {
   "cell_type": "markdown",
   "metadata": {},
   "source": [
    "<a href=\"./00_index.ipynb\"><< Index</a><br>\n",
    "<a href=\"./31_Sentinel-5P_TROPOMI_CO.ipynb\"><< 31 - Sentinel-5P TROPOMI CO </a><span style=\"float:right;\"><a href=\"./41_LSA-SAF.ipynb\"> 41 - LSA SAF >></a></span>"
   ]
  },
  {
   "cell_type": "markdown",
   "metadata": {},
   "source": [
    "<hr>"
   ]
  },
  {
   "cell_type": "markdown",
   "metadata": {},
   "source": [
    "<img src='./img/copernicus_logo.png' alt='Logo EU Copernicus' align='right' width='20%'><br><br><br><br>\n",
    "\n",
    "<p style=\"text-align:right;\">This project is licensed under the <a href=\"./LICENSE\">MIT License</a> and is developed under a Copernicus contract."
   ]
  }
 ],
 "metadata": {
  "kernelspec": {
   "display_name": "Python 3",
   "language": "python",
   "name": "python3"
  },
  "language_info": {
   "codemirror_mode": {
    "name": "ipython",
    "version": 3
   },
   "file_extension": ".py",
   "mimetype": "text/x-python",
   "name": "python",
   "nbconvert_exporter": "python",
   "pygments_lexer": "ipython3",
   "version": "3.8.6"
  }
 },
 "nbformat": 4,
 "nbformat_minor": 4
}
