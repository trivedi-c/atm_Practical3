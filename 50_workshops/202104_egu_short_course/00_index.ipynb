{
 "cells": [
  {
   "cell_type": "markdown",
   "metadata": {
    "Collapsed": "false"
   },
   "source": [
    "<img src='./img/egu21_logo.png' alt='Logo EU Copernicus EUMETSAT' align='left' width='25%'></img><img src='./img/atmos_logos.png' alt='Logo EU Copernicus EUMETSAT' align='right' width='65%'></img></span>\n",
    "\n",
    "<br>"
   ]
  },
  {
   "cell_type": "markdown",
   "metadata": {},
   "source": [
    "<br>"
   ]
  },
  {
   "cell_type": "markdown",
   "metadata": {
    "Collapsed": "false"
   },
   "source": [
    "<br>"
   ]
  },
  {
   "cell_type": "markdown",
   "metadata": {
    "Collapsed": "false"
   },
   "source": [
    "#### EGU Short Course 5.5 - Using Copernicus data for Atmospheric Composition Applications | 28 April + 5 May 2021"
   ]
  },
  {
   "cell_type": "markdown",
   "metadata": {},
   "source": [
    "# Discover satellite data for Dust Monitoring"
   ]
  },
  {
   "cell_type": "markdown",
   "metadata": {},
   "source": [
    "Jointly organized by [EUMETSAT](https://www.eumetsat.int/website/home/index.html), [CAMS-ECMWF](https://atmosphere.copernicus.eu/) and [ESA](https://www.esa.int), with support from [Copernicus](https://www.copernicus.eu/en)."
   ]
  },
  {
   "cell_type": "markdown",
   "metadata": {
    "Collapsed": "false"
   },
   "source": [
    "This practical session gives you an overview of different satellite data for dust monitoring and provides you hands-on practical example how to retrieve, load, process and visualize the data.\n",
    "\n"
   ]
  },
  {
   "cell_type": "markdown",
   "metadata": {},
   "source": [
    "<br>"
   ]
  },
  {
   "cell_type": "markdown",
   "metadata": {},
   "source": [
    "<img src='./img/egu_short_course_logo.jpg' alt='Logo EU Copernicus EUMETSAT' align='center' width='70%'></img>"
   ]
  },
  {
   "cell_type": "markdown",
   "metadata": {},
   "source": [
    "<br>"
   ]
  },
  {
   "cell_type": "markdown",
   "metadata": {
    "Collapsed": "false"
   },
   "source": [
    "## Notebook overview and featured data"
   ]
  },
  {
   "cell_type": "markdown",
   "metadata": {
    "Collapsed": "false"
   },
   "source": [
    "### The following satellite datasets for dust monitoring are featured:\n",
    "\n",
    "* [CAMS Global Near-Real-Time Forecast](https://apps.ecmwf.int/datasets/data/cams-nrealtime/levtype=sfc/)\n",
    "* [CAMS European Air Quality Forecasts and Analyses](https://ads.atmosphere.copernicus.eu/cdsapp#!/dataset/cams-europe-air-quality-forecasts?tab=overview)\n",
    "* [Sentinel-5P TROPOMI Level 2 Ultraviolet Aerosol Index](https://sentinels.copernicus.eu/web/sentinel/data-products/-/asset_publisher/fp37fc19FN8F/content/sentinel-5-precursor-level-2-ultraviolet-aerosol-index)\n",
    "* [AC SAF GOME-2 Level 3 Absorbing Aerosol Index](https://acsaf.org/index.html)\n"
   ]
  },
  {
   "cell_type": "markdown",
   "metadata": {},
   "source": [
    "<br>"
   ]
  },
  {
   "cell_type": "markdown",
   "metadata": {},
   "source": [
    "### The following notebooks are available:\n",
    "\n",
    "#### Data discovery\n",
    "\n",
    "* [01 - Overview - Atmospheric Composition Data - Overview and Retrieve](./01_overview_atmospheric_composition_data_retrieve.ipynb)\n",
    "* [02 - CAMS global near-real-time forecast - Dust Aerosol Optical Depth - Load and browse](./02_CAMS_global_forecast_duaod_load_browse.ipynb)\n",
    "* [03 - CAMS European Air Quality Forecasts and Analyses - Dust concentration - Load and browse](./03_CAMS_European_air_quality_forecast_dust_concentration_load_browse.ipynb)\n",
    "* [04 - Sentinel-5P TROPOMI Ultraviolet Aerosol Index Level 2 - Load and browse](./04_Sentinel-5P_TROPOMI_AI_L2_load_browse.ipynb)\n",
    "* [05 - Metop-ABC GOME-2 Absorbing Aerosol Index Level 3 - Load and browse](./05_Metop-ABC_GOME-2_AAI_L3_load_browse.ipynb)\n",
    "\n",
    "#### Exercises\n",
    "* [12 - CAMS global near-real-time forecast - Dust Aerosol Optical Depth - Exercise](./12_CAMS_global_forecast_duaod_exercise.ipynb)\n",
    "* [13 - CAMS European Air Quality Forecasts and Analyses - Dust concentration - Exercise](./13_CAMS_European_air_quality_forecast_dust_concentration_exercise.ipynb)\n",
    "* [14 - Sentinel-5P TROPOMI Ultraviolet Aerosol Index Level 2 - Exercise](./14_Sentinel-5P_TROPOMI_AI_L2_exercise.ipynb)\n",
    "* [15 - Metop-ABC GOME-2 Absorbing Aerosol Index Level 3 - Exercise](./15_Metop-ABC_GOME-2_AAI_L3_exercise.ipynb)"
   ]
  },
  {
   "cell_type": "markdown",
   "metadata": {},
   "source": [
    "<br>"
   ]
  },
  {
   "cell_type": "markdown",
   "metadata": {},
   "source": [
    "\n",
    "**NOTE:** Throughout the course, general functions to `load`, `re-shape`, `process` and `visualize` the datasets are defined. These functions are re-used when applicable. The [functions notebook](./functions.ipynb) gives you an overview of all the functions defined and used for the course."
   ]
  },
  {
   "cell_type": "markdown",
   "metadata": {},
   "source": [
    "<hr>"
   ]
  },
  {
   "cell_type": "markdown",
   "metadata": {
    "Collapsed": "false"
   },
   "source": [
    "## Learning outcomes"
   ]
  },
  {
   "cell_type": "markdown",
   "metadata": {
    "Collapsed": "false"
   },
   "source": [
    "The course is designed for `beginners and medium-level users`, who have basic Python knowledge.\n",
    "\n",
    "After the course, you should have:\n",
    "* an idea about **satellite and assimilated data products for dust monitoring**,\n",
    "* knowledge about the most useful **Python packages** to handle, process and visualise atmospheric composition data\n",
    "* an idea about how the **data can help to detect and monitor dust events**"
   ]
  },
  {
   "cell_type": "markdown",
   "metadata": {
    "Collapsed": "false"
   },
   "source": [
    "<hr>"
   ]
  },
  {
   "cell_type": "markdown",
   "metadata": {
    "Collapsed": "false"
   },
   "source": [
    "## Access to the training platform"
   ]
  },
  {
   "cell_type": "markdown",
   "metadata": {
    "Collapsed": "false"
   },
   "source": [
    "The course material is made available on a JupyterLab training platform, a pre-defined environment that gives learners direct access to the data and Python packages required for following the course.\n",
    "\n",
    "The `JupyterLab` can be accessed as follows:"
   ]
  },
  {
   "cell_type": "markdown",
   "metadata": {
    "Collapsed": "false"
   },
   "source": [
    "* Web address: [https://training.ltpy.adamplatform.eu](https://training.ltpy.adamplatform.eu)\n",
    "* Create an account: [https://login.ltpy.adamplatform.eu](https://login.ltpy.adamplatform.eu)\n",
    "* Log into the `JupyterLab` with your account created."
   ]
  },
  {
   "cell_type": "markdown",
   "metadata": {
    "Collapsed": "false"
   },
   "source": [
    "<hr>"
   ]
  },
  {
   "cell_type": "markdown",
   "metadata": {
    "Collapsed": "false"
   },
   "source": [
    "<img src='../../img/copernicus_logo.png' alt='Logo EU Copernicus' align='right' width='20%'><br><br><br><br><br>\n",
    "\n",
    "\n",
    "\n",
    "<p style=\"text-align:right;\">This project is licensed under the <a href=\"./LICENSE\">MIT License</a> and is developed under a Copernicus contract."
   ]
  }
 ],
 "metadata": {
  "kernelspec": {
   "display_name": "Python 3",
   "language": "python",
   "name": "python3"
  },
  "language_info": {
   "codemirror_mode": {
    "name": "ipython",
    "version": 3
   },
   "file_extension": ".py",
   "mimetype": "text/x-python",
   "name": "python",
   "nbconvert_exporter": "python",
   "pygments_lexer": "ipython3",
   "version": "3.8.6"
  }
 },
 "nbformat": 4,
 "nbformat_minor": 4
}
