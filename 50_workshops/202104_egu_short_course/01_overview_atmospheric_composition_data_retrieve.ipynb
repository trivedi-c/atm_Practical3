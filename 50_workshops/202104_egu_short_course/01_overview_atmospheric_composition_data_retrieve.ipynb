{
 "cells": [
  {
   "cell_type": "markdown",
   "metadata": {
    "Collapsed": "false"
   },
   "source": [
    "<img src='./img/egu21_logo.png' alt='Logo EU Copernicus EUMETSAT' align='left' width='25%'></img><img src='./img/atmos_logos.png' alt='Logo EU Copernicus EUMETSAT' align='right' width='65%'></img></span>\n",
    "\n",
    "<br>"
   ]
  },
  {
   "cell_type": "markdown",
   "metadata": {
    "Collapsed": "false"
   },
   "source": [
    "<br>"
   ]
  },
  {
   "cell_type": "markdown",
   "metadata": {
    "Collapsed": "false"
   },
   "source": [
    "<a href=\"./00_index.ipynb\"><< Index</a><span style=\"float:right;\"><a href=\"./02_CAMS_global_forecast_duaod_load_browse.ipynb\">02 - CAMS global forecast - Load and browse >></a></span>"
   ]
  },
  {
   "cell_type": "markdown",
   "metadata": {},
   "source": [
    "<hr>"
   ]
  },
  {
   "cell_type": "markdown",
   "metadata": {
    "Collapsed": "false"
   },
   "source": [
    "# Atmospheric composition data - Overview and data access"
   ]
  },
  {
   "cell_type": "markdown",
   "metadata": {
    "Collapsed": "false"
   },
   "source": [
    "This module gives an overview of the following atmospheric composition data services:\n",
    "* [ECMWF Data Archive](#ecmwf_archive)\n",
    "* [Copernicus Atmosphere Data Store (ADS)](#ads)\n",
    "* [Sentinel-5P Pre-Operations data Hub](#s5p)\n",
    "* [TEMIS - Tropospheric Emissions Monitoring Internet Service](#temis)\n",
    "\n",
    "\n"
   ]
  },
  {
   "cell_type": "markdown",
   "metadata": {},
   "source": [
    "<hr>"
   ]
  },
  {
   "cell_type": "markdown",
   "metadata": {
    "Collapsed": "false"
   },
   "source": [
    "<br>"
   ]
  },
  {
   "cell_type": "markdown",
   "metadata": {},
   "source": [
    "## <a id='ecmwf_archive'></a>ECMWF data archive"
   ]
  },
  {
   "cell_type": "markdown",
   "metadata": {},
   "source": [
    "[CAMS global near-real-time forecasts](https://apps.ecmwf.int/datasets/data/cams-nrealtime/levtype=sfc) can be accessed via the `ECMWF data archive`. ECMWF's data archive is called `Meteorological and Archival Retrieval System (MARS)` and provides access to ECMWF Public Datasets.\n",
    "\n",
    "The archive can be accessed in two ways: \n",
    "* via the [web interface](https://apps.ecmwf.int/datasets/) and \n",
    "* via the [ECMWF Web API](https://confluence.ecmwf.int/display/WEBAPI/Access+ECMWF+Public+Datasets).\n",
    "\n",
    "Subsequently, an example is shown how a you can use the ECMWF Web API to execute a MARS request with Python in order to download data in netCDF."
   ]
  },
  {
   "cell_type": "markdown",
   "metadata": {},
   "source": [
    "<br>"
   ]
  },
  {
   "cell_type": "markdown",
   "metadata": {},
   "source": [
    "### 1. Register for an ECMWF user account"
   ]
  },
  {
   "cell_type": "markdown",
   "metadata": {},
   "source": [
    "- Self-register at https://apps.ecmwf.int/registration/\n",
    "- Login at https://apps.ecmwf.int/auth/login"
   ]
  },
  {
   "cell_type": "markdown",
   "metadata": {},
   "source": [
    "<br>"
   ]
  },
  {
   "cell_type": "markdown",
   "metadata": {},
   "source": [
    "### 2. Install the `ecmwfapi` python library"
   ]
  },
  {
   "cell_type": "markdown",
   "metadata": {},
   "source": [
    "`pip install ecmwf-api-client`"
   ]
  },
  {
   "cell_type": "markdown",
   "metadata": {},
   "source": [
    "<br>"
   ]
  },
  {
   "cell_type": "markdown",
   "metadata": {},
   "source": [
    "### 3. Retrieve your API key"
   ]
  },
  {
   "cell_type": "markdown",
   "metadata": {},
   "source": [
    "You can retrieve your API key at https://api.ecmwf.int/v1/key/. Add the `url`, `key` and `email` information, when you define the `ECMWFDataServer` (see below)."
   ]
  },
  {
   "cell_type": "markdown",
   "metadata": {},
   "source": [
    "<br>"
   ]
  },
  {
   "cell_type": "markdown",
   "metadata": {},
   "source": [
    "### 4. Execute a MARS request and download data as a `netCDF` file"
   ]
  },
  {
   "cell_type": "markdown",
   "metadata": {},
   "source": [
    "Below, you see the principle of a `data retrieval` request. You can use the web interface to browse through the datasets. At the end, there is the option to generate the `data retrieval` request for the API.\n",
    "\n",
    "<br>\n",
    "\n",
    "<div class=\"alert alert-block alert-success\">\n",
    "<b>NOTE</b>: <br>\n",
    "    Per default, ECMWF data is stored on a grid with longitudes from 0 to 360 degrees. It can be reprojected to a regular geographic latitude-longitude grid, by setting the keyword argument <code>area</code> and <code>grid</code>. Per default, data is retrieved in <code>GRIB</code>. If you wish to retrieve the data in <code>netCDF</code>, you have to specify it by using the keyword argument <code>format</code>.</div>\n",
    "\n",
    "<br>\n",
    "\n",
    "The example below requests `Dust Aerosol Optical Depth at 550 nm` forecast data for 19 February 2021 in `netCDF` format and by setting the `area` keyword, the longitude values are reprojected to a [-180,180] grid."
   ]
  },
  {
   "cell_type": "code",
   "execution_count": null,
   "metadata": {},
   "outputs": [],
   "source": [
    "#!/usr/bin/env python\n",
    "from ecmwfapi import ECMWFDataServer\n",
    "server = ECMWFDataServer(url=\"https://api.ecmwf.int/v1\", key=\"#########################\", email=\"########################\")\n",
    "\n",
    "# Retrieve data in NetCDF format\n",
    "server.retrieve({\n",
    "    \"class\": \"mc\",\n",
    "    \"dataset\": \"cams_nrealtime\",\n",
    "    \"date\": \"2021-02-19/to/2021-02-19\",\n",
    "    \"expver\": \"0001\",\n",
    "    \"levtype\": \"sfc\",\n",
    "    \"param\": \"209.210\",\n",
    "    \"step\": \"0/12/24/36/48/60/72/84/96/108/120\",\n",
    "    \"stream\": \"oper\",\n",
    "    \"time\": \"00:00:00\",\n",
    "    \"type\": \"fc\",\n",
    "    \"format\": \"netcdf\",\n",
    "    \"area\": \"90/-180/-90/180\",\n",
    "    \"grid\": \"0.4/0.4\",\n",
    "    \"target\": \"../eodata/cams/near_real_time/2021/02/19/20210219_dustAOD.nc\",\n",
    "})"
   ]
  },
  {
   "cell_type": "markdown",
   "metadata": {},
   "source": [
    "<br>"
   ]
  },
  {
   "cell_type": "markdown",
   "metadata": {},
   "source": [
    "<hr>"
   ]
  },
  {
   "cell_type": "markdown",
   "metadata": {},
   "source": [
    "<br>"
   ]
  },
  {
   "cell_type": "markdown",
   "metadata": {},
   "source": [
    "## <a id='ads'></a>Copernicus Atmosphere Data Store (ADS)"
   ]
  },
  {
   "cell_type": "markdown",
   "metadata": {},
   "source": [
    "<br>"
   ]
  },
  {
   "cell_type": "markdown",
   "metadata": {},
   "source": [
    "<div style='text-align:left;'>\n",
    "<figure><img src='./img/ads_cams.png' width='50%' />\n",
    "    <figcaption><i>The web interface of the Copernicus Atmosphere Data Store</i></figcaption>\n",
    "</figure>\n",
    "</div>"
   ]
  },
  {
   "cell_type": "markdown",
   "metadata": {},
   "source": [
    "<br>"
   ]
  },
  {
   "cell_type": "markdown",
   "metadata": {},
   "source": [
    "The [CAMS European air quality forecasts](https://ads.atmosphere.copernicus.eu/cdsapp#!/dataset/cams-europe-air-quality-forecasts?tab=overview) are available via the `Copernicus Atmosphere Data Store (ADS)`. Data from the `ADS` can be accessed programmtically via the [cdsapi](https://pypi.org/project/cdsapi/) Python library.\n",
    "\n",
    "To install the [cdsapi](https://pypi.org/project/cdsapi/) follow this [how-to guide](https://cds.climate.copernicus.eu/api-how-to). It includes the following steps:\n"
   ]
  },
  {
   "cell_type": "markdown",
   "metadata": {},
   "source": [
    "### 1. Install the CDS API key\n",
    "  * [Self-register](https://ads.atmosphere.copernicus.eu/#!/home) at the CDS registration page\n",
    "  * [Login](https://ads.atmosphere.copernicus.eu/user/login) to the ADS portal and go to the [api-how-to page](https://ads.atmosphere.copernicus.eu/api-how-to)\n",
    "  * Copy the CDS API key displayed in a file under `$HOME/.cdsapirc` *(Unix / Linux environment)*. If you do not see a URL or key appear in the black terminal box on the `API How To` page, please refresh your browser tab. \n",
    "  "
   ]
  },
  {
   "cell_type": "code",
   "execution_count": null,
   "metadata": {},
   "outputs": [],
   "source": [
    "%%writefile /home/jovyan/.cdsapirc\n",
    "\n",
    "url: #########\n",
    "key: ####:####################"
   ]
  },
  {
   "cell_type": "markdown",
   "metadata": {},
   "source": [
    "<br>"
   ]
  },
  {
   "cell_type": "markdown",
   "metadata": {},
   "source": [
    "### 2. Install the CDS API client"
   ]
  },
  {
   "cell_type": "markdown",
   "metadata": {},
   "source": [
    "`pip install cdsapi`"
   ]
  },
  {
   "cell_type": "markdown",
   "metadata": {},
   "source": [
    "<br>"
   ]
  },
  {
   "cell_type": "markdown",
   "metadata": {},
   "source": [
    "### 3. Use the CDS API client for data access"
   ]
  },
  {
   "cell_type": "markdown",
   "metadata": {},
   "source": [
    "Below, you see the principle of a `data retrieval` request. You can use the [web interface](https://ads.atmosphere.copernicus.eu/cdsapp#!/search?type=dataset) to browse through the datasets. Under `Download data`, at the end, there is the option to generate the `API request`.\n",
    "\n",
    "<br>\n",
    "\n",
    "<div class=\"alert alert-block alert-success\">\n",
    "<b>NOTE</b>: <br>\n",
    "    per default, ECMWF data is stored on a grid with longitudes from 0 to 360 degrees. It can be reprojected to a regular geographic latitude-longitude grid, by setting the keyword argument <code>area</code> and <code>grid</code>. Per default, data is retrieved in <code>GRIB</code>. If you wish to retrieve the data in <code>netCDF</code>, you have to specify it by using the keyword argument <code>format</code>.</div>\n",
    "\n",
    "<br>\n",
    "\n",
    "Below, it is the example request for `dust concentration of the European Air Quality forecasts` data from 19-25 February 2021 in `netCDF` format. By specifying the `area` keyword, the data is reprojected to a [-180,180] grid and geographically subsetted to Europe."
   ]
  },
  {
   "cell_type": "markdown",
   "metadata": {},
   "source": [
    "<br>"
   ]
  },
  {
   "cell_type": "code",
   "execution_count": 4,
   "metadata": {},
   "outputs": [],
   "source": [
    "import cdsapi"
   ]
  },
  {
   "cell_type": "code",
   "execution_count": null,
   "metadata": {},
   "outputs": [],
   "source": [
    "c = cdsapi.Client()\n",
    "\n",
    "c.retrieve(\n",
    "    'cams-europe-air-quality-forecasts',\n",
    "    {\n",
    "        'model': 'ensemble',\n",
    "        'date': '2021-02-19/2021-02-25',\n",
    "        'format': 'netcdf',\n",
    "        'variable': 'dust',\n",
    "        'level': '1000',\n",
    "        'type': 'analysis',\n",
    "        'area': [\n",
    "            71.56, -24.32, 30,\n",
    "            45,\n",
    "        ],\n",
    "        'time': [\n",
    "            '00:00', '06:00', '12:00',\n",
    "            '18:00',\n",
    "        ],\n",
    "        'leadtime_hour': '0',\n",
    "    },\n",
    "    '../eodata/cams/near_real_time/2021/02/19/20210219-25_regional_nrt_dust_concentation.nc')"
   ]
  },
  {
   "cell_type": "markdown",
   "metadata": {},
   "source": [
    "<br>"
   ]
  },
  {
   "cell_type": "markdown",
   "metadata": {},
   "source": [
    "<hr>"
   ]
  },
  {
   "cell_type": "markdown",
   "metadata": {},
   "source": [
    "## <a id='s5p'></a> Sentinel-5P Pre-Operations Data Hub"
   ]
  },
  {
   "cell_type": "markdown",
   "metadata": {},
   "source": [
    "Sentinel-5P data is available for browsing and downloading via the [Copernicus Open Access Hub](https://scihub.copernicus.eu/). The Copernicus Open Access Hub provides complete, free and open access to Sentinel-1, Sentinel-2, Sentinel-3 and Sentinel-5P data."
   ]
  },
  {
   "cell_type": "markdown",
   "metadata": {},
   "source": [
    "\n",
    "<div style='text-align:center;'>\n",
    "<figure><img src='./img/open_access_hub.png' alt='Sentinel-5p data products' align='middle' width='50%'/>\n",
    "    <figcaption><i>Interface of the Copernicus Open Access Hub and the Sentinel-5P Pre-Operations Data Hub</i></figcaption>\n",
    "</figure>\n",
    "</div>"
   ]
  },
  {
   "cell_type": "markdown",
   "metadata": {},
   "source": [
    "<br>"
   ]
  },
  {
   "cell_type": "markdown",
   "metadata": {},
   "source": [
    "<hr>"
   ]
  },
  {
   "cell_type": "markdown",
   "metadata": {},
   "source": [
    "## <a id='temis'></a> Tropospheric Emission Monitoring Internet Service (TEMIS)"
   ]
  },
  {
   "cell_type": "markdown",
   "metadata": {
    "Collapsed": "false"
   },
   "source": [
    "Gridded (Level 3) Metop-A/B/C GOME-2 Absorbing Aerosol Index (AAI) data are available via the [Tropospheric Emission Monitoring Internet Service (TEMIS)](https://www.temis.nl/airpollution/absaai/). The data of the GOME-2 Absorbing Aerosol Index are provided by KNMI in the framework of the [EUMETSAT Satellite Application Facility on Atmospheric Composition Monitoring (AC SAF)](www.acsaf.org). \n",
    "\n",
    "TEMIS offers monthly and daily aggregated gridded Metop-A/B/C GOME-2 Absorbing Aerosol Index (AAI) information. The data is available in netCDF for download. "
   ]
  },
  {
   "cell_type": "markdown",
   "metadata": {
    "Collapsed": "false"
   },
   "source": [
    "<br>"
   ]
  },
  {
   "cell_type": "markdown",
   "metadata": {},
   "source": [
    "<div style='text-align:center;'>\n",
    "<figure><img src='../../img/temis_aai.png' width='60%' />\n",
    "    <figcaption><i>The TEMIS web interface</i></figcaption>\n",
    "</figure>\n",
    "</div>"
   ]
  },
  {
   "cell_type": "markdown",
   "metadata": {
    "Collapsed": "false"
   },
   "source": [
    "<br>"
   ]
  },
  {
   "cell_type": "markdown",
   "metadata": {},
   "source": [
    "<hr>"
   ]
  },
  {
   "cell_type": "markdown",
   "metadata": {
    "Collapsed": "false"
   },
   "source": [
    "## Further information"
   ]
  },
  {
   "cell_type": "markdown",
   "metadata": {
    "Collapsed": "false"
   },
   "source": [
    "* [Copernicus Atmosphere Monitoring Service](https://atmosphere.copernicus.eu/)\n",
    "\n",
    "* [EUMETSAT AC SAF - The EUMETSAT Application Facility on Atmospheric Composition Monitoring](https://acsaf.org/index.html)\n",
    "\n",
    "* [TEMIS - Tropospheric Emission Monitoring Internet Service](http://temis.nl/index.php)\n",
    "\n",
    "* [Sentinel-5P Pre-Operations Data Hub](https://s5phub.copernicus.eu/dhus/#/home)\n",
    "\n",
    "\n"
   ]
  },
  {
   "cell_type": "markdown",
   "metadata": {},
   "source": [
    "<br>"
   ]
  },
  {
   "cell_type": "markdown",
   "metadata": {},
   "source": [
    "<a href=\"./00_index.ipynb\"><< Index</a><span style=\"float:right;\"><a href=\"./02_CAMS_global_forecast_duaod_load_browse.ipynb\">02 - CAMS global forecast - Load and browse >></a></span>"
   ]
  },
  {
   "cell_type": "markdown",
   "metadata": {
    "Collapsed": "false"
   },
   "source": [
    "<hr>"
   ]
  },
  {
   "cell_type": "markdown",
   "metadata": {
    "Collapsed": "false"
   },
   "source": [
    "<img src='../../img/copernicus_logo.png' alt='Logo EU Copernicus' align='right' width='20%'><br><br><br><br><br>\n",
    "\n",
    "<p style=\"text-align:right;\">This project is licensed under the <a href=\"./LICENSE\">MIT License</a> and is developed under a Copernicus contract."
   ]
  }
 ],
 "metadata": {
  "kernelspec": {
   "display_name": "Python 3",
   "language": "python",
   "name": "python3"
  },
  "language_info": {
   "codemirror_mode": {
    "name": "ipython",
    "version": 3
   },
   "file_extension": ".py",
   "mimetype": "text/x-python",
   "name": "python",
   "nbconvert_exporter": "python",
   "pygments_lexer": "ipython3",
   "version": "3.8.6"
  },
  "toc": {
   "base_numbering": 1,
   "nav_menu": {},
   "number_sections": false,
   "sideBar": true,
   "skip_h1_title": false,
   "title_cell": "Table of Contents",
   "title_sidebar": "Contents",
   "toc_cell": false,
   "toc_position": {
    "height": "339px",
    "left": "1488px",
    "top": "141px",
    "width": "538px"
   },
   "toc_section_display": true,
   "toc_window_display": false
  },
  "toc-showcode": false,
  "toc-showtags": false
 },
 "nbformat": 4,
 "nbformat_minor": 4
}
