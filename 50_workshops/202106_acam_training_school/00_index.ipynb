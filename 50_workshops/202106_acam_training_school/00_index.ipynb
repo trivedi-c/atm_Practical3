{
 "cells": [
  {
   "cell_type": "markdown",
   "metadata": {
    "Collapsed": "false"
   },
   "source": [
    "<img src='./img/acam_banner.png' alt='Logo EU Copernicus EUMETSAT' align='centre' width='70%'></img>"
   ]
  },
  {
   "cell_type": "markdown",
   "metadata": {
    "Collapsed": "false"
   },
   "source": [
    "<br>"
   ]
  },
  {
   "cell_type": "markdown",
   "metadata": {
    "Collapsed": "false"
   },
   "source": [
    "# 4th ACAM Training School"
   ]
  },
  {
   "cell_type": "markdown",
   "metadata": {},
   "source": [
    "Jointly organized by [EUMETSAT](https://www.eumetsat.int/website/home/index.html), [CAMS-ECMWF](https://atmosphere.copernicus.eu/) and [ICIMOD](https://www.icimod.org/)."
   ]
  },
  {
   "cell_type": "markdown",
   "metadata": {
    "Collapsed": "false"
   },
   "source": [
    "The `4th ACAM Training School` focuses on Atmospheric Chemistry and Aerosols in the Asian Monsoon region using satellite- and model-based data.\n",
    "\n",
    "The course is a combination of lectures and practical sessions introducing you to different satellite- and model-based data for wildfire monitoring and hightlighting the asian summer monsoon anticyclone. The `practical` sessions have the following outline:\n",
    "\n",
    "* 22 June | 8-9:30 (UTC): **Practical session: Asian summer monsoon anticyclone + Indonesian fires 2020 workflow**\n",
    "* 23 June | 8-9:30 (UTC): **Practical session: Indonesian fires 2015 workflow**\n",
    "* 24 June | 8-9:30 (UTC): **Practical session: Model-based data**\n",
    "\n"
   ]
  },
  {
   "cell_type": "markdown",
   "metadata": {},
   "source": [
    "<br>"
   ]
  },
  {
   "cell_type": "markdown",
   "metadata": {
    "Collapsed": "false"
   },
   "source": [
    "## Featured data"
   ]
  },
  {
   "cell_type": "markdown",
   "metadata": {
    "Collapsed": "false"
   },
   "source": [
    "This course features the following data:\n",
    "\n",
    "* **Satellite-based data products**\n",
    "  * MLS/Aura Level 3 data: [Carbon Monoxide](./01_asian_monsoon_anticyclone/11_MLS_CO_L3_ACAM.ipynb)\n",
    "  * AC-SAF Metop-A/B GOME-2 Level-2 data: [Formaldehyde (HCHO)](./02_fire_monitoring/11_AC-SAF_Metop-AB_GOME-2_HCHO.ipynb)\n",
    "  * AC-SAF Metop-A/B GOME-2 Level-2 data: [Absorbing Aerosol Index (AAI)](./02_fire_monitoring/12_AC-SAF_Metop-AB_GOME-2_AAI.ipynb) and [Absorbing Aerosol Height (AAH)](./02_fire_monitoring/13_AC-SAF_Metop-B_GOME-2_AAH.ipynb)\n",
    "  * Metop-A/B IASI Level-2 data: [Carbon Monoxide](./02_fire_monitoring/14_Metop-AB_IASI_CO.ipynb)\n",
    "  * Copernicus Sentinel-5P TROPOMI Level 2 data: [Ultraviolet Aerosol Index](./23_Sentinel-5P_TROPOMI_UVAI.ipynb) and [Carbon Monoxide](./22_Sentinel-5P_TROPOMI_CO.ipynb)\n",
    "  * Copernicus Sentinel-3 OLCI Level-1B data: [Red-Green-Blue (RGB) radiances](./21_Sentinel-3_OLCI_RGB.ipynb)\n",
    "\n",
    "\n",
    "* **Model-based data products**\n",
    "  * Copernicus Atmosphere Monitoring Service (CAMS) | Global atmospheric composition forecasts: [Aerosol Optical Depth](./03_cams/3.1_CAMSDataAccess_ADS_GlobalAtmosphericCompositionForecast.ipynb)\n",
    "  * Copernicus Atmosphere Monitoring Service (CAMS) | Global reanalyses (EAC4): [Aerosol Optical Depth](./03_cams/3.2_CAMSDataAccess_ADS_GlobalAtmosphericCompositionReanalysis.ipynb)\n",
    "  * Copernicus Atmosphere Monitoring Service (CAMS) | Global Fire Assimilation System (GFAS): [Fire Radiative Power](./03_cams/3.3_CAMSDataAccess_FireEmissions.ipynb)\n",
    "  * Copernicus Atmosphere Monitoring Service (CAMS) | Greenhouse gas fluxes: [Posterior land surface upward flux](./3.4_CAMSDataAccess_GHGFluxInversions.ipynb) \n",
    "\n"
   ]
  },
  {
   "cell_type": "markdown",
   "metadata": {},
   "source": [
    "<br>"
   ]
  },
  {
   "cell_type": "markdown",
   "metadata": {
    "Collapsed": "false"
   },
   "source": [
    "## Course material"
   ]
  },
  {
   "cell_type": "markdown",
   "metadata": {
    "Collapsed": "false"
   },
   "source": [
    "The course outline is as follows\n",
    "\n",
    "* **00 - Introduction to Python and data overview**\n",
    " * [Introduction to Python and Project Jupyter](./01_introduction_to_python_and_jupyter.ipynb)\n",
    " * [Overview of data and data access systems](./02_atmospheric_composition_overview.ipynb)\n",
    "\n",
    "\n",
    "* **01 - Asian Summer Monsoon Anticyclone**\n",
    " * [1.0 MLS/Aura Carbon Monoxide Level 3](./01_asian_summer_monsoon_anticyclone/11_MLS_CO_L3_ACAM.ipynb)\n",
    "\n",
    "\n",
    "* **02 - Satellite-based data for wildfire monitoring**\n",
    " * [2.0 Indonesian fires 2015 workflow](./02_fire_monitoring/10_workflow_indonesia_fires_2015.ipynb)\n",
    " * [2.1 Indonesian fires 2020 workflow](./02_fire_monitoring/20_workflow_indonesia_fires_2020.ipynb)\n",
    "\n",
    "\n",
    "* **03 - Copernicus Atmosphere Monitoring Service (CAMS) data**\n",
    " * [3.0 CAMS data introduction](./03_cams/3.0_CAMSDataAccess_Introduction.ipynb)\n",
    " * [3.1 CAMS Global Atmospheric Composition Forecast](./03_cams/3.1_CAMSDataAccess_ADS_GlobalAtmospherericCompositionForecast.ipynb)\n",
    " * [3.2 CAMS Global Atmospheric Composition Reanalysis](./03_cams/3.2_CAMSDataAccess_ADS_GlobalAtmospherericCompositionReanalysis.ipynb)\n",
    " * [3.3 CAMS Fire Emissions](./03_cams/3.3_CAMSDataAccess_FireEmissions.ipynb)\n",
    " * [3.4 CAMS Greenhouse Gase fluxes](./03_cams/3.4_CAMSDataAccess_GHGFluxInversions.ipynb)\n",
    "\n",
    "\n",
    "<br>\n",
    "\n",
    "**NOTE:** Throughout the course, general functions to `load`, `re-shape`, `process` and `visualize` the datasets are defined. These functions are re-used when applicable. The [functions notebook](./functions.ipynb) gives you an overview of all the functions defined and used for the course.\n"
   ]
  },
  {
   "cell_type": "markdown",
   "metadata": {},
   "source": [
    "<br>"
   ]
  },
  {
   "cell_type": "markdown",
   "metadata": {
    "Collapsed": "false"
   },
   "source": [
    "## Learning outcomes"
   ]
  },
  {
   "cell_type": "markdown",
   "metadata": {
    "Collapsed": "false"
   },
   "source": [
    "The course is designed for `medium-level users`, who have basic Python knowledge and understanding of Fire monitoring data.\n",
    "\n",
    "After the course, you should have:\n",
    "* an idea about **different datasets on Fire Monitoring** and **atmospheric composition and the asian monsoon**,\n",
    "* knowledge about the most useful **Python packages** to handle, process and visualise large volumes of Earth Observation data\n",
    "* an idea about how the **data can help to detect and monitor fire events** as well as **the asian monsoon**."
   ]
  },
  {
   "cell_type": "markdown",
   "metadata": {
    "Collapsed": "false"
   },
   "source": [
    "<hr>"
   ]
  },
  {
   "cell_type": "markdown",
   "metadata": {
    "Collapsed": "false"
   },
   "source": [
    "## Access to the `JupyterHub` "
   ]
  },
  {
   "cell_type": "markdown",
   "metadata": {
    "Collapsed": "false"
   },
   "source": [
    "The course material is made available on a JupyterHub instance, a pre-defined environment that gives learners direct access to the data and Python packages required for following the course.\n",
    "\n",
    "The `JupyterHub` can be accessed as follows:"
   ]
  },
  {
   "cell_type": "markdown",
   "metadata": {
    "Collapsed": "false"
   },
   "source": [
    "* Web address: [https://training.ltpy.adamplatform.eu](https://training.ltpy.adamplatform.eu)\n",
    "* Create an account: [https://login.ltpy.adamplatform.eu/](https://login.ltpy.adamplatform.eu/)\n",
    "* Log into the `JupyterHub` with your account created."
   ]
  },
  {
   "cell_type": "markdown",
   "metadata": {
    "Collapsed": "false"
   },
   "source": [
    "<hr>"
   ]
  },
  {
   "cell_type": "markdown",
   "metadata": {
    "Collapsed": "false"
   },
   "source": [
    "<img src='./img/copernicus_logo.png' alt='Logo EU Copernicus' align='right' width='20%'><br><br><br><br>\n",
    "\n",
    "<p style=\"text-align:right;\">This project is licensed under the <a href=\"./LICENSE\">MIT License</a> and is developed under a Copernicus contract."
   ]
  }
 ],
 "metadata": {
  "kernelspec": {
   "display_name": "Python 3",
   "language": "python",
   "name": "python3"
  },
  "language_info": {
   "codemirror_mode": {
    "name": "ipython",
    "version": 3
   },
   "file_extension": ".py",
   "mimetype": "text/x-python",
   "name": "python",
   "nbconvert_exporter": "python",
   "pygments_lexer": "ipython3",
   "version": "3.8.6"
  }
 },
 "nbformat": 4,
 "nbformat_minor": 4
}
