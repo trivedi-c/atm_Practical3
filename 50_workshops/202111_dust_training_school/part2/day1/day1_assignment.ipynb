{
 "cells": [
  {
   "cell_type": "markdown",
   "metadata": {},
   "source": [
    "<img src='../img/dust_banner.png' alt='Training school and workshop on dust' align='center' width='100%'></img>\n",
    "\n",
    "<br>"
   ]
  },
  {
   "cell_type": "markdown",
   "metadata": {
    "Collapsed": "false"
   },
   "source": [
    "# Day 1 - Assignment"
   ]
  },
  {
   "cell_type": "markdown",
   "metadata": {
    "tags": []
   },
   "source": [
    "### About"
   ]
  },
  {
   "cell_type": "markdown",
   "metadata": {},
   "source": [
    "> Let us have a closer look at the forecast data from both models for one observation station in Tenerife (Canary Islands). Let us plot the time-series of the CAMS and MONARCH forecasts together in one plot.\n"
   ]
  },
  {
   "cell_type": "markdown",
   "metadata": {},
   "source": [
    "### Tasks"
   ]
  },
  {
   "cell_type": "markdown",
   "metadata": {
    "tags": []
   },
   "source": [
    "#### 1. Download and animate the CAMS global atmopsheric composition forecast for 21 February 2020\n",
    "  * Download the CAMS global atmospheric composition forecast for 21 February 2020, with the following specifications:\n",
    "    > Variable on single levels: `Dust aerosol optical depth at 550 nm` <br>\n",
    "    > Date (Start and end): `2020-02-21` <br>\n",
    "    > Time: `12:00` <br>\n",
    "    > Leadtime hour: every three hours from `0 to 90` <br>\n",
    "    > Type: `Forecast` <br>\n",
    "    > Restricted area: `N: 67, W: -30, E: 71, S: -3` <br>\n",
    "    > Format: `Zipped netCDF` <br>\n",
    "  * **Hint** \n",
    "    * [CAMS global atmospheric composition forecasts - Example notebook](../../dust_workshop_part1/03_model-based_data/32_CAMS_global_forecast_duaod_load_browse.ipynb)\n",
    "    * [Data access](https://ads.atmosphere.copernicus.eu/cdsapp#!/dataset/cams-global-atmospheric-composition-forecasts)\n",
    "\n",
    "#### 2. Look up the coordinates of the AERONET station *Santa Cruz, Tenerife*\n",
    "  * **Hint**\n",
    "    * You can see an overview of all available AERONET Site Names [here](https://aeronet.gsfc.nasa.gov/cgi-bin/draw_map_display_aod_v3?long1=-180&long2=180&lat1=-90&lat2=90&multiplier=2&what_map=4&nachal=1&formatter=0&level=3&place_code=10&place_limit=0)\n",
    "\n",
    "#### 3. Select the time-series for CAMS global atmospheric composition forecasts for Santa Cruz, Tenerife\n",
    "  * **Hint**\n",
    "    * With the xarray function `sel()` and keyword argument `method='nearest'` you can select data based on coordinate information\n",
    "    * We also recommend you to transform your xarray.DataArray into a pandas.DataFrame with the function `to_dataframe()` and save it as `csv` with the function `to_csv()`\n",
    "\n",
    "#### 4. Load the MONARCH dust forecasts and select time-series for Santa Cruz, Tenerife\n",
    "  * **Hint**\n",
    "    * With the xarray function `sel()` and keyword argument `method='nearest'` you can select data based on coordinate information\n",
    "    * We also recommend you to transform your xarray.DataArray into a pandas.DataFrame with the function `to_dataframe()` and save it as `csv` with the function `to_csv()`\n",
    "\n",
    "#### 5. Visualize both time-series of CAMS and MONARCH forecasts together in one plot"
   ]
  },
  {
   "cell_type": "markdown",
   "metadata": {},
   "source": [
    "<br>"
   ]
  },
  {
   "cell_type": "markdown",
   "metadata": {
    "Collapsed": "false"
   },
   "source": [
    "### Module outline\n",
    "* [1 - Load and animate CAMS global atmospheric composition forecasts](#cams_forecast)\n",
    "* [2 - Select latitude / longitude values for AERONET station *Santa Cruz, Tenerife*](#select_lat_lon_aeronet)\n",
    "* [3 - Select time-series for CAMS global atmospheric composition forecasts for Santa Cruz, Tenerife](#ts_cams)\n",
    "* [4 - Load the MONARCH dust forecasts and select time-series for Santa Cruz, Tenerife](#sdswas_forecast_load)\n",
    "* [5 - Visualize time-series of CAMS and MONARCH forecasts in one plot](#visualize_ts)\n"
   ]
  },
  {
   "cell_type": "markdown",
   "metadata": {},
   "source": [
    "<hr>"
   ]
  },
  {
   "cell_type": "markdown",
   "metadata": {
    "Collapsed": "false"
   },
   "source": [
    "##### Load required libraries"
   ]
  },
  {
   "cell_type": "code",
   "execution_count": 3,
   "metadata": {
    "Collapsed": "false"
   },
   "outputs": [],
   "source": [
    "%matplotlib inline\n",
    "import os\n",
    "import xarray as xr\n",
    "import numpy as np\n",
    "import netCDF4 as nc\n",
    "import pandas as pd\n",
    "\n",
    "from IPython.display import HTML\n",
    "\n",
    "import matplotlib.pyplot as pl\n",
    "import matplotlib.colors\n",
    "from matplotlib.cm import get_cmap\n",
    "from matplotlib import animation\n",
    "import cartopy.crs as ccrs\n",
    "from cartopy.mpl.gridliner import LONGITUDE_FORMATTER, LATITUDE_FORMATTER\n",
    "import cartopy.feature as cfeature\n",
    "\n",
    "from matplotlib.axes import Axes\n",
    "from cartopy.mpl.geoaxes import GeoAxes\n",
    "GeoAxes._pcolormesh_patched = Axes.pcolormesh\n",
    "\n",
    "import warnings\n",
    "warnings.simplefilter(action = \"ignore\", category = RuntimeWarning)"
   ]
  },
  {
   "cell_type": "markdown",
   "metadata": {},
   "source": [
    "##### Load helper functions"
   ]
  },
  {
   "cell_type": "code",
   "execution_count": 4,
   "metadata": {},
   "outputs": [],
   "source": [
    "%run ../functions.ipynb"
   ]
  },
  {
   "cell_type": "markdown",
   "metadata": {
    "Collapsed": "false"
   },
   "source": [
    "<hr>"
   ]
  },
  {
   "cell_type": "markdown",
   "metadata": {
    "tags": []
   },
   "source": [
    "### <a id='cams_forecast'></a>1. Load and animate CAMS global atmospheric composition forecasts "
   ]
  },
  {
   "cell_type": "code",
   "execution_count": null,
   "metadata": {},
   "outputs": [],
   "source": []
  },
  {
   "cell_type": "markdown",
   "metadata": {},
   "source": [
    "<br>"
   ]
  },
  {
   "cell_type": "markdown",
   "metadata": {
    "tags": []
   },
   "source": [
    "### <a id='select_lat_lon_aeronet'></a>2. Select latitude / longitude values for Santa Cruz, Tenerife"
   ]
  },
  {
   "cell_type": "code",
   "execution_count": null,
   "metadata": {},
   "outputs": [],
   "source": []
  },
  {
   "cell_type": "markdown",
   "metadata": {},
   "source": [
    "<br>"
   ]
  },
  {
   "cell_type": "markdown",
   "metadata": {},
   "source": [
    "### <a id='ts_cams'></a>3. Select time-series for CAMS global atmospheric composition forecasts"
   ]
  },
  {
   "cell_type": "code",
   "execution_count": null,
   "metadata": {},
   "outputs": [],
   "source": []
  },
  {
   "cell_type": "markdown",
   "metadata": {},
   "source": [
    "<br>"
   ]
  },
  {
   "cell_type": "markdown",
   "metadata": {},
   "source": [
    "### <a id='sdswas_forecast_load'>4. Load MONARCH dust forecasts and select time-series"
   ]
  },
  {
   "cell_type": "code",
   "execution_count": null,
   "metadata": {},
   "outputs": [],
   "source": []
  },
  {
   "cell_type": "markdown",
   "metadata": {},
   "source": [
    "<br>"
   ]
  },
  {
   "cell_type": "markdown",
   "metadata": {},
   "source": [
    "### <a id='visualize_ts'></a>5. Visualize time-series of CAMS and MONARCH forecasts together in one plot"
   ]
  },
  {
   "cell_type": "code",
   "execution_count": null,
   "metadata": {},
   "outputs": [],
   "source": []
  },
  {
   "cell_type": "markdown",
   "metadata": {},
   "source": [
    "<hr>"
   ]
  },
  {
   "cell_type": "markdown",
   "metadata": {},
   "source": [
    "<img src='../img/copernicus_logo.png' alt='Logo EU Copernicus' align='left' width='20%'><br><br><br><br>\n",
    "<p style=\"text-align:right;\">This project is licensed under the <a href=\"./LICENSE\">MIT License</a> and is developed under a Copernicus contract."
   ]
  }
 ],
 "metadata": {
  "kernelspec": {
   "display_name": "Python 3 (ipykernel)",
   "language": "python",
   "name": "python3"
  },
  "language_info": {
   "codemirror_mode": {
    "name": "ipython",
    "version": 3
   },
   "file_extension": ".py",
   "mimetype": "text/x-python",
   "name": "python",
   "nbconvert_exporter": "python",
   "pygments_lexer": "ipython3",
   "version": "3.8.12"
  }
 },
 "nbformat": 4,
 "nbformat_minor": 4
}
