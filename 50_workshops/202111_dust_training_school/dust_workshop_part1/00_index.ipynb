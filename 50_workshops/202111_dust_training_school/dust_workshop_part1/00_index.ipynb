{
 "cells": [
  {
   "cell_type": "markdown",
   "metadata": {
    "Collapsed": "false"
   },
   "source": [
    "<img src='./img/dust_banner.png' alt='Training school and workshop on dust' align='center' width='100%'></img>\n"
   ]
  },
  {
   "cell_type": "markdown",
   "metadata": {
    "Collapsed": "false"
   },
   "source": [
    "<br>"
   ]
  },
  {
   "cell_type": "markdown",
   "metadata": {
    "Collapsed": "false"
   },
   "source": [
    "#### Dust 2021 | 9-12 + 15-17 + 22-24 November 2021"
   ]
  },
  {
   "cell_type": "markdown",
   "metadata": {},
   "source": [
    "# Training School and Workshop on Dust Aerosol Detection and Monitoring"
   ]
  },
  {
   "cell_type": "markdown",
   "metadata": {},
   "source": [
    "Jointly organized by [EUMETSAT](https://www.eumetsat.int/website/home/index.html) and the [WMO SDS-WAS Regional Center](https://sds-was.aemet.es/) (which is managed by the [Barcelona Supercomputing Center BSC](https://www.bsc.es/) and the [Spanish Meteorological State Agency AEMET](http://www.aemet.es/es/portada)) with the support of the [Copernicus](https://www.copernicus.eu/en) and [ACTRIS](https://www.actris.eu/) programmes."
   ]
  },
  {
   "cell_type": "markdown",
   "metadata": {
    "Collapsed": "false"
   },
   "source": [
    "The course is split in two parts:\n",
    "* **Phase 1: Introduction and data discovery**\n",
    "  * 1-hour webinars about the basics of aerosol and dust, principles of observations, modelling and forecasting\n",
    "  * 1-hour practical data discovery sessions learning about the key satellite, ground-based and model products for dust forecasting and monitoring\n",
    "* **Phase 2: Practical Workshop (by application only)**\n",
    "  * Practical case studies and exercises\n",
    "  * Perform an analysis with multiple datasets on a real world dust event\n",
    "\n"
   ]
  },
  {
   "cell_type": "markdown",
   "metadata": {},
   "source": [
    "<br>"
   ]
  },
  {
   "cell_type": "markdown",
   "metadata": {
    "Collapsed": "false"
   },
   "source": [
    "##  Featured data"
   ]
  },
  {
   "cell_type": "markdown",
   "metadata": {
    "Collapsed": "false"
   },
   "source": [
    "#### Satellite data\n",
    "\n",
    "* [Sentinel-5P TROPOMI Level 2 Ultraviolet Aerosol Index](https://sentinels.copernicus.eu/web/sentinel/data-products/-/asset_publisher/fp37fc19FN8F/content/sentinel-5-precursor-level-2-ultraviolet-aerosol-index)\n",
    "* [Polar Multi-Sensor Aerosol Optical Properties (PMAp) Product](https://www.eumetsat.int/media/45738)\n",
    "* [AC SAF GOME-2 Level 3 Absorbing Aerosol Index](https://acsaf.org/docs/pum/Product_User_Manual_NAR_NAP_ARS_ARP_Apr_2020.pdf)\n",
    "* [Meteosat Second Generationg L1 true color and dust RGB](https://www.eumetsat.int/0-degree-service)\n",
    "* [MODIS 10km Level 2 Aerosol product](https://ladsweb.modaps.eosdis.nasa.gov/missions-and-measurements/science-domain/aerosol/)\n",
    "* [MODIS L1B true color and dust RGB](https://ladsweb.modaps.eosdis.nasa.gov/missions-and-measurements/products/MOD021KM#overview)\n"
   ]
  },
  {
   "cell_type": "markdown",
   "metadata": {},
   "source": [
    "### Observation data\n",
    "\n",
    "* [AERONET - AErosol RObotic NETwork](https://aeronet.gsfc.nasa.gov/new_web/index.html)\n",
    "* [European Aerosol Research Lidar Network (EARLINET) - Backscatter profiles](https://www.earlinet.org/index.php?id=earlinet_homepage)\n",
    "* [European Environment Agency Air Quality Data](https://www.eea.europa.eu/data-and-maps/data/aqereporting-9)"
   ]
  },
  {
   "cell_type": "markdown",
   "metadata": {},
   "source": [
    "### Model-based data\n",
    "* [WMO SDS-WAS Dust Forecast - MONARCH](https://sds-was.aemet.es/)\n",
    "* [CAMS Global atmospheric composition forecasts](https://ads.atmosphere.copernicus.eu/cdsapp#!/dataset/cams-global-atmospheric-composition-forecasts?tab=overview)\n",
    "* [CAMS European Air Quality Forecasts](https://ads.atmosphere.copernicus.eu/cdsapp#!/dataset/cams-europe-air-quality-forecasts?tab=overview)"
   ]
  },
  {
   "cell_type": "markdown",
   "metadata": {},
   "source": [
    "<br>"
   ]
  },
  {
   "cell_type": "markdown",
   "metadata": {},
   "source": [
    "## Notebook overview\n",
    "\n",
    "#### Day 2: Introduction to satellite data \n",
    "\n",
    "* [11 - Sentinel-5P TROPOMI Ultraviolet Aerosol Index Level 2](./01_satellite-based_data/11_Sentinel-5P_TROPOMI_AI_L2_load_browse.ipynb)\n",
    "* [12 - Polar Multi-Sensor Aerosol Optical Properties (PMAp) Product - Aerosol Optical Depth](./01_satellite-based_data/12_PMAp_AOD_L2_load_browse.ipynb)\n",
    "* [13 - Metop-ABC GOME-2 Absorbing Aerosol Index Level 3](./01_satellite-based_data/13_Metop-ABC_GOME-2_AAI_L3_load_browse.ipynb)\n",
    "* [14 - Meteosat Second Generation SEVIRI Level 1 true colour and dust RGB](./01_satellite-based_data/14_MSG_dust_product_L1_load_browse.ipynb)\n",
    "* [15 - MODIS Level 2 10 km aerosol product](./01_satellite-based_data/15_MODIS_10km_aerosol_product_L2_load_browse.ipynb)\n",
    "* [16 - MODIS Level 1B true color and dust RGB](./01_satellite-based_data/16_MODIS_L1B_RGB_load_browse.ipynb)\n",
    "\n",
    "\n",
    "\n",
    "#### Day 3: Introduction to ground-based observations\n",
    "* [21 - AERONET - AErosol RObotic NETwork](./02_ground-based_observations/21_AERONET.ipynb)\n",
    "* [22 - European Aerosol Research Lidar Network (EARLINET) - Backscatter profiles](./02_ground-based_observations/22_EARLINET.ipynb)\n",
    "* [23 - European Environment Agency Air Quality Data](./02_ground-based_observations/23_EEA_Air_Quality.ipynb)\n",
    "\n",
    "#### Day 4: Introduction to model-based data\n",
    "* [31 - WMO SDS-WAS - Dust Forecast - MONARCH](./03_model-based_data/31_SDS-WAS_MONARCH_dust_forecast.ipynb)\n",
    "* [32 - CAMS global atmospheric composition forecast - Dust Aerosol Optical Depth](./03_model-based_data/32_CAMS_global_forecast_duaod_load_browse.ipynb)\n",
    "* [33 - CAMS European Air Quality Forecasts - Dust concentration](./03_model-based_data/33_CAMS_European_air_quality_forecast_dust_concentration_load_browse.ipynb)\n",
    "\n"
   ]
  },
  {
   "cell_type": "markdown",
   "metadata": {},
   "source": [
    "<br>"
   ]
  },
  {
   "cell_type": "markdown",
   "metadata": {},
   "source": [
    "\n",
    "**NOTE:** Throughout the course, general functions to `load`, `re-shape`, `process` and `visualize` the datasets are defined. These functions are re-used when applicable. The [functions notebook](./functions.ipynb) gives you an overview of useful functions defined."
   ]
  },
  {
   "cell_type": "markdown",
   "metadata": {},
   "source": [
    "<hr>"
   ]
  },
  {
   "cell_type": "markdown",
   "metadata": {
    "Collapsed": "false"
   },
   "source": [
    "## Learning outcomes"
   ]
  },
  {
   "cell_type": "markdown",
   "metadata": {
    "Collapsed": "false"
   },
   "source": [
    "The course is designed for `beginners and medium-level users`, who have basic Python knowledge.\n",
    "\n",
    "After the course, you should have:\n",
    "* an idea about **satellite and assimilated data products and observation data for dust monitoring**,\n",
    "* knowledge about the most useful **Python packages** to handle, process and visualise atmospheric composition data\n",
    "* an idea about how the **data can help to detect and monitor dust events**"
   ]
  },
  {
   "cell_type": "markdown",
   "metadata": {
    "Collapsed": "false"
   },
   "source": [
    "<hr>"
   ]
  },
  {
   "cell_type": "markdown",
   "metadata": {
    "Collapsed": "false"
   },
   "source": [
    "## Access to the training platform"
   ]
  },
  {
   "cell_type": "markdown",
   "metadata": {
    "Collapsed": "false"
   },
   "source": [
    "The course material is made available on a JupyterLab training platform, a pre-defined environment that gives learners direct access to the data and Python packages required for following the course.\n",
    "\n",
    "The `JupyterLab` can be accessed as follows:"
   ]
  },
  {
   "cell_type": "markdown",
   "metadata": {
    "Collapsed": "false"
   },
   "source": [
    "* Web address: [https://training.ltpy.adamplatform.eu](https://training.ltpy.adamplatform.eu)\n",
    "* Create an account: [https://login.ltpy.adamplatform.eu](https://login.ltpy.adamplatform.eu)\n",
    "* Log into the `JupyterLab` with your account created."
   ]
  },
  {
   "cell_type": "markdown",
   "metadata": {},
   "source": [
    "**NOTE**: Access will be granted to the first 100 registrations on a first come, first serve basis."
   ]
  },
  {
   "cell_type": "markdown",
   "metadata": {
    "Collapsed": "false"
   },
   "source": [
    "<hr>"
   ]
  },
  {
   "cell_type": "markdown",
   "metadata": {
    "Collapsed": "false"
   },
   "source": [
    "<img src='../../img/copernicus_logo.png' alt='Logo EU Copernicus' align='right' width='20%'><br><br><br><br>\n",
    "\n",
    "\n",
    "\n",
    "<p style=\"text-align:right;\">This project is licensed under the <a href=\"./LICENSE\">MIT License</a> and is developed under a Copernicus contract."
   ]
  }
 ],
 "metadata": {
  "kernelspec": {
   "display_name": "Python 3",
   "language": "python",
   "name": "python3"
  },
  "language_info": {
   "codemirror_mode": {
    "name": "ipython",
    "version": 3
   },
   "file_extension": ".py",
   "mimetype": "text/x-python",
   "name": "python",
   "nbconvert_exporter": "python",
   "pygments_lexer": "ipython3",
   "version": "3.8.6"
  }
 },
 "nbformat": 4,
 "nbformat_minor": 4
}
