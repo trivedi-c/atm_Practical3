{
 "cells": [
  {
   "cell_type": "markdown",
   "metadata": {
    "Collapsed": "false"
   },
   "source": [
    "<img src='../../../img/EU-Copernicus-EUM_3Logos.png' alt='Logo EU Copernicus EUMETSAT' align='right' width='50%'></img>\n",
    "<br>"
   ]
  },
  {
   "cell_type": "markdown",
   "metadata": {
    "Collapsed": "false"
   },
   "source": [
    "<br>"
   ]
  },
  {
   "cell_type": "markdown",
   "metadata": {},
   "source": [
    "# Module on Dust Aerosol Detection and Monitoring"
   ]
  },
  {
   "cell_type": "markdown",
   "metadata": {},
   "source": [
    "This module is a self-contained training on satellite-, model- and groundbased data for dust monitoring and forecasting. The module provides introductory notebooks for different satellite-, model- and ground-based datasets and a practical assignment part, where learners are encouraged to actively complete the tasks and assignments provided.\n",
    "\n",
    "The module can be used as a self-paced tutorial and as material for online/in-person training activities."
   ]
  },
  {
   "cell_type": "markdown",
   "metadata": {
    "Collapsed": "false"
   },
   "source": [
    "The course is split in four parts:\n",
    "* **Part 1-3: Introduction and data discovery**\n",
    "  * Practical data discovery notebooks that provide an overview of key satellite, ground-based and model products for dust forecasting and monitoring\n",
    "* **Part 4: Practical assignments**\n",
    "  * Practical case studies and exercises\n",
    "  * Perform an analysis with multiple datasets on a real world dust event\n",
    "\n",
    "*Note: 'Part 4 - Practical Assignments' has `assignment` and `practicals` notebooks. The principle of those notebooks are the same. The only difference is that in a class-room / online training course, the `practical` notebooks are conducted during the course, while the learners shall work on the assignments on their own.*\n"
   ]
  },
  {
   "cell_type": "markdown",
   "metadata": {
    "Collapsed": "false"
   },
   "source": [
    "##  Featured data"
   ]
  },
  {
   "cell_type": "markdown",
   "metadata": {
    "Collapsed": "false"
   },
   "source": [
    "#### Satellite data\n",
    "\n",
    "* [Sentinel-5P TROPOMI Level 2 Ultraviolet Aerosol Index](https://sentinels.copernicus.eu/web/sentinel/data-products/-/asset_publisher/fp37fc19FN8F/content/sentinel-5-precursor-level-2-ultraviolet-aerosol-index)\n",
    "* [Polar Multi-Sensor Aerosol Optical Properties (PMAp) Product](https://www.eumetsat.int/media/45738)\n",
    "* [AC SAF GOME-2 Level 3 Absorbing Aerosol Index](https://acsaf.org/docs/pum/Product_User_Manual_NAR_NAP_ARS_ARP_Apr_2020.pdf)\n",
    "* [Meteosat Second Generationg L1 true color and dust RGB](https://www.eumetsat.int/0-degree-service)\n",
    "* [MODIS 10km Level 2 Aerosol product](https://ladsweb.modaps.eosdis.nasa.gov/missions-and-measurements/science-domain/aerosol/)\n",
    "* [MODIS L1B true color and dust RGB](https://ladsweb.modaps.eosdis.nasa.gov/missions-and-measurements/products/MOD021KM#overview)\n"
   ]
  },
  {
   "cell_type": "markdown",
   "metadata": {},
   "source": [
    "#### Observation data\n",
    "\n",
    "* [AERONET - AErosol RObotic NETwork](https://aeronet.gsfc.nasa.gov/new_web/index.html)\n",
    "* [European Aerosol Research Lidar Network (EARLINET) - Backscatter profiles](https://www.earlinet.org/index.php?id=earlinet_homepage)\n",
    "* [European Environment Agency Air Quality Data](https://www.eea.europa.eu/data-and-maps/data/aqereporting-9)"
   ]
  },
  {
   "cell_type": "markdown",
   "metadata": {},
   "source": [
    "#### Model-based data\n",
    "* [WMO SDS-WAS Dust Forecast - MONARCH](https://sds-was.aemet.es/)\n",
    "* [CAMS Global atmospheric composition forecasts](https://ads.atmosphere.copernicus.eu/cdsapp#!/dataset/cams-global-atmospheric-composition-forecasts?tab=overview)\n",
    "* [CAMS European Air Quality Forecasts](https://ads.atmosphere.copernicus.eu/cdsapp#!/dataset/cams-europe-air-quality-forecasts?tab=overview)"
   ]
  },
  {
   "cell_type": "markdown",
   "metadata": {},
   "source": [
    "<br>"
   ]
  },
  {
   "cell_type": "markdown",
   "metadata": {},
   "source": [
    "## Module overview\n",
    "\n",
    "#### 01 - Introduction to satellite data \n",
    "\n",
    "* [11 - Sentinel-5P TROPOMI Ultraviolet Aerosol Index Level 2](./01_satellite-based_data/11_Sentinel-5P_TROPOMI_AI_L2_load_browse.ipynb)\n",
    "* [12 - Polar Multi-Sensor Aerosol Optical Properties (PMAp) Product - Aerosol Optical Depth](./01_satellite-based_data/12_PMAp_AOD_L2_load_browse.ipynb)\n",
    "* [13 - Metop-ABC GOME-2 Absorbing Aerosol Index Level 3](./01_satellite-based_data/13_Metop-ABC_GOME-2_AAI_L3_load_browse.ipynb)\n",
    "* [14 - Meteosat Second Generation SEVIRI Level 1 true colour and dust RGB](./01_satellite-based_data/14_MSG_dust_product_L1_load_browse.ipynb)\n",
    "* [15 - MODIS Level 2 10 km aerosol product](./01_satellite-based_data/15_MODIS_10km_aerosol_product_L2_load_browse.ipynb)\n",
    "* [16 - MODIS Level 1B true color and dust RGB](./01_satellite-based_data/16_MODIS_L1B_RGB_load_browse.ipynb)\n",
    "\n",
    "#### 02 - Introduction to ground-based observations\n",
    "* [21 - AERONET - AErosol RObotic NETwork](./02_ground-based_observations/21_AERONET.ipynb)\n",
    "* [22 - European Aerosol Research Lidar Network (EARLINET) - Backscatter profiles](./02_ground-based_observations/22_EARLINET.ipynb)\n",
    "* [23 - European Environment Agency Air Quality Data](./02_ground-based_observations/23_EEA_Air_Quality.ipynb)\n",
    "\n",
    "#### 03 - Introduction to model-based data\n",
    "* [31 - WMO SDS-WAS - Dust Forecast - MONARCH](./03_model-based_data/31_SDS-WAS_MONARCH_dust_forecast.ipynb)\n",
    "* [32 - CAMS global atmospheric composition forecast - Dust Aerosol Optical Depth](./03_model-based_data/32_CAMS_global_forecast_duaod_load_browse.ipynb)\n",
    "* [33 - CAMS European Air Quality Forecasts - Dust concentration](./03_model-based_data/33_CAMS_European_air_quality_forecast_dust_concentration_load_browse.ipynb)\n",
    "\n",
    "#### 04 - Practical assignments\n",
    "* [01 - Practicals](./04_assignments/01_practicals.ipynb)\n",
    "* [02 - Assignment](./04_assignments/02_assignment.ipynb)\n",
    "* [03 - Practicals](./04_assignments/03_practicals.ipynb)\n",
    "* [04 - Assignment](./04_assignments/04_assignment.ipynb)\n",
    "* [05 - Practicals](./04_assignments/05_practicals.ipynb)\n"
   ]
  },
  {
   "cell_type": "markdown",
   "metadata": {},
   "source": [
    "\n",
    "**NOTE:** Throughout the course, general functions to `load`, `re-shape`, `process` and `visualize` the datasets are defined. These functions are re-used when applicable. The [functions notebook](./functions.ipynb) gives you an overview of useful functions defined."
   ]
  },
  {
   "cell_type": "markdown",
   "metadata": {},
   "source": [
    "<hr>"
   ]
  },
  {
   "cell_type": "markdown",
   "metadata": {
    "Collapsed": "false"
   },
   "source": [
    "## Learning outcomes"
   ]
  },
  {
   "cell_type": "markdown",
   "metadata": {
    "Collapsed": "false"
   },
   "source": [
    "The course is designed for `beginners and medium-level users`, who have basic Python knowledge.\n",
    "\n",
    "After the course, you should have:\n",
    "* an idea about **satellite-, model-based and ground-based data products for dust monitoring and forecasting**,\n",
    "* knowledge about the most useful **Python packages** to handle, process and visualise atmospheric composition data\n",
    "* an idea about how the **data can help to detect and monitor dust events**"
   ]
  },
  {
   "cell_type": "markdown",
   "metadata": {
    "Collapsed": "false"
   },
   "source": [
    "<hr>"
   ]
  },
  {
   "cell_type": "markdown",
   "metadata": {
    "Collapsed": "false"
   },
   "source": [
    "<img src='../../img/copernicus_logo.png' alt='Logo EU Copernicus' align='right' width='20%'><br><br><br><br>\n",
    "\n",
    "\n",
    "\n",
    "<p style=\"text-align:right;\">This project is licensed under the <a href=\"./LICENSE\">MIT License</a> and is developed under a Copernicus contract."
   ]
  }
 ],
 "metadata": {
  "kernelspec": {
   "display_name": "Python 3",
   "language": "python",
   "name": "python3"
  },
  "language_info": {
   "codemirror_mode": {
    "name": "ipython",
    "version": 3
   },
   "file_extension": ".py",
   "mimetype": "text/x-python",
   "name": "python",
   "nbconvert_exporter": "python",
   "pygments_lexer": "ipython3",
   "version": "3.8.6"
  }
 },
 "nbformat": 4,
 "nbformat_minor": 4
}
